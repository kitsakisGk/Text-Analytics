{
  "cells": [
    {
      "cell_type": "markdown",
      "source": [
        "# EXERCISE 2: CONVOLUTIONAL NEURAL NETWORKS WITH N-GRAM FILTERS\n",
        "Text Classification with CNNs, Residual Connections, and Self-Attention"
      ],
      "metadata": {
        "id": "G5G-Wf1KubEt"
      },
      "id": "G5G-Wf1KubEt"
    },
    {
      "cell_type": "code",
      "execution_count": null,
      "id": "251a3651-b76f-483d-996e-e002f2c5c53c",
      "metadata": {
        "colab": {
          "base_uri": "https://localhost:8080/",
          "height": 1000
        },
        "id": "251a3651-b76f-483d-996e-e002f2c5c53c",
        "outputId": "8f4d77ba-c04e-49fa-deb7-557aa1926947"
      },
      "outputs": [
        {
          "output_type": "stream",
          "name": "stdout",
          "text": [
            "Found existing installation: numpy 2.0.2\n",
            "Uninstalling numpy-2.0.2:\n",
            "  Successfully uninstalled numpy-2.0.2\n",
            "Found existing installation: scipy 1.15.3\n",
            "Uninstalling scipy-1.15.3:\n",
            "  Successfully uninstalled scipy-1.15.3\n",
            "\u001b[33mWARNING: Skipping gensim as it is not installed.\u001b[0m\u001b[33m\n",
            "\u001b[0mCollecting numpy==1.24.3\n",
            "  Downloading numpy-1.24.3-cp311-cp311-manylinux_2_17_x86_64.manylinux2014_x86_64.whl.metadata (5.6 kB)\n",
            "Downloading numpy-1.24.3-cp311-cp311-manylinux_2_17_x86_64.manylinux2014_x86_64.whl (17.3 MB)\n",
            "\u001b[2K   \u001b[90m━━━━━━━━━━━━━━━━━━━━━━━━━━━━━━━━━━━━━━━━\u001b[0m \u001b[32m17.3/17.3 MB\u001b[0m \u001b[31m80.5 MB/s\u001b[0m eta \u001b[36m0:00:00\u001b[0m\n",
            "\u001b[?25hInstalling collected packages: numpy\n",
            "\u001b[31mERROR: pip's dependency resolver does not currently take into account all the packages that are installed. This behaviour is the source of the following dependency conflicts.\n",
            "umap-learn 0.5.7 requires scipy>=1.3.1, which is not installed.\n",
            "plotnine 0.14.5 requires scipy>=1.8.0, which is not installed.\n",
            "cvxpy 1.6.5 requires scipy>=1.11.0, which is not installed.\n",
            "osqp 1.0.4 requires scipy>=0.13.2, which is not installed.\n",
            "mlxtend 0.23.4 requires scipy>=1.2.1, which is not installed.\n",
            "pynndescent 0.5.13 requires scipy>=1.0, which is not installed.\n",
            "hdbscan 0.8.40 requires scipy>=1.0, which is not installed.\n",
            "clarabel 0.11.0 requires scipy, which is not installed.\n",
            "librosa 0.11.0 requires scipy>=1.6.0, which is not installed.\n",
            "arviz 0.21.0 requires scipy>=1.9.0, which is not installed.\n",
            "xarray-einstats 0.9.0 requires scipy>=1.11, which is not installed.\n",
            "datascience 0.17.6 requires scipy, which is not installed.\n",
            "mizani 0.13.5 requires scipy>=1.8.0, which is not installed.\n",
            "pymc 5.23.0 requires scipy>=1.4.1, which is not installed.\n",
            "sklearn-pandas 2.2.0 requires scipy>=1.5.1, which is not installed.\n",
            "cuml-cu12 25.2.1 requires scipy>=1.8.0, which is not installed.\n",
            "imbalanced-learn 0.13.0 requires scipy<2,>=1.10.1, which is not installed.\n",
            "tsfresh 0.21.0 requires scipy>=1.14.0; python_version >= \"3.10\", which is not installed.\n",
            "hyperopt 0.2.7 requires scipy, which is not installed.\n",
            "libpysal 4.13.0 requires scipy>=1.8, which is not installed.\n",
            "fastai 2.7.19 requires scipy, which is not installed.\n",
            "stumpy 1.13.0 requires scipy>=1.10, which is not installed.\n",
            "scikit-learn 1.6.1 requires scipy>=1.6.0, which is not installed.\n",
            "xgboost 2.1.4 requires scipy, which is not installed.\n",
            "shap 0.47.2 requires scipy, which is not installed.\n",
            "yellowbrick 1.5 requires scipy>=1.0.0, which is not installed.\n",
            "statsmodels 0.14.4 requires scipy!=1.9.2,>=1.8, which is not installed.\n",
            "jaxlib 0.5.1 requires scipy>=1.11.1, which is not installed.\n",
            "jax 0.5.2 requires scipy>=1.11.1, which is not installed.\n",
            "pytensor 2.31.2 requires scipy<2,>=1, which is not installed.\n",
            "treelite 4.4.1 requires scipy, which is not installed.\n",
            "lightgbm 4.5.0 requires scipy, which is not installed.\n",
            "scikit-image 0.25.2 requires scipy>=1.11.4, which is not installed.\n",
            "albumentations 2.0.8 requires scipy>=1.10.0, which is not installed.\n",
            "missingno 0.5.2 requires scipy, which is not installed.\n",
            "matplotlib-venn 1.1.2 requires scipy, which is not installed.\n",
            "scs 3.2.7.post2 requires scipy, which is not installed.\n",
            "thinc 8.3.6 requires numpy<3.0.0,>=2.0.0, but you have numpy 1.24.3 which is incompatible.\n",
            "treescope 0.1.9 requires numpy>=1.25.2, but you have numpy 1.24.3 which is incompatible.\n",
            "xarray-einstats 0.9.0 requires numpy>=1.25, but you have numpy 1.24.3 which is incompatible.\n",
            "pymc 5.23.0 requires numpy>=1.25.0, but you have numpy 1.24.3 which is incompatible.\n",
            "jaxlib 0.5.1 requires numpy>=1.25, but you have numpy 1.24.3 which is incompatible.\n",
            "blosc2 3.3.4 requires numpy>=1.26, but you have numpy 1.24.3 which is incompatible.\n",
            "jax 0.5.2 requires numpy>=1.25, but you have numpy 1.24.3 which is incompatible.\n",
            "tensorflow 2.18.0 requires numpy<2.1.0,>=1.26.0, but you have numpy 1.24.3 which is incompatible.\n",
            "albumentations 2.0.8 requires numpy>=1.24.4, but you have numpy 1.24.3 which is incompatible.\n",
            "albucore 0.0.24 requires numpy>=1.24.4, but you have numpy 1.24.3 which is incompatible.\u001b[0m\u001b[31m\n",
            "\u001b[0mSuccessfully installed numpy-1.24.3\n"
          ]
        },
        {
          "output_type": "display_data",
          "data": {
            "application/vnd.colab-display-data+json": {
              "pip_warning": {
                "packages": [
                  "numpy"
                ]
              },
              "id": "d1867e13fd0d407e80e45a54852e3efe"
            }
          },
          "metadata": {}
        },
        {
          "output_type": "stream",
          "name": "stdout",
          "text": [
            "Collecting scipy==1.11.3\n",
            "  Downloading scipy-1.11.3-cp311-cp311-manylinux_2_17_x86_64.manylinux2014_x86_64.whl.metadata (60 kB)\n",
            "\u001b[?25l     \u001b[90m━━━━━━━━━━━━━━━━━━━━━━━━━━━━━━━━━━━━━━━━\u001b[0m \u001b[32m0.0/60.4 kB\u001b[0m \u001b[31m?\u001b[0m eta \u001b[36m-:--:--\u001b[0m\r\u001b[2K     \u001b[90m━━━━━━━━━━━━━━━━━━━━━━━━━━━━━━━━━━━━━━━━\u001b[0m \u001b[32m60.4/60.4 kB\u001b[0m \u001b[31m3.6 MB/s\u001b[0m eta \u001b[36m0:00:00\u001b[0m\n",
            "\u001b[?25hRequirement already satisfied: numpy<1.28.0,>=1.21.6 in /usr/local/lib/python3.11/dist-packages (from scipy==1.11.3) (1.24.3)\n",
            "Downloading scipy-1.11.3-cp311-cp311-manylinux_2_17_x86_64.manylinux2014_x86_64.whl (36.4 MB)\n",
            "\u001b[2K   \u001b[90m━━━━━━━━━━━━━━━━━━━━━━━━━━━━━━━━━━━━━━━━\u001b[0m \u001b[32m36.4/36.4 MB\u001b[0m \u001b[31m19.3 MB/s\u001b[0m eta \u001b[36m0:00:00\u001b[0m\n",
            "\u001b[?25hInstalling collected packages: scipy\n",
            "\u001b[31mERROR: pip's dependency resolver does not currently take into account all the packages that are installed. This behaviour is the source of the following dependency conflicts.\n",
            "xarray-einstats 0.9.0 requires numpy>=1.25, but you have numpy 1.24.3 which is incompatible.\n",
            "pymc 5.23.0 requires numpy>=1.25.0, but you have numpy 1.24.3 which is incompatible.\n",
            "tsfresh 0.21.0 requires scipy>=1.14.0; python_version >= \"3.10\", but you have scipy 1.11.3 which is incompatible.\n",
            "jaxlib 0.5.1 requires numpy>=1.25, but you have numpy 1.24.3 which is incompatible.\n",
            "jax 0.5.2 requires numpy>=1.25, but you have numpy 1.24.3 which is incompatible.\n",
            "scikit-image 0.25.2 requires scipy>=1.11.4, but you have scipy 1.11.3 which is incompatible.\n",
            "albumentations 2.0.8 requires numpy>=1.24.4, but you have numpy 1.24.3 which is incompatible.\u001b[0m\u001b[31m\n",
            "\u001b[0mSuccessfully installed scipy-1.11.3\n",
            "Collecting gensim==4.3.2\n",
            "  Downloading gensim-4.3.2-cp311-cp311-manylinux_2_17_x86_64.manylinux2014_x86_64.whl.metadata (8.3 kB)\n",
            "Requirement already satisfied: numpy>=1.18.5 in /usr/local/lib/python3.11/dist-packages (from gensim==4.3.2) (1.24.3)\n",
            "Requirement already satisfied: scipy>=1.7.0 in /usr/local/lib/python3.11/dist-packages (from gensim==4.3.2) (1.11.3)\n",
            "Requirement already satisfied: smart-open>=1.8.1 in /usr/local/lib/python3.11/dist-packages (from gensim==4.3.2) (7.1.0)\n",
            "Requirement already satisfied: wrapt in /usr/local/lib/python3.11/dist-packages (from smart-open>=1.8.1->gensim==4.3.2) (1.17.2)\n",
            "Downloading gensim-4.3.2-cp311-cp311-manylinux_2_17_x86_64.manylinux2014_x86_64.whl (26.7 MB)\n",
            "\u001b[2K   \u001b[90m━━━━━━━━━━━━━━━━━━━━━━━━━━━━━━━━━━━━━━━━\u001b[0m \u001b[32m26.7/26.7 MB\u001b[0m \u001b[31m88.2 MB/s\u001b[0m eta \u001b[36m0:00:00\u001b[0m\n",
            "\u001b[?25hInstalling collected packages: gensim\n",
            "Successfully installed gensim-4.3.2\n"
          ]
        }
      ],
      "source": [
        "# !pip uninstall -y numpy scipy gensim\n",
        "# !pip install numpy==1.24.3\n",
        "# !pip install scipy==1.11.3\n",
        "# !pip install gensim==4.3.2"
      ]
    },
    {
      "cell_type": "markdown",
      "source": [
        "## Environment Setup & Libraries\n",
        "Setting up required libraries and checking GPU availability."
      ],
      "metadata": {
        "id": "L1EiAr9luj60"
      },
      "id": "L1EiAr9luj60"
    },
    {
      "cell_type": "code",
      "execution_count": null,
      "id": "8ef3651c-cc5c-4080-a40e-8d8cb7755dc2",
      "metadata": {
        "colab": {
          "base_uri": "https://localhost:8080/"
        },
        "id": "8ef3651c-cc5c-4080-a40e-8d8cb7755dc2",
        "outputId": "73cd686c-8eb8-476e-efeb-d1b757a8aff2"
      },
      "outputs": [
        {
          "output_type": "stream",
          "name": "stderr",
          "text": [
            "[nltk_data] Downloading package punkt to /root/nltk_data...\n",
            "[nltk_data]   Unzipping tokenizers/punkt.zip.\n",
            "[nltk_data] Downloading package stopwords to /root/nltk_data...\n",
            "[nltk_data]   Unzipping corpora/stopwords.zip.\n",
            "[nltk_data] Downloading package punkt_tab to /root/nltk_data...\n",
            "[nltk_data]   Unzipping tokenizers/punkt_tab.zip.\n"
          ]
        },
        {
          "output_type": "execute_result",
          "data": {
            "text/plain": [
              "True"
            ]
          },
          "metadata": {},
          "execution_count": 1
        }
      ],
      "source": [
        "# Core libraries\n",
        "import os\n",
        "import io\n",
        "import string\n",
        "import copy\n",
        "import numpy as np\n",
        "import pandas as pd\n",
        "import matplotlib.pyplot as plt\n",
        "from tqdm import tqdm\n",
        "\n",
        "# Utility data structures\n",
        "from collections import defaultdict, Counter\n",
        "\n",
        "# Natural Language Processing (NLP)\n",
        "import nltk\n",
        "from nltk.corpus import stopwords\n",
        "from nltk.tokenize import sent_tokenize, word_tokenize\n",
        "from sklearn.feature_extraction.text import CountVectorizer, TfidfVectorizer\n",
        "import gensim.downloader as api\n",
        "\n",
        "# Data preprocessing & evaluation\n",
        "from sklearn.model_selection import train_test_split, ParameterGrid\n",
        "from sklearn.metrics import (\n",
        "    accuracy_score, precision_score, recall_score,\n",
        "    f1_score, precision_recall_curve, auc\n",
        ")\n",
        "\n",
        "# PyTorch\n",
        "import torch\n",
        "import torch.nn as nn\n",
        "import torch.optim as optim\n",
        "from torch.utils.data import TensorDataset, DataLoader, Dataset\n",
        "\n",
        "# Downloading data from the web\n",
        "import requests\n",
        "import gzip\n",
        "\n",
        "# Download required NLTK resources\n",
        "nltk.download('punkt')\n",
        "nltk.download('stopwords')\n",
        "nltk.download('punkt_tab')"
      ]
    },
    {
      "cell_type": "code",
      "execution_count": null,
      "id": "d907ae0c-653e-404f-8f3b-d204b3cc4245",
      "metadata": {
        "colab": {
          "base_uri": "https://localhost:8080/"
        },
        "id": "d907ae0c-653e-404f-8f3b-d204b3cc4245",
        "outputId": "72a32ce1-2de8-4027-92cb-023b73eef32f"
      },
      "outputs": [
        {
          "output_type": "stream",
          "name": "stdout",
          "text": [
            "Using device: cuda\n"
          ]
        }
      ],
      "source": [
        "# Device setup\n",
        "device = torch.device('cuda' if torch.cuda.is_available() else 'cpu')\n",
        "print(f\"Using device: {device}\")"
      ]
    },
    {
      "cell_type": "markdown",
      "source": [
        "## Dataset Loading & Preprocessing\n",
        "### IMDB Movie Reviews Dataset\n",
        "Loading the IMDB dataset for binary sentiment classification (50K reviews)."
      ],
      "metadata": {
        "id": "yNcfwpIKun80"
      },
      "id": "yNcfwpIKun80"
    },
    {
      "cell_type": "code",
      "execution_count": null,
      "id": "3ef88cab-4fa7-48e1-b203-302e7bec36b6",
      "metadata": {
        "id": "3ef88cab-4fa7-48e1-b203-302e7bec36b6"
      },
      "outputs": [],
      "source": [
        "def download_movie_reviews_dataset():\n",
        "    print(\"Downloading IMDB Large Movie Review Dataset...\")\n",
        "    url = \"https://ai.stanford.edu/~amaas/data/sentiment/aclImdb_v1.tar.gz\"\n",
        "    response = requests.get(url, stream=True)\n",
        "    compressed_file = io.BytesIO(response.content)\n",
        "\n",
        "    with gzip.open(compressed_file, 'rb') as f_in:\n",
        "        with open('aclImdb_v1.tar', 'wb') as f_out:\n",
        "            f_out.write(f_in.read())\n",
        "\n",
        "    import tarfile\n",
        "    with tarfile.open('aclImdb_v1.tar', 'r') as tar:\n",
        "        tar.extractall()\n",
        "    os.remove('aclImdb_v1.tar')\n",
        "\n",
        "    def load_reviews(directory, label):\n",
        "        reviews = []\n",
        "        for filename in os.listdir(directory):\n",
        "            if filename.endswith('.txt'):\n",
        "                with open(os.path.join(directory, filename), 'r', encoding='utf-8') as f:\n",
        "                    reviews.append((f.read(), label))\n",
        "        return reviews\n",
        "\n",
        "    positive_train = load_reviews('aclImdb/train/pos', 'positive')\n",
        "    negative_train = load_reviews('aclImdb/train/neg', 'negative')\n",
        "    positive_test = load_reviews('aclImdb/test/pos', 'positive')\n",
        "    negative_test = load_reviews('aclImdb/test/neg', 'negative')\n",
        "\n",
        "    all_data = positive_train + negative_train + positive_test + negative_test\n",
        "    df = pd.DataFrame(all_data, columns=['text', 'sentiment'])\n",
        "    df = df.sample(frac=1, random_state=42).reset_index(drop=True)\n",
        "\n",
        "    print(f\"Dataset loaded! Total samples: {len(df)}\")\n",
        "    return df\n",
        "\n",
        "# Load dataset\n",
        "df = download_movie_reviews_dataset()"
      ]
    },
    {
      "cell_type": "markdown",
      "source": [
        "### Data Splitting and Statistics\n",
        "Splitting into train/test sets and analyzing dataset characteristics."
      ],
      "metadata": {
        "id": "s7jPTFpbuy10"
      },
      "id": "s7jPTFpbuy10"
    },
    {
      "cell_type": "code",
      "execution_count": null,
      "id": "48648cbd-a2db-4739-94b9-9ccbad2d4ae9",
      "metadata": {
        "colab": {
          "base_uri": "https://localhost:8080/"
        },
        "id": "48648cbd-a2db-4739-94b9-9ccbad2d4ae9",
        "outputId": "f26855f7-7b28-4eb9-bb23-cb48c19ac2e4"
      },
      "outputs": [
        {
          "output_type": "stream",
          "name": "stdout",
          "text": [
            "Downloading IMDB Large Movie Review Dataset...\n",
            "Dataset loaded! Total samples: 50000\n",
            "Training set size: 35000\n",
            "Test set size: 15000\n"
          ]
        }
      ],
      "source": [
        "train_data, test_data = train_test_split(df, test_size=0.3, random_state=42, stratify=df['sentiment'])\n",
        "\n",
        "print(f\"Training set size: {len(train_data)}\")\n",
        "print(f\"Test set size: {len(test_data)}\")"
      ]
    },
    {
      "cell_type": "code",
      "execution_count": null,
      "id": "363bc4b7-525c-46cb-84e2-7750b6e3a5b3",
      "metadata": {
        "id": "363bc4b7-525c-46cb-84e2-7750b6e3a5b3"
      },
      "outputs": [],
      "source": [
        "def tokenize(data):\n",
        "    stop_words = stopwords.words('english')\n",
        "    stop_words.extend(string.punctuation)\n",
        "    stop_words.extend([\"the\", \"of\", \"and\", \"as\", \"a\", \"to\", \"in\", \"on\", \"for\"])\n",
        "    tokenized_samples = []\n",
        "    for sample in data:\n",
        "        tokens = []\n",
        "        sentences = sent_tokenize(sample)\n",
        "        for sent in sentences:\n",
        "            words = word_tokenize(sent)\n",
        "            for word in words:\n",
        "                if '\\n' in word or \"\\t\" in word or \"--\" in word or \"*\" in word or \"@\" in word or \"#\" in word or word.lower() in stop_words:\n",
        "                    continue\n",
        "                if word.strip():\n",
        "                    tokens.append(word.replace('\"', \"'\").strip().lower())\n",
        "        tokenized_samples.append(tokens)\n",
        "    return tokenized_samples"
      ]
    },
    {
      "cell_type": "markdown",
      "source": [
        "### Text Preprocessing Pipeline\n",
        "- Tokenization using NLTK\n",
        "- Stopword and punctuation removal  \n",
        "- Lowercasing and normalization"
      ],
      "metadata": {
        "id": "HkZKTteIu4N0"
      },
      "id": "HkZKTteIu4N0"
    },
    {
      "cell_type": "markdown",
      "source": [
        "## Baseline Classifier Implementation\n",
        "Simple word-sentiment mapping baseline using TF-IDF features for comparison."
      ],
      "metadata": {
        "id": "HMGx2Av7u8Nc"
      },
      "id": "HMGx2Av7u8Nc"
    },
    {
      "cell_type": "code",
      "execution_count": null,
      "id": "ceca1abd-7e1c-4e95-92d9-79f72609f8c2",
      "metadata": {
        "id": "ceca1abd-7e1c-4e95-92d9-79f72609f8c2"
      },
      "outputs": [],
      "source": [
        "# BASELINE CLASSIFIER (for comparison)\n",
        "# ====================================================================\n",
        "\n",
        "class BaselineSentimentClassifier:\n",
        "    def __init__(self):\n",
        "        self.word_to_sentiment = {}\n",
        "        self.most_common_sentiment = None\n",
        "        self.feature_names = None\n",
        "\n",
        "    def train(self, X_train, y_train, feature_names=None):\n",
        "        self.feature_names = feature_names\n",
        "        sentiment_counts = Counter(y_train)\n",
        "        self.most_common_sentiment = sentiment_counts.most_common(1)[0][0]\n",
        "\n",
        "        if self.feature_names is not None:\n",
        "            for i, feature in enumerate(self.feature_names):\n",
        "                feature_col = X_train[:, i].toarray().flatten() if hasattr(X_train, 'toarray') else X_train[:, i]\n",
        "                sentiment_counts = defaultdict(int)\n",
        "                for sample_idx, value in enumerate(feature_col):\n",
        "                    if value > 0:\n",
        "                        sentiment_counts[y_train[sample_idx]] += 1\n",
        "                if sentiment_counts:\n",
        "                    self.word_to_sentiment[feature] = max(sentiment_counts.items(), key=lambda x: x[1])[0]\n",
        "\n",
        "    def predict(self, X_test):\n",
        "        predictions = []\n",
        "        if self.feature_names is None:\n",
        "            return np.full(X_test.shape[0], self.most_common_sentiment)\n",
        "\n",
        "        for i in range(X_test.shape[0]):\n",
        "            sample = X_test[i].toarray().flatten() if hasattr(X_test, 'toarray') else X_test[i]\n",
        "            sample_sentiments = []\n",
        "            for feature_idx, value in enumerate(sample):\n",
        "                if value > 0 and self.feature_names[feature_idx] in self.word_to_sentiment:\n",
        "                    sample_sentiments.append(self.word_to_sentiment[self.feature_names[feature_idx]])\n",
        "\n",
        "            if sample_sentiments:\n",
        "                predictions.append(Counter(sample_sentiments).most_common(1)[0][0])\n",
        "            else:\n",
        "                predictions.append(self.most_common_sentiment)\n",
        "        return np.array(predictions)\n",
        "\n",
        "    def predict_proba(self, X_test):\n",
        "        predictions = self.predict(X_test)\n",
        "        n_classes = len(np.unique(predictions))\n",
        "        probs = np.zeros((X_test.shape[0], n_classes))\n",
        "        for i, pred in enumerate(predictions):\n",
        "            probs[i, pred] = 1.0\n",
        "        return probs"
      ]
    },
    {
      "cell_type": "code",
      "execution_count": null,
      "id": "7234e2c6-6b58-43e6-8f5e-ace5a7ef66fd",
      "metadata": {
        "id": "7234e2c6-6b58-43e6-8f5e-ace5a7ef66fd"
      },
      "outputs": [],
      "source": [
        "# Simple preprocessing for baseline\n",
        "def preprocess_for_baseline(train_data, test_data):\n",
        "    X_train, X_val, y_train, y_val = train_test_split(\n",
        "        train_data['text'], train_data['sentiment'], test_size=0.3, random_state=42)\n",
        "    X_test, y_test = test_data['text'], test_data['sentiment']\n",
        "\n",
        "    unique_labels = pd.concat([y_train, y_val, y_test]).unique()\n",
        "    label_to_idx = {label: idx for idx, label in enumerate(unique_labels)}\n",
        "\n",
        "    y_train = np.array([label_to_idx[label] for label in y_train], dtype=np.int64)\n",
        "    y_val = np.array([label_to_idx[label] for label in y_val], dtype=np.int64)\n",
        "    y_test = np.array([label_to_idx[label] for label in y_test], dtype=np.int64)\n",
        "\n",
        "    X_train_tokenized = tokenize(X_train)\n",
        "    X_val_tokenized = tokenize(X_val)\n",
        "    X_test_tokenized = tokenize(X_test)\n",
        "\n",
        "    X_train_joined = [\" \".join(x) for x in X_train_tokenized]\n",
        "    X_val_joined = [\" \".join(x) for x in X_val_tokenized]\n",
        "    X_test_joined = [\" \".join(x) for x in X_test_tokenized]\n",
        "\n",
        "    vectorizer = TfidfVectorizer(max_features=2000, sublinear_tf=True)\n",
        "    X_train = vectorizer.fit_transform(X_train_joined).toarray()\n",
        "    X_val = vectorizer.transform(X_val_joined).toarray()\n",
        "    X_test = vectorizer.transform(X_test_joined).toarray()\n",
        "    feature_names = vectorizer.get_feature_names_out()\n",
        "\n",
        "    return (X_train, y_train), (X_val, y_val), (X_test, y_test), feature_names, label_to_idx"
      ]
    },
    {
      "cell_type": "markdown",
      "source": [
        "##  CNN Data Preprocessing\n",
        "### Sequence Conversion and Padding\n",
        "Converting text to sequences and preparing data for CNN training."
      ],
      "metadata": {
        "id": "M7ewEV3MvKss"
      },
      "id": "M7ewEV3MvKss"
    },
    {
      "cell_type": "code",
      "execution_count": null,
      "id": "0112a203-75c1-4395-8802-4648caa85a7c",
      "metadata": {
        "id": "0112a203-75c1-4395-8802-4648caa85a7c"
      },
      "outputs": [],
      "source": [
        "# CNN DATA PREPROCESSING AND DATASET\n",
        "# ====================================================================\n",
        "\n",
        "def preprocess_data_cnn(train_data, test_data, max_vocab_size=10000, max_seq_len=256):\n",
        "    X_train, X_val, y_train, y_val = train_test_split(\n",
        "        train_data['text'], train_data['sentiment'], test_size=0.3, random_state=42)\n",
        "    X_test, y_test = test_data['text'], test_data['sentiment']\n",
        "\n",
        "    unique_labels = pd.concat([y_train, y_val, y_test]).unique()\n",
        "    label_to_idx = {label: idx for idx, label in enumerate(unique_labels)}\n",
        "\n",
        "    y_train = np.array([label_to_idx[label] for label in y_train], dtype=np.int64)\n",
        "    y_val = np.array([label_to_idx[label] for label in y_val], dtype=np.int64)\n",
        "    y_test = np.array([label_to_idx[label] for label in y_test], dtype=np.int64)\n",
        "\n",
        "    # Tokenize texts\n",
        "    X_train_tokenized = tokenize(X_train)\n",
        "    X_val_tokenized = tokenize(X_val)\n",
        "    X_test_tokenized = tokenize(X_test)\n",
        "\n",
        "    # Build vocabulary from training data\n",
        "    word_counts = Counter()\n",
        "    for tokens in X_train_tokenized:\n",
        "        word_counts.update(tokens)\n",
        "\n",
        "    most_common_words = word_counts.most_common(max_vocab_size - 2)  # -2 for PAD and UNK\n",
        "    word_to_idx = {'<PAD>': 0, '<UNK>': 1}\n",
        "    for word, _ in most_common_words:\n",
        "        word_to_idx[word] = len(word_to_idx)\n",
        "\n",
        "    def texts_to_sequences(tokenized_texts):\n",
        "        sequences = []\n",
        "        lengths = []\n",
        "        for tokens in tokenized_texts:\n",
        "            sequence = [word_to_idx.get(token, word_to_idx['<UNK>']) for token in tokens]\n",
        "            if len(sequence) > max_seq_len:\n",
        "                sequence = sequence[:max_seq_len]\n",
        "            sequences.append(sequence)\n",
        "            lengths.append(len(sequence))\n",
        "        return sequences, lengths\n",
        "\n",
        "    X_train_seq, train_lengths = texts_to_sequences(X_train_tokenized)\n",
        "    X_val_seq, val_lengths = texts_to_sequences(X_val_tokenized)\n",
        "    X_test_seq, test_lengths = texts_to_sequences(X_test_tokenized)\n",
        "\n",
        "    # Pad sequences\n",
        "    def pad_sequences(sequences, max_len):\n",
        "        padded = []\n",
        "        for seq in sequences:\n",
        "            if len(seq) < max_len:\n",
        "                seq = seq + [0] * (max_len - len(seq))\n",
        "            padded.append(seq)\n",
        "        return np.array(padded)\n",
        "\n",
        "    actual_max_len = min(max(max(train_lengths), max(val_lengths), max(test_lengths)), max_seq_len)\n",
        "\n",
        "    X_train_padded = pad_sequences(X_train_seq, actual_max_len)\n",
        "    X_val_padded = pad_sequences(X_val_seq, actual_max_len)\n",
        "    X_test_padded = pad_sequences(X_test_seq, actual_max_len)\n",
        "\n",
        "    return ((X_train_padded, y_train, train_lengths),\n",
        "            (X_val_padded, y_val, val_lengths),\n",
        "            (X_test_padded, y_test, test_lengths),\n",
        "            word_to_idx, label_to_idx)"
      ]
    },
    {
      "cell_type": "code",
      "execution_count": null,
      "id": "74803fca-0a40-4141-ba50-5ad692952e67",
      "metadata": {
        "id": "74803fca-0a40-4141-ba50-5ad692952e67"
      },
      "outputs": [],
      "source": [
        "# Load pre-trained embeddings\n",
        "def load_pretrained_embeddings(word_to_idx, embedding_dim=300):\n",
        "    print(\"Loading pre-trained Word2Vec embeddings...\")\n",
        "    try:\n",
        "        word_vectors = api.load(\"word2vec-google-news-300\")\n",
        "        print(f\"Loaded {len(word_vectors.key_to_index)} word vectors\")\n",
        "    except:\n",
        "        print(\"Using GloVe embeddings as fallback...\")\n",
        "        word_vectors = api.load(\"glove-wiki-gigaword-300\")\n",
        "        print(f\"Loaded {len(word_vectors.key_to_index)} word vectors\")\n",
        "\n",
        "    vocab_size = len(word_to_idx)\n",
        "    embedding_matrix = np.random.normal(0, 0.1, (vocab_size, embedding_dim))\n",
        "\n",
        "    # Set PAD token to zeros\n",
        "    embedding_matrix[0] = np.zeros(embedding_dim)\n",
        "\n",
        "    # Fill in embeddings for known words\n",
        "    found_words = 0\n",
        "    for word, idx in word_to_idx.items():\n",
        "        if word in word_vectors:\n",
        "            embedding_matrix[idx] = word_vectors[word]\n",
        "            found_words += 1\n",
        "\n",
        "    print(f\"Found embeddings for {found_words}/{vocab_size} words\")\n",
        "    return embedding_matrix"
      ]
    },
    {
      "cell_type": "markdown",
      "source": [
        "### Pre-trained Word Embeddings\n",
        "Loading Word2Vec/GloVe embeddings to initialize our embedding layer."
      ],
      "metadata": {
        "id": "Sobdn0BpvOol"
      },
      "id": "Sobdn0BpvOol"
    },
    {
      "cell_type": "markdown",
      "source": [
        "## CNN Model Architectures\n",
        "### Single Filter CNN with Residual Connections\n",
        "CNN with configurable n-gram filters, residual connections, and max-pooling/attention."
      ],
      "metadata": {
        "id": "Ztv2GJ1pvS48"
      },
      "id": "Ztv2GJ1pvS48"
    },
    {
      "cell_type": "code",
      "execution_count": null,
      "id": "c1f62eee-c10e-4e00-9f87-1edd656156a3",
      "metadata": {
        "id": "c1f62eee-c10e-4e00-9f87-1edd656156a3"
      },
      "outputs": [],
      "source": [
        "# CNN MODEL ARCHITECTURES\n",
        "# ====================================================================\n",
        "\n",
        "class CNNModel(nn.Module):\n",
        "    def __init__(self, vocab_size, embed_dim, output_dim, num_filters=100,\n",
        "                 ngram_kernel_size=3, num_layers=1, use_pooling=True,\n",
        "                 use_attention=False, attention_dim=64, dropout_rate=0.4,\n",
        "                 pretrained_embeddings=None, freeze_embeddings=False):\n",
        "        super(CNNModel, self).__init__()\n",
        "\n",
        "        self.use_pooling = use_pooling\n",
        "        self.use_attention = use_attention\n",
        "        self.dropout_rate = dropout_rate\n",
        "        self.num_layers = num_layers\n",
        "        self.ngram_kernel_size = ngram_kernel_size\n",
        "\n",
        "        assert self.use_pooling or self.use_attention, \"Must use either pooling or attention\"\n",
        "        assert not (self.use_pooling and self.use_attention), \"Cannot use both pooling and attention\"\n",
        "\n",
        "        # Embedding layer\n",
        "        self.embedding = nn.Embedding(vocab_size, embed_dim, padding_idx=0)\n",
        "        if pretrained_embeddings is not None:\n",
        "            self.embedding.weight.data.copy_(torch.from_numpy(pretrained_embeddings))\n",
        "            if freeze_embeddings:\n",
        "                self.embedding.weight.requires_grad = False\n",
        "\n",
        "        self.dropout = nn.Dropout(dropout_rate)\n",
        "\n",
        "        # CNN layers with residual connections\n",
        "        self.conv_layers = nn.ModuleList()\n",
        "        self.batch_norms = nn.ModuleList()\n",
        "\n",
        "        for layer_idx in range(num_layers):\n",
        "            in_channels = embed_dim if layer_idx == 0 else num_filters\n",
        "\n",
        "            # Use 'same' padding calculation: padding = (kernel_size - 1) // 2\n",
        "            padding = (ngram_kernel_size - 1) // 2\n",
        "\n",
        "            self.conv_layers.append(nn.Conv1d(\n",
        "                in_channels=in_channels,\n",
        "                out_channels=num_filters,\n",
        "                kernel_size=ngram_kernel_size,\n",
        "                padding=padding,\n",
        "                stride=1\n",
        "            ))\n",
        "\n",
        "            # Add batch normalization for better training\n",
        "            self.batch_norms.append(nn.BatchNorm1d(num_filters))\n",
        "\n",
        "        # Projection layer for residual connections when dimensions don't match\n",
        "        if embed_dim != num_filters:\n",
        "            self.input_projection = nn.Conv1d(embed_dim, num_filters, kernel_size=1)\n",
        "        else:\n",
        "            self.input_projection = None\n",
        "\n",
        "        # Attention mechanism\n",
        "        if self.use_attention:\n",
        "            self.attention_mlp = nn.Sequential(\n",
        "                nn.Linear(num_filters, attention_dim),\n",
        "                nn.Tanh(),\n",
        "                nn.Linear(attention_dim, 1)\n",
        "            )\n",
        "\n",
        "        # Global max pooling\n",
        "        if self.use_pooling:\n",
        "            self.global_max_pool = nn.AdaptiveMaxPool1d(1)\n",
        "\n",
        "        # Classification layer\n",
        "        self.classifier = nn.Linear(num_filters, output_dim)\n",
        "\n",
        "    def forward(self, x):\n",
        "        # x shape: (batch_size, seq_len)\n",
        "        original_seq_len = x.size(1)\n",
        "        embedded = self.embedding(x)  # (batch_size, seq_len, embed_dim)\n",
        "        embedded = self.dropout(embedded)\n",
        "\n",
        "        # Transpose for Conv1d: (batch_size, embed_dim, seq_len)\n",
        "        z = embedded.transpose(1, 2)\n",
        "\n",
        "        # Apply convolutional layers with residual connections\n",
        "        for i, (conv_layer, batch_norm) in enumerate(zip(self.conv_layers, self.batch_norms)):\n",
        "            # Store input for residual connection\n",
        "            if i == 0:\n",
        "                # For first layer, apply projection if needed\n",
        "                if self.input_projection is not None:\n",
        "                    residual = self.input_projection(z)\n",
        "                else:\n",
        "                    residual = z\n",
        "            else:\n",
        "                residual = z\n",
        "\n",
        "            # Apply convolution\n",
        "            z = conv_layer(z)\n",
        "            z = batch_norm(z)\n",
        "            z = torch.relu(z)\n",
        "\n",
        "            # Add residual connection (skip connection for first layer in deep networks)\n",
        "            if i > 0 or self.num_layers == 1:\n",
        "                # Ensure dimensions match before adding residual\n",
        "                if z.shape == residual.shape:\n",
        "                    z = z + residual\n",
        "                # If dimensions don't match (due to padding), skip residual for safety\n",
        "\n",
        "        if self.use_pooling:\n",
        "            # Global max pooling\n",
        "            pooled = self.global_max_pool(z).squeeze(-1)  # (batch_size, num_filters)\n",
        "            pooled = self.dropout(pooled)\n",
        "            return self.classifier(pooled)\n",
        "\n",
        "        elif self.use_attention:\n",
        "            # Self-attention mechanism\n",
        "            z_transposed = z.transpose(1, 2)  # (batch_size, current_seq_len, num_filters)\n",
        "            current_seq_len = z_transposed.size(1)\n",
        "\n",
        "            attention_weights = self.attention_mlp(z_transposed)  # (batch_size, current_seq_len, 1)\n",
        "\n",
        "            # Create padding mask that matches the current sequence length\n",
        "            # We need to adjust the original padding mask to match the current sequence length\n",
        "            if current_seq_len <= original_seq_len:\n",
        "                # Sequence got shorter or stayed same, truncate the mask\n",
        "                padding_mask = (x[:, :current_seq_len] == 0).unsqueeze(-1).float()\n",
        "            else:\n",
        "                # This shouldn't happen with proper padding, but handle it just in case\n",
        "                padding_mask = torch.zeros(x.size(0), current_seq_len, 1, device=x.device)\n",
        "                padding_mask[:, :original_seq_len, :] = (x == 0).unsqueeze(-1).float()\n",
        "\n",
        "            attention_weights = attention_weights.masked_fill(padding_mask.bool(), float('-inf'))\n",
        "\n",
        "            attention_weights = torch.softmax(attention_weights, dim=1)\n",
        "            attended = torch.sum(z_transposed * attention_weights, dim=1)  # (batch_size, num_filters)\n",
        "            attended = self.dropout(attended)\n",
        "            return self.classifier(attended)"
      ]
    },
    {
      "cell_type": "markdown",
      "source": [
        "### Multi-Filter CNN Architecture\n",
        "Advanced CNN combining multiple n-gram filters (2, 3, 4-grams) in parallel."
      ],
      "metadata": {
        "id": "nPdRZdt7vdIt"
      },
      "id": "nPdRZdt7vdIt"
    },
    {
      "cell_type": "code",
      "execution_count": null,
      "id": "7311002f-4ddd-4bae-b02c-50ff97853b0e",
      "metadata": {
        "id": "7311002f-4ddd-4bae-b02c-50ff97853b0e"
      },
      "outputs": [],
      "source": [
        "class MultiFilterCNNModel(nn.Module):\n",
        "    def __init__(self, vocab_size, embed_dim, output_dim, num_filters=100,\n",
        "                 num_layers=1, use_pooling=True, use_attention=False,\n",
        "                 attention_dim=64, dropout_rate=0.4, pretrained_embeddings=None,\n",
        "                 freeze_embeddings=False):\n",
        "        super(MultiFilterCNNModel, self).__init__()\n",
        "\n",
        "        self.use_pooling = use_pooling\n",
        "        self.use_attention = use_attention\n",
        "        self.dropout_rate = dropout_rate\n",
        "        self.num_layers = num_layers\n",
        "\n",
        "        assert self.use_pooling or self.use_attention, \"Must use either pooling or attention\"\n",
        "        assert not (self.use_pooling and self.use_attention), \"Cannot use both pooling and attention\"\n",
        "\n",
        "        # Embedding layer\n",
        "        self.embedding = nn.Embedding(vocab_size, embed_dim, padding_idx=0)\n",
        "        if pretrained_embeddings is not None:\n",
        "            self.embedding.weight.data.copy_(torch.from_numpy(pretrained_embeddings))\n",
        "            if freeze_embeddings:\n",
        "                self.embedding.weight.requires_grad = False\n",
        "\n",
        "        self.dropout = nn.Dropout(dropout_rate)\n",
        "\n",
        "        # Projection layer to match embedding dim with num_filters\n",
        "        self.embeddings_projection = nn.Linear(embed_dim, num_filters)\n",
        "\n",
        "        # Multi-filter CNN layers (2-gram, 3-gram, 4-gram)\n",
        "        self.bigram_layers = nn.ModuleList()\n",
        "        self.trigram_layers = nn.ModuleList()\n",
        "        self.fourgram_layers = nn.ModuleList()\n",
        "\n",
        "        # Batch normalization layers\n",
        "        self.bigram_bns = nn.ModuleList()\n",
        "        self.trigram_bns = nn.ModuleList()\n",
        "        self.fourgram_bns = nn.ModuleList()\n",
        "\n",
        "        for layer_idx in range(num_layers):\n",
        "            # Use proper padding calculation for each kernel size to maintain sequence length\n",
        "            self.bigram_layers.append(nn.Conv1d(\n",
        "                in_channels=num_filters,\n",
        "                out_channels=num_filters,\n",
        "                kernel_size=2,\n",
        "                padding=1,  # padding = 1 for kernel_size=2 to maintain length\n",
        "                stride=1\n",
        "            ))\n",
        "            self.trigram_layers.append(nn.Conv1d(\n",
        "                in_channels=num_filters,\n",
        "                out_channels=num_filters,\n",
        "                kernel_size=3,\n",
        "                padding=1,  # padding = 1 for kernel_size=3\n",
        "                stride=1\n",
        "            ))\n",
        "            self.fourgram_layers.append(nn.Conv1d(\n",
        "                in_channels=num_filters,\n",
        "                out_channels=num_filters,\n",
        "                kernel_size=4,\n",
        "                padding=2,  # padding = 2 for kernel_size=4 to maintain length\n",
        "                stride=1\n",
        "            ))\n",
        "\n",
        "            # Add batch normalization\n",
        "            self.bigram_bns.append(nn.BatchNorm1d(num_filters))\n",
        "            self.trigram_bns.append(nn.BatchNorm1d(num_filters))\n",
        "            self.fourgram_bns.append(nn.BatchNorm1d(num_filters))\n",
        "\n",
        "        # Attention or pooling\n",
        "        if self.use_attention:\n",
        "            self.attention_mlp = nn.Sequential(\n",
        "                nn.Linear(num_filters * 3, attention_dim),\n",
        "                nn.Tanh(),\n",
        "                nn.Linear(attention_dim, 1)\n",
        "            )\n",
        "\n",
        "        if self.use_pooling:\n",
        "            self.global_max_pool = nn.AdaptiveMaxPool1d(1)\n",
        "\n",
        "        # Classification layer\n",
        "        self.classifier = nn.Linear(num_filters * 3, output_dim)\n",
        "\n",
        "    def forward(self, x):\n",
        "        # x shape: (batch_size, seq_len)\n",
        "        original_seq_len = x.size(1)\n",
        "        embedded = self.embedding(x)  # (batch_size, seq_len, embed_dim)\n",
        "        embedded = self.embeddings_projection(embedded)  # (batch_size, seq_len, num_filters)\n",
        "        embedded = self.dropout(embedded)\n",
        "\n",
        "        # Transpose for Conv1d: (batch_size, num_filters, seq_len)\n",
        "        z = embedded.transpose(1, 2)\n",
        "\n",
        "        # Apply different n-gram filters with residual connections\n",
        "        bigram_out = z\n",
        "        trigram_out = z\n",
        "        fourgram_out = z\n",
        "\n",
        "        for layer_idx, (bigram_layer, trigram_layer, fourgram_layer,\n",
        "                       bigram_bn, trigram_bn, fourgram_bn) in enumerate(\n",
        "            zip(self.bigram_layers, self.trigram_layers, self.fourgram_layers,\n",
        "                self.bigram_bns, self.trigram_bns, self.fourgram_bns)):\n",
        "\n",
        "            # Store residuals\n",
        "            bigram_residual = bigram_out\n",
        "            trigram_residual = trigram_out\n",
        "            fourgram_residual = fourgram_out\n",
        "\n",
        "            # Apply convolutions\n",
        "            bigram_out = bigram_layer(bigram_out)\n",
        "            bigram_out = bigram_bn(bigram_out)\n",
        "            bigram_out = torch.relu(bigram_out)\n",
        "\n",
        "            trigram_out = trigram_layer(trigram_out)\n",
        "            trigram_out = trigram_bn(trigram_out)\n",
        "            trigram_out = torch.relu(trigram_out)\n",
        "\n",
        "            fourgram_out = fourgram_layer(fourgram_out)\n",
        "            fourgram_out = fourgram_bn(fourgram_out)\n",
        "            fourgram_out = torch.relu(fourgram_out)\n",
        "\n",
        "            # Trim sequences to match if padding made them longer\n",
        "            min_len = min(bigram_out.size(2), trigram_out.size(2), fourgram_out.size(2))\n",
        "            if bigram_out.size(2) > min_len:\n",
        "                bigram_out = bigram_out[:, :, :min_len]\n",
        "            if trigram_out.size(2) > min_len:\n",
        "                trigram_out = trigram_out[:, :, :min_len]\n",
        "            if fourgram_out.size(2) > min_len:\n",
        "                fourgram_out = fourgram_out[:, :, :min_len]\n",
        "\n",
        "            # Also trim residuals to match\n",
        "            if bigram_residual.size(2) > min_len:\n",
        "                bigram_residual = bigram_residual[:, :, :min_len]\n",
        "            if trigram_residual.size(2) > min_len:\n",
        "                trigram_residual = trigram_residual[:, :, :min_len]\n",
        "            if fourgram_residual.size(2) > min_len:\n",
        "                fourgram_residual = fourgram_residual[:, :, :min_len]\n",
        "\n",
        "            # Add residual connections only if dimensions match\n",
        "            if layer_idx > 0 or self.num_layers == 1:\n",
        "                if bigram_out.shape == bigram_residual.shape:\n",
        "                    bigram_out = bigram_out + bigram_residual\n",
        "                if trigram_out.shape == trigram_residual.shape:\n",
        "                    trigram_out = trigram_out + trigram_residual\n",
        "                if fourgram_out.shape == fourgram_residual.shape:\n",
        "                    fourgram_out = fourgram_out + fourgram_residual\n",
        "\n",
        "        if self.use_pooling:\n",
        "            # Global max pooling for each filter type\n",
        "            bigram_pooled = self.global_max_pool(bigram_out).squeeze(-1)\n",
        "            trigram_pooled = self.global_max_pool(trigram_out).squeeze(-1)\n",
        "            fourgram_pooled = self.global_max_pool(fourgram_out).squeeze(-1)\n",
        "\n",
        "            # Concatenate all filter outputs\n",
        "            output = torch.cat([bigram_pooled, trigram_pooled, fourgram_pooled], dim=1)\n",
        "            output = self.dropout(output)\n",
        "            return self.classifier(output)\n",
        "\n",
        "        elif self.use_attention:\n",
        "            # Apply attention to each filter type\n",
        "            bigram_transposed = bigram_out.transpose(1, 2)\n",
        "            trigram_transposed = trigram_out.transpose(1, 2)\n",
        "            fourgram_transposed = fourgram_out.transpose(1, 2)\n",
        "\n",
        "            # Ensure all have the same sequence length for concatenation\n",
        "            min_seq_len = min(bigram_transposed.size(1),\n",
        "                             trigram_transposed.size(1),\n",
        "                             fourgram_transposed.size(1))\n",
        "\n",
        "            bigram_transposed = bigram_transposed[:, :min_seq_len, :]\n",
        "            trigram_transposed = trigram_transposed[:, :min_seq_len, :]\n",
        "            fourgram_transposed = fourgram_transposed[:, :min_seq_len, :]\n",
        "\n",
        "            # Concatenate for attention\n",
        "            combined = torch.cat([bigram_transposed, trigram_transposed, fourgram_transposed], dim=-1)\n",
        "\n",
        "            attention_weights = self.attention_mlp(combined)\n",
        "\n",
        "            # Apply padding mask (adjust for potentially shorter sequence)\n",
        "            if min_seq_len <= original_seq_len:\n",
        "                padding_mask = (x[:, :min_seq_len] == 0).unsqueeze(-1).float()\n",
        "            else:\n",
        "                padding_mask = torch.zeros(x.size(0), min_seq_len, 1, device=x.device)\n",
        "                padding_mask[:, :original_seq_len, :] = (x == 0).unsqueeze(-1).float()\n",
        "\n",
        "            attention_weights = attention_weights.masked_fill(padding_mask.bool(), float('-inf'))\n",
        "\n",
        "            attention_weights = torch.softmax(attention_weights, dim=1)\n",
        "            attended = torch.sum(combined * attention_weights, dim=1)\n",
        "            attended = self.dropout(attended)\n",
        "            return self.classifier(attended)"
      ]
    },
    {
      "cell_type": "markdown",
      "source": [
        "## Training & Evaluation Functions\n",
        "### Metrics Calculation\n",
        "Comprehensive evaluation metrics including accuracy, F1, and PR-AUC."
      ],
      "metadata": {
        "id": "CpeDMTg8vjMt"
      },
      "id": "CpeDMTg8vjMt"
    },
    {
      "cell_type": "code",
      "execution_count": null,
      "id": "8411fc85-227b-4f5a-80dd-ba37593af88b",
      "metadata": {
        "id": "8411fc85-227b-4f5a-80dd-ba37593af88b"
      },
      "outputs": [],
      "source": [
        "# TRAINING AND EVALUATION FUNCTIONS\n",
        "# ====================================================================\n",
        "\n",
        "def calculate_metrics(y_true, y_pred, y_prob):\n",
        "    n_classes = y_prob.shape[1]\n",
        "    accuracy = accuracy_score(y_true, y_pred)\n",
        "\n",
        "    class_metrics = {}\n",
        "    pr_auc_scores = []\n",
        "    for i in range(n_classes):\n",
        "        y_true_binary = (y_true == i).astype(int)\n",
        "        y_pred_binary = (y_pred == i).astype(int)\n",
        "        y_prob_class = y_prob[:, i]\n",
        "\n",
        "        precision = precision_score(y_true_binary, y_pred_binary, zero_division=0)\n",
        "        recall = recall_score(y_true_binary, y_pred_binary, zero_division=0)\n",
        "        f1 = f1_score(y_true_binary, y_pred_binary, zero_division=0)\n",
        "\n",
        "        precision_curve, recall_curve, _ = precision_recall_curve(y_true_binary, y_prob_class)\n",
        "        pr_auc = auc(recall_curve, precision_curve)\n",
        "        pr_auc_scores.append(pr_auc)\n",
        "\n",
        "        class_metrics[i] = {\n",
        "            'precision': precision, 'recall': recall, 'f1': f1, 'pr_auc': pr_auc\n",
        "        }\n",
        "\n",
        "    macro_precision = precision_score(y_true, y_pred, average='macro', zero_division=0)\n",
        "    macro_recall = recall_score(y_true, y_pred, average='macro', zero_division=0)\n",
        "    macro_f1 = f1_score(y_true, y_pred, average='macro', zero_division=0)\n",
        "    macro_pr_auc = np.mean(pr_auc_scores)\n",
        "\n",
        "    return {\n",
        "        'accuracy': accuracy, 'class_metrics': class_metrics,\n",
        "        'macro_precision': macro_precision, 'macro_recall': macro_recall,\n",
        "        'macro_f1': macro_f1, 'macro_pr_auc': macro_pr_auc\n",
        "    }"
      ]
    },
    {
      "cell_type": "code",
      "execution_count": null,
      "id": "7518ba20-6278-43c6-a6d6-8ef74ffffc2f",
      "metadata": {
        "id": "7518ba20-6278-43c6-a6d6-8ef74ffffc2f"
      },
      "outputs": [],
      "source": [
        "def evaluate_baseline(baseline_model, X_train, y_train, X_val, y_val, X_test, y_test):\n",
        "    train_preds = baseline_model.predict(X_train)\n",
        "    val_preds = baseline_model.predict(X_val)\n",
        "    test_preds = baseline_model.predict(X_test)\n",
        "\n",
        "    train_probs = baseline_model.predict_proba(X_train)\n",
        "    val_probs = baseline_model.predict_proba(X_val)\n",
        "    test_probs = baseline_model.predict_proba(X_test)\n",
        "\n",
        "    train_metrics = calculate_metrics(y_train, train_preds, train_probs)\n",
        "    val_metrics = calculate_metrics(y_val, val_preds, val_probs)\n",
        "    test_metrics = calculate_metrics(y_test, test_preds, test_probs)\n",
        "\n",
        "    return {'train': train_metrics, 'val': val_metrics, 'test': test_metrics}"
      ]
    },
    {
      "cell_type": "markdown",
      "source": [
        "###  Training Pipeline\n",
        "Training with early stopping, gradient clipping, and validation monitoring."
      ],
      "metadata": {
        "id": "_wf67iw1vnt8"
      },
      "id": "_wf67iw1vnt8"
    },
    {
      "cell_type": "code",
      "execution_count": null,
      "id": "f12adfd3-74f7-400f-9c05-649e2a3f0433",
      "metadata": {
        "id": "f12adfd3-74f7-400f-9c05-649e2a3f0433"
      },
      "outputs": [],
      "source": [
        "def train_cnn_model(model, train_loader, val_loader, criterion, optimizer,\n",
        "                    epochs=15, device='cuda', patience=5):\n",
        "    best_val_loss = float('inf')\n",
        "    patience_counter = 0\n",
        "    best_model_path = \"best_cnn_sentiment_model.pt\"\n",
        "\n",
        "    train_losses = []\n",
        "    val_losses = []\n",
        "\n",
        "    for epoch in range(epochs):\n",
        "        # Training phase\n",
        "        model.train()\n",
        "        train_loss = 0.0\n",
        "        for batch_idx, (X_batch, y_batch) in enumerate(tqdm(train_loader, desc=f\"Epoch {epoch+1}/{epochs} (Training)\")):\n",
        "            X_batch, y_batch = X_batch.to(device), y_batch.to(device)\n",
        "\n",
        "            optimizer.zero_grad()\n",
        "            y_pred = model(X_batch)\n",
        "            loss = criterion(y_pred, y_batch)\n",
        "            loss.backward()\n",
        "\n",
        "            # Gradient clipping\n",
        "            torch.nn.utils.clip_grad_norm_(model.parameters(), max_norm=1.0)\n",
        "            optimizer.step()\n",
        "\n",
        "            train_loss += loss.item() * X_batch.size(0)\n",
        "\n",
        "        train_loss /= len(train_loader.dataset)\n",
        "        train_losses.append(train_loss)\n",
        "\n",
        "        # Validation phase\n",
        "        model.eval()\n",
        "        val_loss = 0.0\n",
        "        with torch.no_grad():\n",
        "            for X_batch, y_batch in tqdm(val_loader, desc=f\"Epoch {epoch+1}/{epochs} (Validation)\"):\n",
        "                X_batch, y_batch = X_batch.to(device), y_batch.to(device)\n",
        "                y_pred = model(X_batch)\n",
        "                loss = criterion(y_pred, y_batch)\n",
        "                val_loss += loss.item() * X_batch.size(0)\n",
        "\n",
        "        val_loss /= len(val_loader.dataset)\n",
        "        val_losses.append(val_loss)\n",
        "\n",
        "        print(f\"Epoch {epoch+1}/{epochs} - Train Loss: {train_loss:.5f}, Val Loss: {val_loss:.5f}\")\n",
        "\n",
        "        # Early stopping\n",
        "        if val_loss < best_val_loss:\n",
        "            best_val_loss = val_loss\n",
        "            patience_counter = 0\n",
        "            torch.save(model.state_dict(), best_model_path)\n",
        "            print(f\"Model improved - saving to {best_model_path}\")\n",
        "        else:\n",
        "            patience_counter += 1\n",
        "            print(f\"Patience: {patience_counter}/{patience}\")\n",
        "\n",
        "            if patience_counter >= patience:\n",
        "                print(f\"Early stopping after {epoch+1} epochs\")\n",
        "                break\n",
        "\n",
        "    # Load the best model\n",
        "    model.load_state_dict(torch.load(best_model_path))\n",
        "    return model, train_losses, val_losses"
      ]
    },
    {
      "cell_type": "code",
      "execution_count": null,
      "id": "4fb0218c-1e88-4efb-aa0b-9d93bc1328bb",
      "metadata": {
        "id": "4fb0218c-1e88-4efb-aa0b-9d93bc1328bb"
      },
      "outputs": [],
      "source": [
        "def get_predictions_and_labels_cnn(model, data_loader):\n",
        "    model.eval()\n",
        "    all_preds, all_probs, all_labels = [], [], []\n",
        "\n",
        "    with torch.no_grad():\n",
        "        for X_batch, y_batch in data_loader:\n",
        "            X_batch = X_batch.to(device)\n",
        "            outputs = model(X_batch)\n",
        "            probs = torch.softmax(outputs, dim=1)\n",
        "            preds = torch.argmax(outputs, dim=1)\n",
        "\n",
        "            all_preds.extend(preds.cpu().numpy())\n",
        "            all_probs.extend(probs.cpu().numpy())\n",
        "            all_labels.extend(y_batch.cpu().numpy())\n",
        "\n",
        "    return np.array(all_preds), np.array(all_probs), np.array(all_labels)"
      ]
    },
    {
      "cell_type": "markdown",
      "source": [
        "### Hyperparameter Tuning\n",
        "Systematic search over model configurations to find optimal parameters."
      ],
      "metadata": {
        "id": "IDOtDf-IvvbV"
      },
      "id": "IDOtDf-IvvbV"
    },
    {
      "cell_type": "code",
      "execution_count": null,
      "id": "23ce4a57-f5e3-4953-bcc4-9aa7f20fc1a5",
      "metadata": {
        "id": "23ce4a57-f5e3-4953-bcc4-9aa7f20fc1a5"
      },
      "outputs": [],
      "source": [
        "def hyperparameter_tuning_cnn(X_train, y_train, X_val, y_val, vocab_size,\n",
        "                              embedding_matrix, device='cuda', verbose=True):\n",
        "    param_grid = {\n",
        "        'model_type': ['single_filter', 'multi_filter'],\n",
        "        'num_filters': [64, 100],\n",
        "        'ngram_size': [2, 3, 4],  # Only for single filter models\n",
        "        'num_layers': [1, 2, 3],\n",
        "        'pooling_type': ['max_pool', 'attention'],\n",
        "        'learning_rate': [1e-3, 5e-4],\n",
        "        'batch_size': [32, 64],\n",
        "        'dropout': [0.3, 0.4, 0.5],\n",
        "        'freeze_embeddings': [False, True]\n",
        "    }\n",
        "\n",
        "    # Generate parameter combinations (limit for speed)\n",
        "    all_combinations = []\n",
        "\n",
        "    # Single filter combinations\n",
        "    for model_type in ['single_filter']:\n",
        "        for num_filters in param_grid['num_filters']:\n",
        "            for ngram_size in param_grid['ngram_size']:\n",
        "                for num_layers in param_grid['num_layers']:\n",
        "                    for pooling_type in param_grid['pooling_type']:\n",
        "                        for lr in param_grid['learning_rate']:\n",
        "                            for batch_size in param_grid['batch_size']:\n",
        "                                for dropout in param_grid['dropout']:\n",
        "                                    for freeze_emb in param_grid['freeze_embeddings']:\n",
        "                                        all_combinations.append({\n",
        "                                            'model_type': model_type,\n",
        "                                            'num_filters': num_filters,\n",
        "                                            'ngram_size': ngram_size,\n",
        "                                            'num_layers': num_layers,\n",
        "                                            'pooling_type': pooling_type,\n",
        "                                            'learning_rate': lr,\n",
        "                                            'batch_size': batch_size,\n",
        "                                            'dropout': dropout,\n",
        "                                            'freeze_embeddings': freeze_emb\n",
        "                                        })\n",
        "\n",
        "    # Multi filter combinations\n",
        "    for model_type in ['multi_filter']:\n",
        "        for num_filters in param_grid['num_filters']:\n",
        "            for num_layers in param_grid['num_layers']:\n",
        "                for pooling_type in param_grid['pooling_type']:\n",
        "                    for lr in param_grid['learning_rate']:\n",
        "                        for batch_size in param_grid['batch_size']:\n",
        "                            for dropout in param_grid['dropout']:\n",
        "                                for freeze_emb in param_grid['freeze_embeddings']:\n",
        "                                    all_combinations.append({\n",
        "                                        'model_type': model_type,\n",
        "                                        'num_filters': num_filters,\n",
        "                                        'num_layers': num_layers,\n",
        "                                        'pooling_type': pooling_type,\n",
        "                                        'learning_rate': lr,\n",
        "                                        'batch_size': batch_size,\n",
        "                                        'dropout': dropout,\n",
        "                                        'freeze_embeddings': freeze_emb\n",
        "                                    })\n",
        "\n",
        "    # Limit combinations for faster tuning\n",
        "    import random\n",
        "    random.seed(42)\n",
        "    selected_combinations = random.sample(all_combinations, min(12, len(all_combinations)))\n",
        "\n",
        "    if verbose:\n",
        "        print(f\"Testing {len(selected_combinations)} hyperparameter combinations\")\n",
        "\n",
        "    results = []\n",
        "    best_val_loss = float('inf')\n",
        "    best_model = None\n",
        "    best_params = None\n",
        "\n",
        "    for params in tqdm(selected_combinations, desc=\"Hyperparameter Tuning\"):\n",
        "        if verbose:\n",
        "            print(f\"\\nTesting parameters: {params}\")\n",
        "\n",
        "        batch_size = params['batch_size']\n",
        "\n",
        "        # Create data loaders\n",
        "        train_dataset = TensorDataset(torch.LongTensor(X_train).to(device),\n",
        "                                     torch.LongTensor(y_train).to(device))\n",
        "        val_dataset = TensorDataset(torch.LongTensor(X_val).to(device),\n",
        "                                   torch.LongTensor(y_val).to(device))\n",
        "\n",
        "        train_loader = DataLoader(train_dataset, batch_size=batch_size, shuffle=True)\n",
        "        val_loader = DataLoader(val_dataset, batch_size=batch_size)\n",
        "\n",
        "        # Create model based on type\n",
        "        if params['model_type'] == 'single_filter':\n",
        "            model = CNNModel(\n",
        "                vocab_size=vocab_size,\n",
        "                embed_dim=300,\n",
        "                output_dim=len(np.unique(y_train)),\n",
        "                num_filters=params['num_filters'],\n",
        "                ngram_kernel_size=params['ngram_size'],\n",
        "                num_layers=params['num_layers'],\n",
        "                use_pooling=(params['pooling_type'] == 'max_pool'),\n",
        "                use_attention=(params['pooling_type'] == 'attention'),\n",
        "                attention_dim=64,\n",
        "                dropout_rate=params['dropout'],\n",
        "                pretrained_embeddings=embedding_matrix,\n",
        "                freeze_embeddings=params['freeze_embeddings']\n",
        "            ).to(device)\n",
        "        else:  # multi_filter\n",
        "            model = MultiFilterCNNModel(\n",
        "                vocab_size=vocab_size,\n",
        "                embed_dim=300,\n",
        "                output_dim=len(np.unique(y_train)),\n",
        "                num_filters=params['num_filters'],\n",
        "                num_layers=params['num_layers'],\n",
        "                use_pooling=(params['pooling_type'] == 'max_pool'),\n",
        "                use_attention=(params['pooling_type'] == 'attention'),\n",
        "                attention_dim=64,\n",
        "                dropout_rate=params['dropout'],\n",
        "                pretrained_embeddings=embedding_matrix,\n",
        "                freeze_embeddings=params['freeze_embeddings']\n",
        "            ).to(device)\n",
        "\n",
        "        criterion = nn.CrossEntropyLoss()\n",
        "        optimizer = optim.Adam(model.parameters(), lr=params['learning_rate'])\n",
        "\n",
        "        # Quick training (5 epochs for hyperparameter search)\n",
        "        val_losses = []\n",
        "        for epoch in range(5):\n",
        "            # Training\n",
        "            model.train()\n",
        "            for X_batch, y_batch in train_loader:\n",
        "                optimizer.zero_grad()\n",
        "                y_pred = model(X_batch)\n",
        "                loss = criterion(y_pred, y_batch)\n",
        "                loss.backward()\n",
        "                torch.nn.utils.clip_grad_norm_(model.parameters(), max_norm=1.0)\n",
        "                optimizer.step()\n",
        "\n",
        "            # Validation\n",
        "            model.eval()\n",
        "            val_loss = 0.0\n",
        "            with torch.no_grad():\n",
        "                for X_batch, y_batch in val_loader:\n",
        "                    y_pred = model(X_batch)\n",
        "                    loss = criterion(y_pred, y_batch)\n",
        "                    val_loss += loss.item() * X_batch.size(0)\n",
        "\n",
        "            val_loss /= len(val_loader.dataset)\n",
        "            val_losses.append(val_loss)\n",
        "\n",
        "        final_val_loss = val_losses[-1]\n",
        "        results.append((params, final_val_loss))\n",
        "\n",
        "        if final_val_loss < best_val_loss:\n",
        "            best_val_loss = final_val_loss\n",
        "            best_model = copy.deepcopy(model)\n",
        "            best_params = params\n",
        "            if verbose:\n",
        "                print(f\"New best model found! Validation loss: {best_val_loss:.5f}\")\n",
        "\n",
        "    results.sort(key=lambda x: x[1])\n",
        "\n",
        "    if verbose:\n",
        "        print(\"\\nTop 3 hyperparameter configurations:\")\n",
        "        for i, (params, val_loss) in enumerate(results[:3]):\n",
        "            print(f\"{i+1}. Val Loss: {val_loss:.5f}, Params: {params}\")\n",
        "\n",
        "    return best_model, best_params, results"
      ]
    },
    {
      "cell_type": "markdown",
      "source": [
        "##  Visualization Functions\n",
        "Functions for plotting training curves and precision-recall analysis."
      ],
      "metadata": {
        "id": "d_SNYs6Dv270"
      },
      "id": "d_SNYs6Dv270"
    },
    {
      "cell_type": "code",
      "execution_count": null,
      "id": "35eb9074-a5a4-4387-ab0c-c5f216806d67",
      "metadata": {
        "id": "35eb9074-a5a4-4387-ab0c-c5f216806d67"
      },
      "outputs": [],
      "source": [
        "# PLOTTING FUNCTIONS\n",
        "# ====================================================================\n",
        "\n",
        "def plot_loss_curves(train_losses, val_losses, title=\"CNN Model\"):\n",
        "    plt.figure(figsize=(10, 6))\n",
        "    plt.plot(train_losses, label='Training Loss', linestyle='--')\n",
        "    plt.plot(val_losses, label='Validation Loss')\n",
        "    plt.xlabel('Epochs')\n",
        "    plt.ylabel('Loss')\n",
        "    plt.title(f'{title} - Training and Validation Loss Curves')\n",
        "    plt.legend()\n",
        "    plt.grid(True, linestyle='--', alpha=0.6)\n",
        "    plt.savefig(f'{title.lower().replace(\" \", \"_\")}_loss_curves.png')\n",
        "    plt.show()"
      ]
    },
    {
      "cell_type": "code",
      "execution_count": null,
      "id": "6e64cf76-875b-4d8e-a4a8-ce351e6b1a41",
      "metadata": {
        "id": "6e64cf76-875b-4d8e-a4a8-ce351e6b1a41"
      },
      "outputs": [],
      "source": [
        "def plot_precision_recall_curves(train_labels, train_probs, val_labels, val_probs,\n",
        "                                test_labels, test_probs, n_classes, model_name=\"CNN\"):\n",
        "    fig, axes = plt.subplots(n_classes, 3, figsize=(18, 5 * n_classes))\n",
        "    if n_classes == 1:\n",
        "        axes = axes.reshape(1, 3)\n",
        "\n",
        "    splits = ['Train', 'Validation', 'Test']\n",
        "    colors = ['blue', 'green', 'red']\n",
        "\n",
        "    for class_idx in range(n_classes):\n",
        "        for split_idx, (split, labels, probs) in enumerate(zip(\n",
        "            splits, [train_labels, val_labels, test_labels],\n",
        "            [train_probs, val_probs, test_probs]\n",
        "        )):\n",
        "            y_true_binary = (labels == class_idx).astype(int)\n",
        "            y_prob_class = probs[:, class_idx]\n",
        "\n",
        "            precision, recall, _ = precision_recall_curve(y_true_binary, y_prob_class)\n",
        "            pr_auc = auc(recall, precision)\n",
        "\n",
        "            ax = axes[class_idx, split_idx]\n",
        "            ax.plot(recall, precision, color=colors[split_idx], lw=2, label=f'PR-AUC: {pr_auc:.4f}')\n",
        "            ax.set_xlabel('Recall')\n",
        "            ax.set_ylabel('Precision')\n",
        "            ax.set_title(f'Class {class_idx} - {split} PR Curve ({model_name})')\n",
        "            ax.legend(loc='best')\n",
        "            ax.grid(True, linestyle='--', alpha=0.7)\n",
        "\n",
        "    plt.tight_layout()\n",
        "    plt.savefig(f'{model_name.lower().replace(\" \", \"_\")}_precision_recall_curves.png')\n",
        "    plt.show()"
      ]
    },
    {
      "cell_type": "code",
      "execution_count": null,
      "id": "dca12785-5f49-4f33-aaa4-ad5df550468a",
      "metadata": {
        "id": "dca12785-5f49-4f33-aaa4-ad5df550468a"
      },
      "outputs": [],
      "source": [
        "def plot_multiple_loss_curves(results_dict, title=\"Model Comparison\"):\n",
        "    plt.figure(figsize=(12, 8))\n",
        "\n",
        "    for model_name, metrics in results_dict.items():\n",
        "        if 'train_losses' in metrics and 'val_losses' in metrics:\n",
        "            plt.plot(metrics['train_losses'], linestyle='--', alpha=0.7, label=f'{model_name} Train')\n",
        "            plt.plot(metrics['val_losses'], label=f'{model_name} Val')\n",
        "\n",
        "    plt.xlabel('Epochs')\n",
        "    plt.ylabel('Loss')\n",
        "    plt.title(f'{title} - Training and Validation Loss Comparison')\n",
        "    plt.legend(bbox_to_anchor=(1.05, 1), loc='upper left')\n",
        "    plt.grid(True, linestyle='--', alpha=0.6)\n",
        "    plt.tight_layout()\n",
        "    plt.savefig(f'{title.lower().replace(\" \", \"_\")}_comparison.png')\n",
        "    plt.show()"
      ]
    },
    {
      "cell_type": "markdown",
      "source": [
        "##  Main Execution & Experiments\n",
        "###  Baseline Model Training\n",
        "Training simple baseline classifier for performance comparison."
      ],
      "metadata": {
        "id": "AqSJpVIDv8Qk"
      },
      "id": "AqSJpVIDv8Qk"
    },
    {
      "cell_type": "code",
      "execution_count": null,
      "id": "fce5f61b-5efc-4281-9cb7-1cdd50e462ba",
      "metadata": {
        "colab": {
          "base_uri": "https://localhost:8080/"
        },
        "id": "fce5f61b-5efc-4281-9cb7-1cdd50e462ba",
        "outputId": "227a7735-7140-4bf3-ad79-d62b9ad03bae"
      },
      "outputs": [
        {
          "output_type": "stream",
          "name": "stdout",
          "text": [
            "\n",
            "--- Training Baseline Classifier ---\n",
            "=== BASELINE MODEL RESULTS ===\n",
            "Test Accuracy: 0.7815\n",
            "Test Macro F1: 0.7814\n",
            "Test Macro PR-AUC: 0.8364\n"
          ]
        }
      ],
      "source": [
        "# BASELINE COMPARISON\n",
        "# ====================================================================\n",
        "\n",
        "print(\"\\n--- Training Baseline Classifier ---\")\n",
        "(X_train_base, y_train_base), (X_val_base, y_val_base), (X_test_base, y_test_base), feature_names, label_to_idx_base = preprocess_for_baseline(train_data, test_data)\n",
        "\n",
        "baseline_model = BaselineSentimentClassifier()\n",
        "baseline_model.train(X_train_base, y_train_base, feature_names)\n",
        "baseline_metrics = evaluate_baseline(baseline_model, X_train_base, y_train_base, X_val_base, y_val_base, X_test_base, y_test_base)\n",
        "\n",
        "print(\"=== BASELINE MODEL RESULTS ===\")\n",
        "print(f\"Test Accuracy: {baseline_metrics['test']['accuracy']:.4f}\")\n",
        "print(f\"Test Macro F1: {baseline_metrics['test']['macro_f1']:.4f}\")\n",
        "print(f\"Test Macro PR-AUC: {baseline_metrics['test']['macro_pr_auc']:.4f}\")"
      ]
    },
    {
      "cell_type": "markdown",
      "source": [
        "### CNN Data Preparation\n",
        "Preprocessing data specifically for CNN training with embeddings."
      ],
      "metadata": {
        "id": "6Qcx449GwAkU"
      },
      "id": "6Qcx449GwAkU"
    },
    {
      "cell_type": "code",
      "execution_count": null,
      "id": "b125649e-7cb6-4e95-be19-32da8a2a5c65",
      "metadata": {
        "colab": {
          "base_uri": "https://localhost:8080/"
        },
        "id": "b125649e-7cb6-4e95-be19-32da8a2a5c65",
        "outputId": "25c5fa50-f133-448f-aacd-d6367e2c8692"
      },
      "outputs": [
        {
          "output_type": "stream",
          "name": "stdout",
          "text": [
            "\n",
            "--- Training CNN Models ---\n",
            "Vocabulary size: 10000\n",
            "Max sequence length: 256\n",
            "Training samples: 24500\n",
            "Validation samples: 10500\n",
            "Test samples: 15000\n"
          ]
        }
      ],
      "source": [
        "# CNN MODELS\n",
        "# ====================================================================\n",
        "\n",
        "print(\"\\n--- Training CNN Models ---\")\n",
        "\n",
        "# Preprocess data for CNN\n",
        "((X_train_seq, y_train_cnn, train_lengths),\n",
        " (X_val_seq, y_val_cnn, val_lengths),\n",
        " (X_test_seq, y_test_cnn, test_lengths),\n",
        " word_to_idx, label_to_idx_cnn) = preprocess_data_cnn(train_data, test_data)\n",
        "\n",
        "print(f\"Vocabulary size: {len(word_to_idx)}\")\n",
        "print(f\"Max sequence length: {X_train_seq.shape[1]}\")\n",
        "print(f\"Training samples: {len(X_train_seq)}\")\n",
        "print(f\"Validation samples: {len(X_val_seq)}\")\n",
        "print(f\"Test samples: {len(X_test_seq)}\")"
      ]
    },
    {
      "cell_type": "markdown",
      "source": [
        "### Hyperparameter Search\n",
        "Finding optimal CNN configuration through systematic tuning."
      ],
      "metadata": {
        "id": "DjQvFfElwHOs"
      },
      "id": "DjQvFfElwHOs"
    },
    {
      "cell_type": "code",
      "execution_count": null,
      "id": "9921be4c-40af-4271-9b25-9b0f5db690f4",
      "metadata": {
        "colab": {
          "base_uri": "https://localhost:8080/",
          "height": 1000
        },
        "id": "9921be4c-40af-4271-9b25-9b0f5db690f4",
        "outputId": "f70b8017-2d37-4df9-9524-e9ca9ced62d7"
      },
      "outputs": [
        {
          "output_type": "stream",
          "name": "stdout",
          "text": [
            "Loading pre-trained Word2Vec embeddings...\n",
            "Loaded 3000000 word vectors\n",
            "Found embeddings for 9109/10000 words\n",
            "Average document length (training sample): 129.7 words\n",
            "Average document length (test sample): 132.7 words\n",
            "\n",
            "--- Hyperparameter Tuning for CNN ---\n",
            "Testing 12 hyperparameter combinations\n"
          ]
        },
        {
          "output_type": "stream",
          "name": "stderr",
          "text": [
            "\rHyperparameter Tuning:   0%|          | 0/12 [00:00<?, ?it/s]"
          ]
        },
        {
          "output_type": "stream",
          "name": "stdout",
          "text": [
            "\n",
            "Testing parameters: {'model_type': 'single_filter', 'num_filters': 64, 'ngram_size': 3, 'num_layers': 2, 'pooling_type': 'attention', 'learning_rate': 0.0005, 'batch_size': 32, 'dropout': 0.3, 'freeze_embeddings': False}\n"
          ]
        },
        {
          "output_type": "stream",
          "name": "stderr",
          "text": [
            "\rHyperparameter Tuning:   8%|▊         | 1/12 [00:20<03:44, 20.44s/it]"
          ]
        },
        {
          "output_type": "stream",
          "name": "stdout",
          "text": [
            "New best model found! Validation loss: 0.42075\n",
            "\n",
            "Testing parameters: {'model_type': 'single_filter', 'num_filters': 64, 'ngram_size': 2, 'num_layers': 2, 'pooling_type': 'max_pool', 'learning_rate': 0.001, 'batch_size': 32, 'dropout': 0.4, 'freeze_embeddings': True}\n"
          ]
        },
        {
          "output_type": "stream",
          "name": "stderr",
          "text": [
            "\rHyperparameter Tuning:  17%|█▋        | 2/12 [00:34<02:49, 16.96s/it]"
          ]
        },
        {
          "output_type": "stream",
          "name": "stdout",
          "text": [
            "New best model found! Validation loss: 0.31976\n",
            "\n",
            "Testing parameters: {'model_type': 'single_filter', 'num_filters': 100, 'ngram_size': 2, 'num_layers': 3, 'pooling_type': 'attention', 'learning_rate': 0.001, 'batch_size': 64, 'dropout': 0.5, 'freeze_embeddings': True}\n"
          ]
        },
        {
          "output_type": "stream",
          "name": "stderr",
          "text": [
            "\rHyperparameter Tuning:  25%|██▌       | 3/12 [00:52<02:36, 17.40s/it]"
          ]
        },
        {
          "output_type": "stream",
          "name": "stdout",
          "text": [
            "New best model found! Validation loss: 0.28707\n",
            "\n",
            "Testing parameters: {'model_type': 'single_filter', 'num_filters': 100, 'ngram_size': 2, 'num_layers': 2, 'pooling_type': 'max_pool', 'learning_rate': 0.0005, 'batch_size': 64, 'dropout': 0.4, 'freeze_embeddings': True}\n"
          ]
        },
        {
          "output_type": "stream",
          "name": "stderr",
          "text": [
            "\rHyperparameter Tuning:  33%|███▎      | 4/12 [01:06<02:06, 15.78s/it]"
          ]
        },
        {
          "output_type": "stream",
          "name": "stdout",
          "text": [
            "\n",
            "Testing parameters: {'model_type': 'single_filter', 'num_filters': 100, 'ngram_size': 2, 'num_layers': 1, 'pooling_type': 'attention', 'learning_rate': 0.001, 'batch_size': 32, 'dropout': 0.3, 'freeze_embeddings': True}\n"
          ]
        },
        {
          "output_type": "stream",
          "name": "stderr",
          "text": [
            "\rHyperparameter Tuning:  42%|████▏     | 5/12 [01:21<01:50, 15.75s/it]"
          ]
        },
        {
          "output_type": "stream",
          "name": "stdout",
          "text": [
            "\n",
            "Testing parameters: {'model_type': 'single_filter', 'num_filters': 64, 'ngram_size': 3, 'num_layers': 3, 'pooling_type': 'attention', 'learning_rate': 0.0005, 'batch_size': 64, 'dropout': 0.4, 'freeze_embeddings': True}\n"
          ]
        },
        {
          "output_type": "stream",
          "name": "stderr",
          "text": [
            "\rHyperparameter Tuning:  50%|█████     | 6/12 [01:36<01:32, 15.38s/it]"
          ]
        },
        {
          "output_type": "stream",
          "name": "stdout",
          "text": [
            "New best model found! Validation loss: 0.28505\n",
            "\n",
            "Testing parameters: {'model_type': 'single_filter', 'num_filters': 64, 'ngram_size': 3, 'num_layers': 2, 'pooling_type': 'max_pool', 'learning_rate': 0.0005, 'batch_size': 32, 'dropout': 0.5, 'freeze_embeddings': True}\n"
          ]
        },
        {
          "output_type": "stream",
          "name": "stderr",
          "text": [
            "\rHyperparameter Tuning:  58%|█████▊    | 7/12 [01:51<01:16, 15.24s/it]"
          ]
        },
        {
          "output_type": "stream",
          "name": "stdout",
          "text": [
            "\n",
            "Testing parameters: {'model_type': 'multi_filter', 'num_filters': 100, 'num_layers': 3, 'pooling_type': 'max_pool', 'learning_rate': 0.0005, 'batch_size': 32, 'dropout': 0.3, 'freeze_embeddings': False}\n"
          ]
        },
        {
          "output_type": "stream",
          "name": "stderr",
          "text": [
            "\rHyperparameter Tuning:  67%|██████▋   | 8/12 [02:55<02:03, 30.82s/it]"
          ]
        },
        {
          "output_type": "stream",
          "name": "stdout",
          "text": [
            "\n",
            "Testing parameters: {'model_type': 'single_filter', 'num_filters': 64, 'ngram_size': 3, 'num_layers': 1, 'pooling_type': 'attention', 'learning_rate': 0.001, 'batch_size': 64, 'dropout': 0.5, 'freeze_embeddings': False}\n"
          ]
        },
        {
          "output_type": "stream",
          "name": "stderr",
          "text": [
            "\rHyperparameter Tuning:  75%|███████▌  | 9/12 [03:12<01:19, 26.48s/it]"
          ]
        },
        {
          "output_type": "stream",
          "name": "stdout",
          "text": [
            "\n",
            "Testing parameters: {'model_type': 'multi_filter', 'num_filters': 64, 'num_layers': 1, 'pooling_type': 'max_pool', 'learning_rate': 0.001, 'batch_size': 32, 'dropout': 0.3, 'freeze_embeddings': False}\n"
          ]
        },
        {
          "output_type": "stream",
          "name": "stderr",
          "text": [
            "\rHyperparameter Tuning:  83%|████████▎ | 10/12 [03:34<00:50, 25.08s/it]"
          ]
        },
        {
          "output_type": "stream",
          "name": "stdout",
          "text": [
            "\n",
            "Testing parameters: {'model_type': 'single_filter', 'num_filters': 64, 'ngram_size': 2, 'num_layers': 2, 'pooling_type': 'max_pool', 'learning_rate': 0.0005, 'batch_size': 32, 'dropout': 0.5, 'freeze_embeddings': True}\n"
          ]
        },
        {
          "output_type": "stream",
          "name": "stderr",
          "text": [
            "\rHyperparameter Tuning:  92%|█████████▏| 11/12 [03:48<00:21, 21.77s/it]"
          ]
        },
        {
          "output_type": "stream",
          "name": "stdout",
          "text": [
            "\n",
            "Testing parameters: {'model_type': 'single_filter', 'num_filters': 64, 'ngram_size': 2, 'num_layers': 2, 'pooling_type': 'max_pool', 'learning_rate': 0.0005, 'batch_size': 32, 'dropout': 0.3, 'freeze_embeddings': True}\n"
          ]
        },
        {
          "output_type": "stream",
          "name": "stderr",
          "text": [
            "Hyperparameter Tuning: 100%|██████████| 12/12 [04:03<00:00, 20.30s/it]\n"
          ]
        },
        {
          "output_type": "stream",
          "name": "stdout",
          "text": [
            "\n",
            "Top 3 hyperparameter configurations:\n",
            "1. Val Loss: 0.28505, Params: {'model_type': 'single_filter', 'num_filters': 64, 'ngram_size': 3, 'num_layers': 3, 'pooling_type': 'attention', 'learning_rate': 0.0005, 'batch_size': 64, 'dropout': 0.4, 'freeze_embeddings': True}\n",
            "2. Val Loss: 0.28707, Params: {'model_type': 'single_filter', 'num_filters': 100, 'ngram_size': 2, 'num_layers': 3, 'pooling_type': 'attention', 'learning_rate': 0.001, 'batch_size': 64, 'dropout': 0.5, 'freeze_embeddings': True}\n",
            "3. Val Loss: 0.30878, Params: {'model_type': 'single_filter', 'num_filters': 100, 'ngram_size': 2, 'num_layers': 1, 'pooling_type': 'attention', 'learning_rate': 0.001, 'batch_size': 32, 'dropout': 0.3, 'freeze_embeddings': True}\n",
            "\n",
            "Best CNN parameters: {'model_type': 'single_filter', 'num_filters': 64, 'ngram_size': 3, 'num_layers': 3, 'pooling_type': 'attention', 'learning_rate': 0.0005, 'batch_size': 64, 'dropout': 0.4, 'freeze_embeddings': True}\n",
            "\n",
            "--- Final CNN Training ---\n"
          ]
        },
        {
          "output_type": "stream",
          "name": "stderr",
          "text": [
            "Epoch 1/20 (Training): 100%|██████████| 383/383 [00:02<00:00, 147.40it/s]\n",
            "Epoch 1/20 (Validation): 100%|██████████| 165/165 [00:00<00:00, 323.18it/s]\n"
          ]
        },
        {
          "output_type": "stream",
          "name": "stdout",
          "text": [
            "Epoch 1/20 - Train Loss: 0.28951, Val Loss: 0.27883\n",
            "Model improved - saving to best_cnn_sentiment_model.pt\n"
          ]
        },
        {
          "output_type": "stream",
          "name": "stderr",
          "text": [
            "Epoch 2/20 (Training): 100%|██████████| 383/383 [00:02<00:00, 147.80it/s]\n",
            "Epoch 2/20 (Validation): 100%|██████████| 165/165 [00:00<00:00, 326.40it/s]\n"
          ]
        },
        {
          "output_type": "stream",
          "name": "stdout",
          "text": [
            "Epoch 2/20 - Train Loss: 0.27801, Val Loss: 0.28194\n",
            "Patience: 1/7\n"
          ]
        },
        {
          "output_type": "stream",
          "name": "stderr",
          "text": [
            "Epoch 3/20 (Training): 100%|██████████| 383/383 [00:02<00:00, 147.68it/s]\n",
            "Epoch 3/20 (Validation): 100%|██████████| 165/165 [00:00<00:00, 326.54it/s]\n"
          ]
        },
        {
          "output_type": "stream",
          "name": "stdout",
          "text": [
            "Epoch 3/20 - Train Loss: 0.26508, Val Loss: 0.31411\n",
            "Patience: 2/7\n"
          ]
        },
        {
          "output_type": "stream",
          "name": "stderr",
          "text": [
            "Epoch 4/20 (Training): 100%|██████████| 383/383 [00:02<00:00, 140.02it/s]\n",
            "Epoch 4/20 (Validation): 100%|██████████| 165/165 [00:00<00:00, 322.05it/s]\n"
          ]
        },
        {
          "output_type": "stream",
          "name": "stdout",
          "text": [
            "Epoch 4/20 - Train Loss: 0.25950, Val Loss: 0.27654\n",
            "Model improved - saving to best_cnn_sentiment_model.pt\n"
          ]
        },
        {
          "output_type": "stream",
          "name": "stderr",
          "text": [
            "Epoch 5/20 (Training): 100%|██████████| 383/383 [00:02<00:00, 147.57it/s]\n",
            "Epoch 5/20 (Validation): 100%|██████████| 165/165 [00:00<00:00, 327.21it/s]\n"
          ]
        },
        {
          "output_type": "stream",
          "name": "stdout",
          "text": [
            "Epoch 5/20 - Train Loss: 0.25450, Val Loss: 0.30907\n",
            "Patience: 1/7\n"
          ]
        },
        {
          "output_type": "stream",
          "name": "stderr",
          "text": [
            "Epoch 6/20 (Training): 100%|██████████| 383/383 [00:02<00:00, 147.75it/s]\n",
            "Epoch 6/20 (Validation): 100%|██████████| 165/165 [00:00<00:00, 325.77it/s]\n"
          ]
        },
        {
          "output_type": "stream",
          "name": "stdout",
          "text": [
            "Epoch 6/20 - Train Loss: 0.25173, Val Loss: 0.30192\n",
            "Patience: 2/7\n"
          ]
        },
        {
          "output_type": "stream",
          "name": "stderr",
          "text": [
            "Epoch 7/20 (Training): 100%|██████████| 383/383 [00:02<00:00, 147.53it/s]\n",
            "Epoch 7/20 (Validation): 100%|██████████| 165/165 [00:00<00:00, 328.30it/s]\n"
          ]
        },
        {
          "output_type": "stream",
          "name": "stdout",
          "text": [
            "Epoch 7/20 - Train Loss: 0.24246, Val Loss: 0.28209\n",
            "Patience: 3/7\n"
          ]
        },
        {
          "output_type": "stream",
          "name": "stderr",
          "text": [
            "Epoch 8/20 (Training): 100%|██████████| 383/383 [00:02<00:00, 137.93it/s]\n",
            "Epoch 8/20 (Validation): 100%|██████████| 165/165 [00:00<00:00, 328.17it/s]\n"
          ]
        },
        {
          "output_type": "stream",
          "name": "stdout",
          "text": [
            "Epoch 8/20 - Train Loss: 0.23122, Val Loss: 0.30508\n",
            "Patience: 4/7\n"
          ]
        },
        {
          "output_type": "stream",
          "name": "stderr",
          "text": [
            "Epoch 9/20 (Training): 100%|██████████| 383/383 [00:02<00:00, 147.45it/s]\n",
            "Epoch 9/20 (Validation): 100%|██████████| 165/165 [00:00<00:00, 330.97it/s]\n"
          ]
        },
        {
          "output_type": "stream",
          "name": "stdout",
          "text": [
            "Epoch 9/20 - Train Loss: 0.23059, Val Loss: 0.29049\n",
            "Patience: 5/7\n"
          ]
        },
        {
          "output_type": "stream",
          "name": "stderr",
          "text": [
            "Epoch 10/20 (Training): 100%|██████████| 383/383 [00:02<00:00, 147.16it/s]\n",
            "Epoch 10/20 (Validation): 100%|██████████| 165/165 [00:00<00:00, 329.57it/s]\n"
          ]
        },
        {
          "output_type": "stream",
          "name": "stdout",
          "text": [
            "Epoch 10/20 - Train Loss: 0.22780, Val Loss: 0.28210\n",
            "Patience: 6/7\n"
          ]
        },
        {
          "output_type": "stream",
          "name": "stderr",
          "text": [
            "Epoch 11/20 (Training): 100%|██████████| 383/383 [00:02<00:00, 147.35it/s]\n",
            "Epoch 11/20 (Validation): 100%|██████████| 165/165 [00:00<00:00, 313.13it/s]\n"
          ]
        },
        {
          "output_type": "stream",
          "name": "stdout",
          "text": [
            "Epoch 11/20 - Train Loss: 0.22400, Val Loss: 0.27499\n",
            "Model improved - saving to best_cnn_sentiment_model.pt\n"
          ]
        },
        {
          "output_type": "stream",
          "name": "stderr",
          "text": [
            "Epoch 12/20 (Training): 100%|██████████| 383/383 [00:02<00:00, 139.57it/s]\n",
            "Epoch 12/20 (Validation): 100%|██████████| 165/165 [00:00<00:00, 328.35it/s]\n"
          ]
        },
        {
          "output_type": "stream",
          "name": "stdout",
          "text": [
            "Epoch 12/20 - Train Loss: 0.21672, Val Loss: 0.30280\n",
            "Patience: 1/7\n"
          ]
        },
        {
          "output_type": "stream",
          "name": "stderr",
          "text": [
            "Epoch 13/20 (Training): 100%|██████████| 383/383 [00:02<00:00, 147.87it/s]\n",
            "Epoch 13/20 (Validation): 100%|██████████| 165/165 [00:00<00:00, 328.34it/s]\n"
          ]
        },
        {
          "output_type": "stream",
          "name": "stdout",
          "text": [
            "Epoch 13/20 - Train Loss: 0.21363, Val Loss: 0.27451\n",
            "Model improved - saving to best_cnn_sentiment_model.pt\n"
          ]
        },
        {
          "output_type": "stream",
          "name": "stderr",
          "text": [
            "Epoch 14/20 (Training): 100%|██████████| 383/383 [00:02<00:00, 147.32it/s]\n",
            "Epoch 14/20 (Validation): 100%|██████████| 165/165 [00:00<00:00, 330.22it/s]\n"
          ]
        },
        {
          "output_type": "stream",
          "name": "stdout",
          "text": [
            "Epoch 14/20 - Train Loss: 0.20716, Val Loss: 0.29576\n",
            "Patience: 1/7\n"
          ]
        },
        {
          "output_type": "stream",
          "name": "stderr",
          "text": [
            "Epoch 15/20 (Training): 100%|██████████| 383/383 [00:02<00:00, 146.35it/s]\n",
            "Epoch 15/20 (Validation): 100%|██████████| 165/165 [00:00<00:00, 301.40it/s]\n"
          ]
        },
        {
          "output_type": "stream",
          "name": "stdout",
          "text": [
            "Epoch 15/20 - Train Loss: 0.20266, Val Loss: 0.28820\n",
            "Patience: 2/7\n"
          ]
        },
        {
          "output_type": "stream",
          "name": "stderr",
          "text": [
            "Epoch 16/20 (Training): 100%|██████████| 383/383 [00:02<00:00, 142.09it/s]\n",
            "Epoch 16/20 (Validation): 100%|██████████| 165/165 [00:00<00:00, 326.88it/s]\n"
          ]
        },
        {
          "output_type": "stream",
          "name": "stdout",
          "text": [
            "Epoch 16/20 - Train Loss: 0.19842, Val Loss: 0.29411\n",
            "Patience: 3/7\n"
          ]
        },
        {
          "output_type": "stream",
          "name": "stderr",
          "text": [
            "Epoch 17/20 (Training): 100%|██████████| 383/383 [00:02<00:00, 147.49it/s]\n",
            "Epoch 17/20 (Validation): 100%|██████████| 165/165 [00:00<00:00, 328.59it/s]\n"
          ]
        },
        {
          "output_type": "stream",
          "name": "stdout",
          "text": [
            "Epoch 17/20 - Train Loss: 0.19349, Val Loss: 0.29880\n",
            "Patience: 4/7\n"
          ]
        },
        {
          "output_type": "stream",
          "name": "stderr",
          "text": [
            "Epoch 18/20 (Training): 100%|██████████| 383/383 [00:02<00:00, 146.08it/s]\n",
            "Epoch 18/20 (Validation): 100%|██████████| 165/165 [00:00<00:00, 326.82it/s]\n"
          ]
        },
        {
          "output_type": "stream",
          "name": "stdout",
          "text": [
            "Epoch 18/20 - Train Loss: 0.18591, Val Loss: 0.29646\n",
            "Patience: 5/7\n"
          ]
        },
        {
          "output_type": "stream",
          "name": "stderr",
          "text": [
            "Epoch 19/20 (Training): 100%|██████████| 383/383 [00:02<00:00, 143.82it/s]\n",
            "Epoch 19/20 (Validation): 100%|██████████| 165/165 [00:00<00:00, 290.99it/s]\n"
          ]
        },
        {
          "output_type": "stream",
          "name": "stdout",
          "text": [
            "Epoch 19/20 - Train Loss: 0.18866, Val Loss: 0.31593\n",
            "Patience: 6/7\n"
          ]
        },
        {
          "output_type": "stream",
          "name": "stderr",
          "text": [
            "Epoch 20/20 (Training): 100%|██████████| 383/383 [00:02<00:00, 142.77it/s]\n",
            "Epoch 20/20 (Validation): 100%|██████████| 165/165 [00:00<00:00, 326.73it/s]\n"
          ]
        },
        {
          "output_type": "stream",
          "name": "stdout",
          "text": [
            "Epoch 20/20 - Train Loss: 0.18535, Val Loss: 0.29472\n",
            "Patience: 7/7\n",
            "Early stopping after 20 epochs\n"
          ]
        },
        {
          "output_type": "display_data",
          "data": {
            "text/plain": [
              "<Figure size 1000x600 with 1 Axes>"
            ],
            "image/png": "[encoded data removed]"
          },
          "metadata": {}
        }
      ],
      "source": [
        "# Load pre-trained embeddings\n",
        "embedding_matrix = load_pretrained_embeddings(word_to_idx, embedding_dim=300)\n",
        "\n",
        "# Calculate dataset statistics\n",
        "avg_train_length = np.mean([len(tokenize([text])[0]) for text in train_data['text'][:1000]])\n",
        "avg_test_length = np.mean([len(tokenize([text])[0]) for text in test_data['text'][:1000]])\n",
        "\n",
        "print(f\"Average document length (training sample): {avg_train_length:.1f} words\")\n",
        "print(f\"Average document length (test sample): {avg_test_length:.1f} words\")\n",
        "\n",
        "# Hyperparameter tuning\n",
        "print(\"\\n--- Hyperparameter Tuning for CNN ---\")\n",
        "best_cnn_model, best_cnn_params, cnn_tuning_results = hyperparameter_tuning_cnn(\n",
        "    X_train_seq, y_train_cnn, X_val_seq, y_val_cnn,\n",
        "    vocab_size=len(word_to_idx),\n",
        "    embedding_matrix=embedding_matrix,\n",
        "    device=device,\n",
        "    verbose=True\n",
        ")\n",
        "\n",
        "print(f\"\\nBest CNN parameters: {best_cnn_params}\")\n",
        "\n",
        "# Prepare data loaders with best parameters\n",
        "batch_size_cnn = best_cnn_params['batch_size']\n",
        "\n",
        "train_dataset_cnn = TensorDataset(torch.LongTensor(X_train_seq).to(device),\n",
        "                                 torch.LongTensor(y_train_cnn).to(device))\n",
        "val_dataset_cnn = TensorDataset(torch.LongTensor(X_val_seq).to(device),\n",
        "                               torch.LongTensor(y_val_cnn).to(device))\n",
        "test_dataset_cnn = TensorDataset(torch.LongTensor(X_test_seq).to(device),\n",
        "                                torch.LongTensor(y_test_cnn).to(device))\n",
        "\n",
        "train_loader_cnn = DataLoader(train_dataset_cnn, batch_size=batch_size_cnn, shuffle=True)\n",
        "val_loader_cnn = DataLoader(val_dataset_cnn, batch_size=batch_size_cnn)\n",
        "test_loader_cnn = DataLoader(test_dataset_cnn, batch_size=batch_size_cnn)\n",
        "\n",
        "# Final training\n",
        "criterion_cnn = nn.CrossEntropyLoss()\n",
        "optimizer_cnn = optim.Adam(best_cnn_model.parameters(), lr=best_cnn_params['learning_rate'])\n",
        "\n",
        "print(\"\\n--- Final CNN Training ---\")\n",
        "cnn_model, cnn_train_losses, cnn_val_losses = train_cnn_model(\n",
        "    model=best_cnn_model,\n",
        "    train_loader=train_loader_cnn,\n",
        "    val_loader=val_loader_cnn,\n",
        "    criterion=criterion_cnn,\n",
        "    optimizer=optimizer_cnn,\n",
        "    epochs=20,\n",
        "    device=device,\n",
        "    patience=7\n",
        ")\n",
        "\n",
        "# Plot loss curves\n",
        "plot_loss_curves(cnn_train_losses, cnn_val_losses, title=\"CNN with N-gram Filters\")"
      ]
    },
    {
      "cell_type": "markdown",
      "source": [
        "### CNN Architecture Comparison\n",
        "Training multiple CNN variants to compare different design choices."
      ],
      "metadata": {
        "id": "CjmyeoPKwLpF"
      },
      "id": "CjmyeoPKwLpF"
    },
    {
      "cell_type": "code",
      "execution_count": null,
      "id": "c38a39fe-171c-4aca-b5da-8e6567e44555",
      "metadata": {
        "colab": {
          "base_uri": "https://localhost:8080/"
        },
        "id": "c38a39fe-171c-4aca-b5da-8e6567e44555",
        "outputId": "f1f30883-0c01-4f2b-cfc0-7eeb1ce9015d"
      },
      "outputs": [
        {
          "output_type": "stream",
          "name": "stdout",
          "text": [
            "\n",
            "--- Training Multiple CNN Variants ---\n"
          ]
        }
      ],
      "source": [
        "# TRAIN MULTIPLE CNN VARIANTS FOR COMPARISON\n",
        "# ====================================================================\n",
        "\n",
        "print(\"\\n--- Training Multiple CNN Variants ---\")\n",
        "\n",
        "# Define different CNN architectures to compare\n",
        "cnn_models = {\n",
        "    'CNN_Bigram_MaxPool': CNNModel(\n",
        "        vocab_size=len(word_to_idx), embed_dim=300, output_dim=2,\n",
        "        num_filters=100, ngram_kernel_size=2, num_layers=3,\n",
        "        use_pooling=True, use_attention=False, dropout_rate=0.4,\n",
        "        pretrained_embeddings=embedding_matrix, freeze_embeddings=False\n",
        "    ),\n",
        "    'CNN_Trigram_MaxPool': CNNModel(\n",
        "        vocab_size=len(word_to_idx), embed_dim=300, output_dim=2,\n",
        "        num_filters=100, ngram_kernel_size=3, num_layers=3,\n",
        "        use_pooling=True, use_attention=False, dropout_rate=0.4,\n",
        "        pretrained_embeddings=embedding_matrix, freeze_embeddings=False\n",
        "    ),\n",
        "    'CNN_Trigram_Attention': CNNModel(\n",
        "        vocab_size=len(word_to_idx), embed_dim=300, output_dim=2,\n",
        "        num_filters=100, ngram_kernel_size=3, num_layers=2,\n",
        "        use_pooling=False, use_attention=True, attention_dim=64, dropout_rate=0.4,\n",
        "        pretrained_embeddings=embedding_matrix, freeze_embeddings=False\n",
        "    ),\n",
        "    'CNN_MultiFilter_MaxPool': MultiFilterCNNModel(\n",
        "        vocab_size=len(word_to_idx), embed_dim=300, output_dim=2,\n",
        "        num_filters=100, num_layers=1,\n",
        "        use_pooling=True, use_attention=False, dropout_rate=0.4,\n",
        "        pretrained_embeddings=embedding_matrix, freeze_embeddings=False\n",
        "    ),\n",
        "    'CNN_MultiFilter_Attention': MultiFilterCNNModel(\n",
        "        vocab_size=len(word_to_idx), embed_dim=300, output_dim=2,\n",
        "        num_filters=100, num_layers=1,\n",
        "        use_pooling=False, use_attention=True, attention_dim=64, dropout_rate=0.4,\n",
        "        pretrained_embeddings=embedding_matrix, freeze_embeddings=False\n",
        "    )\n",
        "}"
      ]
    },
    {
      "cell_type": "code",
      "execution_count": null,
      "id": "b58c7d92-7795-4023-890b-d87e8f9b6b1b",
      "metadata": {
        "colab": {
          "base_uri": "https://localhost:8080/",
          "height": 1000
        },
        "id": "b58c7d92-7795-4023-890b-d87e8f9b6b1b",
        "outputId": "8be2a947-d2b2-453e-9524-567f3ead541e"
      },
      "outputs": [
        {
          "output_type": "stream",
          "name": "stdout",
          "text": [
            "\n",
            "Training CNN_Bigram_MaxPool...\n"
          ]
        },
        {
          "output_type": "stream",
          "name": "stderr",
          "text": [
            "Epoch 1/15 (Training): 100%|██████████| 383/383 [00:03<00:00, 96.87it/s]\n",
            "Epoch 1/15 (Validation): 100%|██████████| 165/165 [00:00<00:00, 287.04it/s]\n"
          ]
        },
        {
          "output_type": "stream",
          "name": "stdout",
          "text": [
            "Epoch 1/15 - Train Loss: 0.51347, Val Loss: 0.32503\n",
            "Model improved - saving to best_cnn_sentiment_model.pt\n"
          ]
        },
        {
          "output_type": "stream",
          "name": "stderr",
          "text": [
            "Epoch 2/15 (Training): 100%|██████████| 383/383 [00:04<00:00, 92.78it/s]\n",
            "Epoch 2/15 (Validation): 100%|██████████| 165/165 [00:00<00:00, 298.23it/s]\n"
          ]
        },
        {
          "output_type": "stream",
          "name": "stdout",
          "text": [
            "Epoch 2/15 - Train Loss: 0.35222, Val Loss: 0.30027\n",
            "Model improved - saving to best_cnn_sentiment_model.pt\n"
          ]
        },
        {
          "output_type": "stream",
          "name": "stderr",
          "text": [
            "Epoch 3/15 (Training): 100%|██████████| 383/383 [00:03<00:00, 98.12it/s]\n",
            "Epoch 3/15 (Validation): 100%|██████████| 165/165 [00:00<00:00, 294.32it/s]\n"
          ]
        },
        {
          "output_type": "stream",
          "name": "stdout",
          "text": [
            "Epoch 3/15 - Train Loss: 0.29114, Val Loss: 0.31465\n",
            "Patience: 1/5\n"
          ]
        },
        {
          "output_type": "stream",
          "name": "stderr",
          "text": [
            "Epoch 4/15 (Training): 100%|██████████| 383/383 [00:03<00:00, 97.36it/s]\n",
            "Epoch 4/15 (Validation): 100%|██████████| 165/165 [00:00<00:00, 290.82it/s]\n"
          ]
        },
        {
          "output_type": "stream",
          "name": "stdout",
          "text": [
            "Epoch 4/15 - Train Loss: 0.24179, Val Loss: 0.31733\n",
            "Patience: 2/5\n"
          ]
        },
        {
          "output_type": "stream",
          "name": "stderr",
          "text": [
            "Epoch 5/15 (Training): 100%|██████████| 383/383 [00:04<00:00, 94.89it/s]\n",
            "Epoch 5/15 (Validation): 100%|██████████| 165/165 [00:00<00:00, 290.81it/s]\n"
          ]
        },
        {
          "output_type": "stream",
          "name": "stdout",
          "text": [
            "Epoch 5/15 - Train Loss: 0.19711, Val Loss: 0.33040\n",
            "Patience: 3/5\n"
          ]
        },
        {
          "output_type": "stream",
          "name": "stderr",
          "text": [
            "Epoch 6/15 (Training): 100%|██████████| 383/383 [00:03<00:00, 96.39it/s]\n",
            "Epoch 6/15 (Validation): 100%|██████████| 165/165 [00:00<00:00, 289.81it/s]\n"
          ]
        },
        {
          "output_type": "stream",
          "name": "stdout",
          "text": [
            "Epoch 6/15 - Train Loss: 0.16289, Val Loss: 0.35564\n",
            "Patience: 4/5\n"
          ]
        },
        {
          "output_type": "stream",
          "name": "stderr",
          "text": [
            "Epoch 7/15 (Training): 100%|██████████| 383/383 [00:03<00:00, 96.65it/s]\n",
            "Epoch 7/15 (Validation): 100%|██████████| 165/165 [00:00<00:00, 276.84it/s]\n"
          ]
        },
        {
          "output_type": "stream",
          "name": "stdout",
          "text": [
            "Epoch 7/15 - Train Loss: 0.13519, Val Loss: 0.39704\n",
            "Patience: 5/5\n",
            "Early stopping after 7 epochs\n",
            "\n",
            "Training CNN_Trigram_MaxPool...\n"
          ]
        },
        {
          "output_type": "stream",
          "name": "stderr",
          "text": [
            "Epoch 1/15 (Training): 100%|██████████| 383/383 [00:04<00:00, 82.43it/s]\n",
            "Epoch 1/15 (Validation): 100%|██████████| 165/165 [00:00<00:00, 246.44it/s]\n"
          ]
        },
        {
          "output_type": "stream",
          "name": "stdout",
          "text": [
            "Epoch 1/15 - Train Loss: 0.56507, Val Loss: 0.37769\n",
            "Model improved - saving to best_cnn_sentiment_model.pt\n"
          ]
        },
        {
          "output_type": "stream",
          "name": "stderr",
          "text": [
            "Epoch 2/15 (Training): 100%|██████████| 383/383 [00:04<00:00, 83.30it/s]\n",
            "Epoch 2/15 (Validation): 100%|██████████| 165/165 [00:00<00:00, 247.63it/s]\n"
          ]
        },
        {
          "output_type": "stream",
          "name": "stdout",
          "text": [
            "Epoch 2/15 - Train Loss: 0.35213, Val Loss: 0.31308\n",
            "Model improved - saving to best_cnn_sentiment_model.pt\n"
          ]
        },
        {
          "output_type": "stream",
          "name": "stderr",
          "text": [
            "Epoch 3/15 (Training): 100%|██████████| 383/383 [00:04<00:00, 82.93it/s]\n",
            "Epoch 3/15 (Validation): 100%|██████████| 165/165 [00:00<00:00, 250.70it/s]\n"
          ]
        },
        {
          "output_type": "stream",
          "name": "stdout",
          "text": [
            "Epoch 3/15 - Train Loss: 0.28715, Val Loss: 0.30022\n",
            "Model improved - saving to best_cnn_sentiment_model.pt\n"
          ]
        },
        {
          "output_type": "stream",
          "name": "stderr",
          "text": [
            "Epoch 4/15 (Training): 100%|██████████| 383/383 [00:04<00:00, 84.59it/s]\n",
            "Epoch 4/15 (Validation): 100%|██████████| 165/165 [00:00<00:00, 251.07it/s]\n"
          ]
        },
        {
          "output_type": "stream",
          "name": "stdout",
          "text": [
            "Epoch 4/15 - Train Loss: 0.23955, Val Loss: 0.30678\n",
            "Patience: 1/5\n"
          ]
        },
        {
          "output_type": "stream",
          "name": "stderr",
          "text": [
            "Epoch 5/15 (Training): 100%|██████████| 383/383 [00:04<00:00, 83.59it/s]\n",
            "Epoch 5/15 (Validation): 100%|██████████| 165/165 [00:00<00:00, 253.37it/s]\n"
          ]
        },
        {
          "output_type": "stream",
          "name": "stdout",
          "text": [
            "Epoch 5/15 - Train Loss: 0.19650, Val Loss: 0.34189\n",
            "Patience: 2/5\n"
          ]
        },
        {
          "output_type": "stream",
          "name": "stderr",
          "text": [
            "Epoch 6/15 (Training): 100%|██████████| 383/383 [00:04<00:00, 85.26it/s]\n",
            "Epoch 6/15 (Validation): 100%|██████████| 165/165 [00:00<00:00, 255.78it/s]\n"
          ]
        },
        {
          "output_type": "stream",
          "name": "stdout",
          "text": [
            "Epoch 6/15 - Train Loss: 0.16362, Val Loss: 0.37469\n",
            "Patience: 3/5\n"
          ]
        },
        {
          "output_type": "stream",
          "name": "stderr",
          "text": [
            "Epoch 7/15 (Training): 100%|██████████| 383/383 [00:04<00:00, 84.85it/s]\n",
            "Epoch 7/15 (Validation): 100%|██████████| 165/165 [00:00<00:00, 233.51it/s]\n"
          ]
        },
        {
          "output_type": "stream",
          "name": "stdout",
          "text": [
            "Epoch 7/15 - Train Loss: 0.13149, Val Loss: 0.41330\n",
            "Patience: 4/5\n"
          ]
        },
        {
          "output_type": "stream",
          "name": "stderr",
          "text": [
            "Epoch 8/15 (Training): 100%|██████████| 383/383 [00:04<00:00, 85.18it/s]\n",
            "Epoch 8/15 (Validation): 100%|██████████| 165/165 [00:00<00:00, 253.32it/s]\n"
          ]
        },
        {
          "output_type": "stream",
          "name": "stdout",
          "text": [
            "Epoch 8/15 - Train Loss: 0.10287, Val Loss: 0.52346\n",
            "Patience: 5/5\n",
            "Early stopping after 8 epochs\n",
            "\n",
            "Training CNN_Trigram_Attention...\n"
          ]
        },
        {
          "output_type": "stream",
          "name": "stderr",
          "text": [
            "Epoch 1/15 (Training): 100%|██████████| 383/383 [00:03<00:00, 96.04it/s]\n",
            "Epoch 1/15 (Validation): 100%|██████████| 165/165 [00:00<00:00, 286.18it/s]\n"
          ]
        },
        {
          "output_type": "stream",
          "name": "stdout",
          "text": [
            "Epoch 1/15 - Train Loss: 0.34762, Val Loss: 0.26023\n",
            "Model improved - saving to best_cnn_sentiment_model.pt\n"
          ]
        },
        {
          "output_type": "stream",
          "name": "stderr",
          "text": [
            "Epoch 2/15 (Training): 100%|██████████| 383/383 [00:04<00:00, 94.40it/s]\n",
            "Epoch 2/15 (Validation): 100%|██████████| 165/165 [00:00<00:00, 283.99it/s]\n"
          ]
        },
        {
          "output_type": "stream",
          "name": "stdout",
          "text": [
            "Epoch 2/15 - Train Loss: 0.23839, Val Loss: 0.26153\n",
            "Patience: 1/5\n"
          ]
        },
        {
          "output_type": "stream",
          "name": "stderr",
          "text": [
            "Epoch 3/15 (Training): 100%|██████████| 383/383 [00:04<00:00, 95.53it/s]\n",
            "Epoch 3/15 (Validation): 100%|██████████| 165/165 [00:00<00:00, 285.71it/s]\n"
          ]
        },
        {
          "output_type": "stream",
          "name": "stdout",
          "text": [
            "Epoch 3/15 - Train Loss: 0.18158, Val Loss: 0.28355\n",
            "Patience: 2/5\n"
          ]
        },
        {
          "output_type": "stream",
          "name": "stderr",
          "text": [
            "Epoch 4/15 (Training): 100%|██████████| 383/383 [00:04<00:00, 94.86it/s]\n",
            "Epoch 4/15 (Validation): 100%|██████████| 165/165 [00:00<00:00, 263.09it/s]\n"
          ]
        },
        {
          "output_type": "stream",
          "name": "stdout",
          "text": [
            "Epoch 4/15 - Train Loss: 0.13465, Val Loss: 0.31995\n",
            "Patience: 3/5\n"
          ]
        },
        {
          "output_type": "stream",
          "name": "stderr",
          "text": [
            "Epoch 5/15 (Training): 100%|██████████| 383/383 [00:04<00:00, 94.67it/s]\n",
            "Epoch 5/15 (Validation): 100%|██████████| 165/165 [00:00<00:00, 281.08it/s]\n"
          ]
        },
        {
          "output_type": "stream",
          "name": "stdout",
          "text": [
            "Epoch 5/15 - Train Loss: 0.10438, Val Loss: 0.40867\n",
            "Patience: 4/5\n"
          ]
        },
        {
          "output_type": "stream",
          "name": "stderr",
          "text": [
            "Epoch 6/15 (Training): 100%|██████████| 383/383 [00:04<00:00, 95.08it/s]\n",
            "Epoch 6/15 (Validation): 100%|██████████| 165/165 [00:00<00:00, 281.68it/s]\n"
          ]
        },
        {
          "output_type": "stream",
          "name": "stdout",
          "text": [
            "Epoch 6/15 - Train Loss: 0.07843, Val Loss: 0.39375\n",
            "Patience: 5/5\n",
            "Early stopping after 6 epochs\n",
            "\n",
            "Training CNN_MultiFilter_MaxPool...\n"
          ]
        },
        {
          "output_type": "stream",
          "name": "stderr",
          "text": [
            "Epoch 1/15 (Training): 100%|██████████| 383/383 [00:04<00:00, 82.74it/s]\n",
            "Epoch 1/15 (Validation): 100%|██████████| 165/165 [00:00<00:00, 264.23it/s]\n"
          ]
        },
        {
          "output_type": "stream",
          "name": "stdout",
          "text": [
            "Epoch 1/15 - Train Loss: 0.49560, Val Loss: 0.30987\n",
            "Model improved - saving to best_cnn_sentiment_model.pt\n"
          ]
        },
        {
          "output_type": "stream",
          "name": "stderr",
          "text": [
            "Epoch 2/15 (Training): 100%|██████████| 383/383 [00:04<00:00, 83.80it/s]\n",
            "Epoch 2/15 (Validation): 100%|██████████| 165/165 [00:00<00:00, 263.18it/s]\n"
          ]
        },
        {
          "output_type": "stream",
          "name": "stdout",
          "text": [
            "Epoch 2/15 - Train Loss: 0.31911, Val Loss: 0.29835\n",
            "Model improved - saving to best_cnn_sentiment_model.pt\n"
          ]
        },
        {
          "output_type": "stream",
          "name": "stderr",
          "text": [
            "Epoch 3/15 (Training): 100%|██████████| 383/383 [00:04<00:00, 83.01it/s]\n",
            "Epoch 3/15 (Validation): 100%|██████████| 165/165 [00:00<00:00, 242.15it/s]\n"
          ]
        },
        {
          "output_type": "stream",
          "name": "stdout",
          "text": [
            "Epoch 3/15 - Train Loss: 0.27422, Val Loss: 0.31046\n",
            "Patience: 1/5\n"
          ]
        },
        {
          "output_type": "stream",
          "name": "stderr",
          "text": [
            "Epoch 4/15 (Training): 100%|██████████| 383/383 [00:04<00:00, 83.89it/s]\n",
            "Epoch 4/15 (Validation): 100%|██████████| 165/165 [00:00<00:00, 265.91it/s]\n"
          ]
        },
        {
          "output_type": "stream",
          "name": "stdout",
          "text": [
            "Epoch 4/15 - Train Loss: 0.23403, Val Loss: 0.32765\n",
            "Patience: 2/5\n"
          ]
        },
        {
          "output_type": "stream",
          "name": "stderr",
          "text": [
            "Epoch 5/15 (Training): 100%|██████████| 383/383 [00:04<00:00, 83.79it/s]\n",
            "Epoch 5/15 (Validation): 100%|██████████| 165/165 [00:00<00:00, 256.25it/s]\n"
          ]
        },
        {
          "output_type": "stream",
          "name": "stdout",
          "text": [
            "Epoch 5/15 - Train Loss: 0.19978, Val Loss: 0.34127\n",
            "Patience: 3/5\n"
          ]
        },
        {
          "output_type": "stream",
          "name": "stderr",
          "text": [
            "Epoch 6/15 (Training): 100%|██████████| 383/383 [00:04<00:00, 83.09it/s]\n",
            "Epoch 6/15 (Validation): 100%|██████████| 165/165 [00:00<00:00, 265.15it/s]\n"
          ]
        },
        {
          "output_type": "stream",
          "name": "stdout",
          "text": [
            "Epoch 6/15 - Train Loss: 0.17302, Val Loss: 0.39712\n",
            "Patience: 4/5\n"
          ]
        },
        {
          "output_type": "stream",
          "name": "stderr",
          "text": [
            "Epoch 7/15 (Training): 100%|██████████| 383/383 [00:04<00:00, 84.17it/s]\n",
            "Epoch 7/15 (Validation): 100%|██████████| 165/165 [00:00<00:00, 266.47it/s]\n"
          ]
        },
        {
          "output_type": "stream",
          "name": "stdout",
          "text": [
            "Epoch 7/15 - Train Loss: 0.15304, Val Loss: 0.42589\n",
            "Patience: 5/5\n",
            "Early stopping after 7 epochs\n",
            "\n",
            "Training CNN_MultiFilter_Attention...\n"
          ]
        },
        {
          "output_type": "stream",
          "name": "stderr",
          "text": [
            "Epoch 1/15 (Training): 100%|██████████| 383/383 [00:05<00:00, 71.67it/s]\n",
            "Epoch 1/15 (Validation): 100%|██████████| 165/165 [00:00<00:00, 249.38it/s]\n"
          ]
        },
        {
          "output_type": "stream",
          "name": "stdout",
          "text": [
            "Epoch 1/15 - Train Loss: 0.32466, Val Loss: 0.26457\n",
            "Model improved - saving to best_cnn_sentiment_model.pt\n"
          ]
        },
        {
          "output_type": "stream",
          "name": "stderr",
          "text": [
            "Epoch 2/15 (Training): 100%|██████████| 383/383 [00:05<00:00, 72.73it/s]\n",
            "Epoch 2/15 (Validation): 100%|██████████| 165/165 [00:00<00:00, 248.71it/s]\n"
          ]
        },
        {
          "output_type": "stream",
          "name": "stdout",
          "text": [
            "Epoch 2/15 - Train Loss: 0.21378, Val Loss: 0.30104\n",
            "Patience: 1/5\n"
          ]
        },
        {
          "output_type": "stream",
          "name": "stderr",
          "text": [
            "Epoch 3/15 (Training): 100%|██████████| 383/383 [00:05<00:00, 71.77it/s]\n",
            "Epoch 3/15 (Validation): 100%|██████████| 165/165 [00:00<00:00, 249.55it/s]\n"
          ]
        },
        {
          "output_type": "stream",
          "name": "stdout",
          "text": [
            "Epoch 3/15 - Train Loss: 0.15753, Val Loss: 0.32672\n",
            "Patience: 2/5\n"
          ]
        },
        {
          "output_type": "stream",
          "name": "stderr",
          "text": [
            "Epoch 4/15 (Training): 100%|██████████| 383/383 [00:05<00:00, 72.89it/s]\n",
            "Epoch 4/15 (Validation): 100%|██████████| 165/165 [00:00<00:00, 250.07it/s]\n"
          ]
        },
        {
          "output_type": "stream",
          "name": "stdout",
          "text": [
            "Epoch 4/15 - Train Loss: 0.10870, Val Loss: 0.42243\n",
            "Patience: 3/5\n"
          ]
        },
        {
          "output_type": "stream",
          "name": "stderr",
          "text": [
            "Epoch 5/15 (Training): 100%|██████████| 383/383 [00:05<00:00, 72.09it/s]\n",
            "Epoch 5/15 (Validation): 100%|██████████| 165/165 [00:00<00:00, 249.67it/s]\n"
          ]
        },
        {
          "output_type": "stream",
          "name": "stdout",
          "text": [
            "Epoch 5/15 - Train Loss: 0.07645, Val Loss: 0.50223\n",
            "Patience: 4/5\n"
          ]
        },
        {
          "output_type": "stream",
          "name": "stderr",
          "text": [
            "Epoch 6/15 (Training): 100%|██████████| 383/383 [00:05<00:00, 73.00it/s]\n",
            "Epoch 6/15 (Validation): 100%|██████████| 165/165 [00:00<00:00, 246.86it/s]\n"
          ]
        },
        {
          "output_type": "stream",
          "name": "stdout",
          "text": [
            "Epoch 6/15 - Train Loss: 0.05679, Val Loss: 0.51231\n",
            "Patience: 5/5\n",
            "Early stopping after 6 epochs\n"
          ]
        },
        {
          "output_type": "display_data",
          "data": {
            "text/plain": [
              "<Figure size 1200x800 with 1 Axes>"
            ],
            "image/png": "[encoded data removed]"
          },
          "metadata": {}
        }
      ],
      "source": [
        "cnn_results = {}\n",
        "epochs = 15\n",
        "\n",
        "for name, model in cnn_models.items():\n",
        "    print(f\"\\nTraining {name}...\")\n",
        "    model = model.to(device)\n",
        "    criterion = nn.CrossEntropyLoss()\n",
        "    optimizer = optim.Adam(model.parameters(), lr=0.001)\n",
        "\n",
        "    trained_model, train_losses, val_losses = train_cnn_model(\n",
        "        model, train_loader_cnn, val_loader_cnn, criterion, optimizer,\n",
        "        epochs=epochs, device=device, patience=5\n",
        "    )\n",
        "\n",
        "    cnn_results[name] = {\n",
        "        'model': trained_model,\n",
        "        'train_losses': train_losses,\n",
        "        'val_losses': val_losses\n",
        "    }\n",
        "\n",
        "# Plot comparison of all models\n",
        "plot_multiple_loss_curves(cnn_results, title=\"CNN Models Comparison\")"
      ]
    },
    {
      "cell_type": "markdown",
      "source": [
        "### Model Evaluation\n",
        "Comprehensive evaluation of all trained models on test set."
      ],
      "metadata": {
        "id": "M8c4N0RMwP49"
      },
      "id": "M8c4N0RMwP49"
    },
    {
      "cell_type": "code",
      "execution_count": null,
      "id": "f9d74fd4-5cda-40b1-a06e-ad8967da0f3b",
      "metadata": {
        "colab": {
          "base_uri": "https://localhost:8080/"
        },
        "id": "f9d74fd4-5cda-40b1-a06e-ad8967da0f3b",
        "outputId": "9e798991-7ae7-4172-ef03-740e854dbbd2"
      },
      "outputs": [
        {
          "output_type": "stream",
          "name": "stdout",
          "text": [
            "\n",
            "--- Model Evaluation ---\n",
            "\n",
            "=== BEST CNN MODEL (CNN_Trigram_Attention) DETAILED METRICS ===\n",
            "Split     Accuracy    Precision   Recall      F1          PR-AUC      \n",
            "----------------------------------------------------------------------\n",
            "Train     0.9262        0.9270        0.9262        0.9261        0.9778\n",
            "Val       0.8931        0.8941        0.8930        0.8931        0.9599\n",
            "Test      0.8935        0.8948        0.8935        0.8934        0.9597\n",
            "\n",
            "=== CNN_Trigram_Attention PER-CLASS METRICS ===\n",
            "Class     Split     Precision   Recall      F1          PR-AUC      \n",
            "----------------------------------------------------------------------\n",
            "negative  Train     0.9071        0.9492        0.9277        0.9776\n",
            "negative  Val       0.8758        0.9173        0.8961        0.9625\n",
            "negative  Test      0.8718        0.9227        0.8965        0.9612\n",
            "----------------------------------------------------------------------\n",
            "positive  Train     0.9470        0.9032        0.9246        0.9779\n",
            "positive  Val       0.9124        0.8688        0.8900        0.9572\n",
            "positive  Test      0.9179        0.8643        0.8903        0.9582\n",
            "----------------------------------------------------------------------\n"
          ]
        }
      ],
      "source": [
        "# EVALUATION AND COMPARISON\n",
        "# ====================================================================\n",
        "\n",
        "print(\"\\n--- Model Evaluation ---\")\n",
        "\n",
        "# Evaluate all CNN models\n",
        "for name, result in cnn_results.items():\n",
        "    model = result['model']\n",
        "    train_preds, train_probs, train_labels = get_predictions_and_labels_cnn(model, train_loader_cnn)\n",
        "    val_preds, val_probs, val_labels = get_predictions_and_labels_cnn(model, val_loader_cnn)\n",
        "    test_preds, test_probs, test_labels = get_predictions_and_labels_cnn(model, test_loader_cnn)\n",
        "\n",
        "    train_metrics = calculate_metrics(train_labels, train_preds, train_probs)\n",
        "    val_metrics = calculate_metrics(val_labels, val_preds, val_probs)\n",
        "    test_metrics = calculate_metrics(test_labels, test_preds, test_probs)\n",
        "\n",
        "    result['metrics'] = {\n",
        "        'train': train_metrics,\n",
        "        'val': val_metrics,\n",
        "        'test': test_metrics\n",
        "    }\n",
        "\n",
        "# Print detailed metrics for best model\n",
        "best_model_name = min(cnn_results.keys(),\n",
        "                     key=lambda x: min(cnn_results[x]['val_losses']))\n",
        "best_cnn_metrics = cnn_results[best_model_name]['metrics']\n",
        "\n",
        "print(f\"\\n=== BEST CNN MODEL ({best_model_name}) DETAILED METRICS ===\")\n",
        "print(f\"{'Split':<10}{'Accuracy':<12}{'Precision':<12}{'Recall':<12}{'F1':<12}{'PR-AUC':<12}\")\n",
        "print(\"-\" * 70)\n",
        "for split_name, metrics in best_cnn_metrics.items():\n",
        "    print(f\"{split_name.title():<10}{metrics['accuracy']:.4f}{' '*8}{metrics['macro_precision']:.4f}{' '*8}{metrics['macro_recall']:.4f}{' '*8}{metrics['macro_f1']:.4f}{' '*8}{metrics['macro_pr_auc']:.4f}\")\n",
        "\n",
        "# Print per-class metrics for best CNN model\n",
        "print(f\"\\n=== {best_model_name} PER-CLASS METRICS ===\")\n",
        "n_classes = len(label_to_idx_cnn)\n",
        "print(f\"{'Class':<10}{'Split':<10}{'Precision':<12}{'Recall':<12}{'F1':<12}{'PR-AUC':<12}\")\n",
        "print(\"-\" * 70)\n",
        "\n",
        "for class_idx in range(n_classes):\n",
        "    class_name = [k for k, v in label_to_idx_cnn.items() if v == class_idx][0]\n",
        "    for split_name, metrics in best_cnn_metrics.items():\n",
        "        class_metrics = metrics['class_metrics'][class_idx]\n",
        "        print(f\"{class_name:<10}{split_name.title():<10}{class_metrics['precision']:.4f}{' '*8}{class_metrics['recall']:.4f}{' '*8}{class_metrics['f1']:.4f}{' '*8}{class_metrics['pr_auc']:.4f}\")\n",
        "    print(\"-\" * 70)"
      ]
    },
    {
      "cell_type": "markdown",
      "source": [
        "##  Results Analysis & Comparison\n",
        "### Performance Summary\n",
        "Comparing all models and analyzing improvements over baseline."
      ],
      "metadata": {
        "id": "8kj_CIoJwU2P"
      },
      "id": "8kj_CIoJwU2P"
    },
    {
      "cell_type": "code",
      "execution_count": null,
      "id": "e202e2fb-1142-45a7-ab39-771b55b6cb75",
      "metadata": {
        "colab": {
          "base_uri": "https://localhost:8080/",
          "height": 1000
        },
        "id": "e202e2fb-1142-45a7-ab39-771b55b6cb75",
        "outputId": "63a8455a-e915-4c63-a1c3-fca17fa83a48"
      },
      "outputs": [
        {
          "output_type": "stream",
          "name": "stdout",
          "text": [
            "\n",
            "================================================================================\n",
            "FINAL MODEL COMPARISON\n",
            "================================================================================\n",
            "\n",
            "=== TEST SET PERFORMANCE COMPARISON ===\n",
            "Model                         Accuracy    Macro F1    Macro PR-AUCImprovement    \n",
            "-------------------------------------------------------------------------------------\n",
            "Baseline                      0.7815        0.7814        0.8364        ---            \n",
            "CNN_Trigram_Attention         0.8935        0.8934        0.9597        +14.3% accuracy\n",
            "\n",
            "=== ALL CNN MODELS COMPARISON (TEST SET) ===\n",
            "Model                         Accuracy    Macro F1    Macro PR-AUC\n",
            "---------------------------------------------------------------------------\n",
            "CNN_Bigram_MaxPool            0.8775        0.8775        0.9509\n",
            "CNN_Trigram_MaxPool           0.8816        0.8816        0.9526\n",
            "CNN_Trigram_Attention         0.8935        0.8934        0.9597\n",
            "CNN_MultiFilter_MaxPool       0.8789        0.8789        0.9508\n",
            "CNN_MultiFilter_Attention     0.8970        0.8969        0.9609\n"
          ]
        },
        {
          "output_type": "display_data",
          "data": {
            "text/plain": [
              "<Figure size 1800x1000 with 6 Axes>"
            ],
            "image/png": "[encoded data removed]"
          },
          "metadata": {}
        }
      ],
      "source": [
        "# FINAL COMPARISON\n",
        "# ====================================================================\n",
        "\n",
        "print(\"\\n\" + \"=\"*80)\n",
        "print(\"FINAL MODEL COMPARISON\")\n",
        "print(\"=\"*80)\n",
        "\n",
        "# Extract test metrics for comparison\n",
        "baseline_acc = baseline_metrics['test']['accuracy']\n",
        "baseline_f1 = baseline_metrics['test']['macro_f1']\n",
        "baseline_pr_auc = baseline_metrics['test']['macro_pr_auc']\n",
        "\n",
        "best_cnn_acc = best_cnn_metrics['test']['accuracy']\n",
        "best_cnn_f1 = best_cnn_metrics['test']['macro_f1']\n",
        "best_cnn_pr_auc = best_cnn_metrics['test']['macro_pr_auc']\n",
        "\n",
        "print(f\"\\n=== TEST SET PERFORMANCE COMPARISON ===\")\n",
        "print(f\"{'Model':<30}{'Accuracy':<12}{'Macro F1':<12}{'Macro PR-AUC':<12}{'Improvement':<15}\")\n",
        "print(\"-\" * 85)\n",
        "print(f\"{'Baseline':<30}{baseline_acc:.4f}{' '*8}{baseline_f1:.4f}{' '*8}{baseline_pr_auc:.4f}{' '*8}{'---':<15}\")\n",
        "print(f\"{best_model_name:<30}{best_cnn_acc:.4f}{' '*8}{best_cnn_f1:.4f}{' '*8}{best_cnn_pr_auc:.4f}{' '*8}{((best_cnn_acc - baseline_acc) / baseline_acc * 100):+.1f}% accuracy\")\n",
        "\n",
        "# Print all CNN model results\n",
        "print(f\"\\n=== ALL CNN MODELS COMPARISON (TEST SET) ===\")\n",
        "print(f\"{'Model':<30}{'Accuracy':<12}{'Macro F1':<12}{'Macro PR-AUC':<12}\")\n",
        "print(\"-\" * 75)\n",
        "for name, result in cnn_results.items():\n",
        "    metrics = result['metrics']['test']\n",
        "    print(f\"{name:<30}{metrics['accuracy']:.4f}{' '*8}{metrics['macro_f1']:.4f}{' '*8}{metrics['macro_pr_auc']:.4f}\")\n",
        "\n",
        "# Plot precision-recall curves for best model\n",
        "best_model = cnn_results[best_model_name]['model']\n",
        "train_preds, train_probs, train_labels = get_predictions_and_labels_cnn(best_model, train_loader_cnn)\n",
        "val_preds, val_probs, val_labels = get_predictions_and_labels_cnn(best_model, val_loader_cnn)\n",
        "test_preds, test_probs, test_labels = get_predictions_and_labels_cnn(best_model, test_loader_cnn)\n",
        "\n",
        "plot_precision_recall_curves(\n",
        "    train_labels, train_probs,\n",
        "    val_labels, val_probs,\n",
        "    test_labels, test_probs,\n",
        "    n_classes=len(label_to_idx_cnn),\n",
        "    model_name=best_model_name\n",
        ")"
      ]
    },
    {
      "cell_type": "markdown",
      "source": [
        "### Key Findings\n",
        "- CNN models achieve significant improvement over baseline\n",
        "- Multi-filter architectures capture different granularities effectively\n",
        "- Residual connections enable training of deeper networks\n",
        "- Pre-trained embeddings provide substantial performance boost"
      ],
      "metadata": {
        "id": "lJjU5xecwZe8"
      },
      "id": "lJjU5xecwZe8"
    }
  ],
  "metadata": {
    "kernelspec": {
      "display_name": "Python 3",
      "name": "python3"
    },
    "language_info": {
      "codemirror_mode": {
        "name": "ipython",
        "version": 3
      },
      "file_extension": ".py",
      "mimetype": "text/x-python",
      "name": "python",
      "nbconvert_exporter": "python",
      "pygments_lexer": "ipython3",
      "version": "3.12.7"
    },
    "colab": {
      "provenance": [],
      "gpuType": "T4"
    },
    "accelerator": "GPU"
  },
  "nbformat": 4,
  "nbformat_minor": 5
}