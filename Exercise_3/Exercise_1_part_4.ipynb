{
 "cells": [
  {
   "cell_type": "markdown",
   "id": "3095c9de-161e-4c56-9af0-d570095fe5dc",
   "metadata": {
    "id": "3095c9de-161e-4c56-9af0-d570095fe5dc"
   },
   "source": [
    "# SENTIMENT CLASSIFICATION WITH RNN + SELF-ATTENTION\n",
    "# Exercise 1: Bi-directional Stacked RNN with Self-Attention"
   ]
  },
  {
   "cell_type": "markdown",
   "id": "25b78c08-f734-4b8f-9953-746644ee0c17",
   "metadata": {
    "id": "25b78c08-f734-4b8f-9953-746644ee0c17"
   },
   "source": [
    "## Imports"
   ]
  },
  {
   "cell_type": "markdown",
   "id": "8df2c231-a057-40d5-a70d-c9c7d79b6fed",
   "metadata": {
    "id": "8df2c231-a057-40d5-a70d-c9c7d79b6fed"
   },
   "source": [
    "This cell below exists due to compatibility issues between numpy and gensim. Un-comment if you happen to have the same issue:)"
   ]
  },
  {
   "cell_type": "code",
   "execution_count": null,
   "id": "d3c7667b-6f6e-4dbc-b2a7-2de5c66421c6",
   "metadata": {
    "colab": {
     "base_uri": "https://localhost:8080/",
     "height": 1000
    },
    "id": "d3c7667b-6f6e-4dbc-b2a7-2de5c66421c6",
    "outputId": "8b56f7ea-ff3d-4448-b5f3-801e1e6ac1a6"
   },
   "outputs": [
    {
     "name": "stdout",
     "output_type": "stream",
     "text": [
      "Found existing installation: numpy 2.0.2\n",
      "Uninstalling numpy-2.0.2:\n",
      "  Successfully uninstalled numpy-2.0.2\n",
      "Found existing installation: scipy 1.15.3\n",
      "Uninstalling scipy-1.15.3:\n",
      "  Successfully uninstalled scipy-1.15.3\n",
      "\u001b[33mWARNING: Skipping gensim as it is not installed.\u001b[0m\u001b[33m\n",
      "\u001b[0mCollecting numpy==1.24.3\n",
      "  Downloading numpy-1.24.3-cp311-cp311-manylinux_2_17_x86_64.manylinux2014_x86_64.whl.metadata (5.6 kB)\n",
      "Downloading numpy-1.24.3-cp311-cp311-manylinux_2_17_x86_64.manylinux2014_x86_64.whl (17.3 MB)\n",
      "\u001b[2K   \u001b[90m━━━━━━━━━━━━━━━━━━━━━━━━━━━━━━━━━━━━━━━━\u001b[0m \u001b[32m17.3/17.3 MB\u001b[0m \u001b[31m58.5 MB/s\u001b[0m eta \u001b[36m0:00:00\u001b[0m\n",
      "\u001b[?25hInstalling collected packages: numpy\n",
      "\u001b[31mERROR: pip's dependency resolver does not currently take into account all the packages that are installed. This behaviour is the source of the following dependency conflicts.\n",
      "scs 3.2.7.post2 requires scipy, which is not installed.\n",
      "cuml-cu12 25.2.1 requires scipy>=1.8.0, which is not installed.\n",
      "missingno 0.5.2 requires scipy, which is not installed.\n",
      "scikit-learn 1.6.1 requires scipy>=1.6.0, which is not installed.\n",
      "pynndescent 0.5.13 requires scipy>=1.0, which is not installed.\n",
      "jaxlib 0.5.1 requires scipy>=1.11.1, which is not installed.\n",
      "albumentations 2.0.7 requires scipy>=1.10.0, which is not installed.\n",
      "matplotlib-venn 1.1.2 requires scipy, which is not installed.\n",
      "statsmodels 0.14.4 requires scipy!=1.9.2,>=1.8, which is not installed.\n",
      "lightgbm 4.5.0 requires scipy, which is not installed.\n",
      "mlxtend 0.23.4 requires scipy>=1.2.1, which is not installed.\n",
      "hyperopt 0.2.7 requires scipy, which is not installed.\n",
      "clarabel 0.10.0 requires scipy, which is not installed.\n",
      "fastai 2.7.19 requires scipy, which is not installed.\n",
      "tsfresh 0.21.0 requires scipy>=1.14.0; python_version >= \"3.10\", which is not installed.\n",
      "stumpy 1.13.0 requires scipy>=1.10, which is not installed.\n",
      "libpysal 4.13.0 requires scipy>=1.8, which is not installed.\n",
      "xgboost 2.1.4 requires scipy, which is not installed.\n",
      "sentence-transformers 4.1.0 requires scipy, which is not installed.\n",
      "mizani 0.13.5 requires scipy>=1.8.0, which is not installed.\n",
      "hdbscan 0.8.40 requires scipy>=1.0, which is not installed.\n",
      "treelite 4.4.1 requires scipy, which is not installed.\n",
      "shap 0.47.2 requires scipy, which is not installed.\n",
      "jax 0.5.2 requires scipy>=1.11.1, which is not installed.\n",
      "sklearn-pandas 2.2.0 requires scipy>=1.5.1, which is not installed.\n",
      "arviz 0.21.0 requires scipy>=1.9.0, which is not installed.\n",
      "yellowbrick 1.5 requires scipy>=1.0.0, which is not installed.\n",
      "pymc 5.22.0 requires scipy>=1.4.1, which is not installed.\n",
      "pytensor 2.30.3 requires scipy<2,>=1, which is not installed.\n",
      "osqp 1.0.4 requires scipy>=0.13.2, which is not installed.\n",
      "librosa 0.11.0 requires scipy>=1.6.0, which is not installed.\n",
      "datascience 0.17.6 requires scipy, which is not installed.\n",
      "xarray-einstats 0.8.0 requires scipy>=1.9, which is not installed.\n",
      "umap-learn 0.5.7 requires scipy>=1.3.1, which is not installed.\n",
      "scikit-image 0.25.2 requires scipy>=1.11.4, which is not installed.\n",
      "plotnine 0.14.5 requires scipy>=1.8.0, which is not installed.\n",
      "cvxpy 1.6.5 requires scipy>=1.11.0, which is not installed.\n",
      "imbalanced-learn 0.13.0 requires scipy<2,>=1.10.1, which is not installed.\n",
      "tensorflow 2.18.0 requires numpy<2.1.0,>=1.26.0, but you have numpy 1.24.3 which is incompatible.\n",
      "jaxlib 0.5.1 requires numpy>=1.25, but you have numpy 1.24.3 which is incompatible.\n",
      "albumentations 2.0.7 requires numpy>=1.24.4, but you have numpy 1.24.3 which is incompatible.\n",
      "albucore 0.0.24 requires numpy>=1.24.4, but you have numpy 1.24.3 which is incompatible.\n",
      "thinc 8.3.6 requires numpy<3.0.0,>=2.0.0, but you have numpy 1.24.3 which is incompatible.\n",
      "treescope 0.1.9 requires numpy>=1.25.2, but you have numpy 1.24.3 which is incompatible.\n",
      "jax 0.5.2 requires numpy>=1.25, but you have numpy 1.24.3 which is incompatible.\n",
      "pymc 5.22.0 requires numpy>=1.25.0, but you have numpy 1.24.3 which is incompatible.\n",
      "blosc2 3.3.3 requires numpy>=1.26, but you have numpy 1.24.3 which is incompatible.\u001b[0m\u001b[31m\n",
      "\u001b[0mSuccessfully installed numpy-1.24.3\n"
     ]
    },
    {
     "data": {
      "application/vnd.colab-display-data+json": {
       "id": "95f83cac92394ce098f2355a68d89db3",
       "pip_warning": {
        "packages": [
         "numpy"
        ]
       }
      }
     },
     "metadata": {},
     "output_type": "display_data"
    },
    {
     "name": "stdout",
     "output_type": "stream",
     "text": [
      "Collecting scipy==1.11.3\n",
      "  Downloading scipy-1.11.3-cp311-cp311-manylinux_2_17_x86_64.manylinux2014_x86_64.whl.metadata (60 kB)\n",
      "\u001b[?25l     \u001b[90m━━━━━━━━━━━━━━━━━━━━━━━━━━━━━━━━━━━━━━━━\u001b[0m \u001b[32m0.0/60.4 kB\u001b[0m \u001b[31m?\u001b[0m eta \u001b[36m-:--:--\u001b[0m\r",
      "\u001b[2K     \u001b[90m━━━━━━━━━━━━━━━━━━━━━━━━━━━━━━━━━━━━━━━━\u001b[0m \u001b[32m60.4/60.4 kB\u001b[0m \u001b[31m3.9 MB/s\u001b[0m eta \u001b[36m0:00:00\u001b[0m\n",
      "\u001b[?25hRequirement already satisfied: numpy<1.28.0,>=1.21.6 in /usr/local/lib/python3.11/dist-packages (from scipy==1.11.3) (1.24.3)\n",
      "Downloading scipy-1.11.3-cp311-cp311-manylinux_2_17_x86_64.manylinux2014_x86_64.whl (36.4 MB)\n",
      "\u001b[2K   \u001b[90m━━━━━━━━━━━━━━━━━━━━━━━━━━━━━━━━━━━━━━━━\u001b[0m \u001b[32m36.4/36.4 MB\u001b[0m \u001b[31m19.9 MB/s\u001b[0m eta \u001b[36m0:00:00\u001b[0m\n",
      "\u001b[?25hInstalling collected packages: scipy\n",
      "\u001b[31mERROR: pip's dependency resolver does not currently take into account all the packages that are installed. This behaviour is the source of the following dependency conflicts.\n",
      "jaxlib 0.5.1 requires numpy>=1.25, but you have numpy 1.24.3 which is incompatible.\n",
      "albumentations 2.0.7 requires numpy>=1.24.4, but you have numpy 1.24.3 which is incompatible.\n",
      "tsfresh 0.21.0 requires scipy>=1.14.0; python_version >= \"3.10\", but you have scipy 1.11.3 which is incompatible.\n",
      "jax 0.5.2 requires numpy>=1.25, but you have numpy 1.24.3 which is incompatible.\n",
      "pymc 5.22.0 requires numpy>=1.25.0, but you have numpy 1.24.3 which is incompatible.\n",
      "scikit-image 0.25.2 requires scipy>=1.11.4, but you have scipy 1.11.3 which is incompatible.\u001b[0m\u001b[31m\n",
      "\u001b[0mSuccessfully installed scipy-1.11.3\n",
      "Collecting gensim==4.3.2\n",
      "  Downloading gensim-4.3.2-cp311-cp311-manylinux_2_17_x86_64.manylinux2014_x86_64.whl.metadata (8.3 kB)\n",
      "Requirement already satisfied: numpy>=1.18.5 in /usr/local/lib/python3.11/dist-packages (from gensim==4.3.2) (1.24.3)\n",
      "Requirement already satisfied: scipy>=1.7.0 in /usr/local/lib/python3.11/dist-packages (from gensim==4.3.2) (1.11.3)\n",
      "Requirement already satisfied: smart-open>=1.8.1 in /usr/local/lib/python3.11/dist-packages (from gensim==4.3.2) (7.1.0)\n",
      "Requirement already satisfied: wrapt in /usr/local/lib/python3.11/dist-packages (from smart-open>=1.8.1->gensim==4.3.2) (1.17.2)\n",
      "Downloading gensim-4.3.2-cp311-cp311-manylinux_2_17_x86_64.manylinux2014_x86_64.whl (26.7 MB)\n",
      "\u001b[2K   \u001b[90m━━━━━━━━━━━━━━━━━━━━━━━━━━━━━━━━━━━━━━━━\u001b[0m \u001b[32m26.7/26.7 MB\u001b[0m \u001b[31m89.6 MB/s\u001b[0m eta \u001b[36m0:00:00\u001b[0m\n",
      "\u001b[?25hInstalling collected packages: gensim\n",
      "Successfully installed gensim-4.3.2\n"
     ]
    }
   ],
   "source": [
    "# !pip uninstall -y numpy scipy gensim\n",
    "# !pip install numpy==1.24.3\n",
    "# !pip install scipy==1.11.3\n",
    "# !pip install gensim==4.3.2"
   ]
  },
  {
   "cell_type": "code",
   "execution_count": 58,
   "id": "a6e527fa-d5d1-481c-8a3c-c60e369ecddd",
   "metadata": {
    "colab": {
     "base_uri": "https://localhost:8080/"
    },
    "id": "a6e527fa-d5d1-481c-8a3c-c60e369ecddd",
    "outputId": "ea0d8671-625c-4457-a605-31a8fb9e6539"
   },
   "outputs": [
    {
     "name": "stderr",
     "output_type": "stream",
     "text": [
      "[nltk_data] Downloading package punkt to /root/nltk_data...\n",
      "[nltk_data]   Package punkt is already up-to-date!\n",
      "[nltk_data] Downloading package stopwords to /root/nltk_data...\n",
      "[nltk_data]   Package stopwords is already up-to-date!\n",
      "[nltk_data] Downloading package punkt_tab to /root/nltk_data...\n",
      "[nltk_data]   Package punkt_tab is already up-to-date!\n"
     ]
    },
    {
     "data": {
      "text/plain": [
       "True"
      ]
     },
     "execution_count": 58,
     "metadata": {},
     "output_type": "execute_result"
    }
   ],
   "source": [
    "# Core libraries\n",
    "import os\n",
    "import io\n",
    "import string\n",
    "import copy\n",
    "import numpy as np\n",
    "import pandas as pd\n",
    "import matplotlib.pyplot as plt\n",
    "from tqdm import tqdm\n",
    "\n",
    "# Utility data structures\n",
    "from collections import defaultdict, Counter\n",
    "\n",
    "# Natural Language Processing (NLP)\n",
    "import nltk\n",
    "from nltk.corpus import stopwords\n",
    "from nltk.tokenize import sent_tokenize, word_tokenize\n",
    "from sklearn.datasets import fetch_20newsgroups\n",
    "from sklearn.feature_extraction.text import CountVectorizer, TfidfVectorizer\n",
    "import gensim.downloader as api\n",
    "\n",
    "# Data preprocessing & evaluation\n",
    "from sklearn.model_selection import train_test_split, ParameterGrid\n",
    "from sklearn.metrics import (\n",
    "    accuracy_score, precision_score, recall_score,\n",
    "    f1_score, precision_recall_curve, auc\n",
    ")\n",
    "\n",
    "# Dimensionality reduction\n",
    "from sklearn.decomposition import TruncatedSVD\n",
    "\n",
    "# PyTorch\n",
    "import torch\n",
    "import torch.nn as nn\n",
    "import torch.optim as optim\n",
    "from torch.utils.data import TensorDataset, DataLoader\n",
    "\n",
    "# Downloading data from the web\n",
    "import requests\n",
    "import gzip\n",
    "\n",
    "# Download required NLTK resources\n",
    "nltk.download('punkt')\n",
    "nltk.download('stopwords')\n",
    "nltk.download('punkt_tab')"
   ]
  },
  {
   "cell_type": "code",
   "execution_count": 59,
   "id": "a52368d2-a58a-43d1-8c40-d6359ef1b686",
   "metadata": {
    "colab": {
     "base_uri": "https://localhost:8080/"
    },
    "id": "a52368d2-a58a-43d1-8c40-d6359ef1b686",
    "outputId": "84c257a7-9d1a-456f-edc3-d4cc2d5bf52f"
   },
   "outputs": [
    {
     "name": "stdout",
     "output_type": "stream",
     "text": [
      "Using device: cuda\n"
     ]
    }
   ],
   "source": [
    "# Device setup\n",
    "device = torch.device('cuda' if torch.cuda.is_available() else 'cpu')\n",
    "print(f\"Using device: {device}\")"
   ]
  },
  {
   "cell_type": "code",
   "execution_count": 60,
   "id": "d1fa1f26-47b0-431b-b98b-a1a77477bc4c",
   "metadata": {
    "colab": {
     "base_uri": "https://localhost:8080/"
    },
    "id": "d1fa1f26-47b0-431b-b98b-a1a77477bc4c",
    "outputId": "18882119-d0ff-40e9-fe10-541a86a72634"
   },
   "outputs": [
    {
     "name": "stdout",
     "output_type": "stream",
     "text": [
      "Downloading IMDB Large Movie Review Dataset...\n",
      "Dataset loaded! Total samples: 50000\n"
     ]
    }
   ],
   "source": [
    "# Function that downloads and prepared the IMDB Large Movie Review Dataset\n",
    "def download_movie_reviews_dataset():\n",
    "    print(\"Downloading IMDB Large Movie Review Dataset...\")\n",
    "    url = \"https://ai.stanford.edu/~amaas/data/sentiment/aclImdb_v1.tar.gz\"\n",
    "    # Download the dataset\n",
    "    response = requests.get(url, stream=True)\n",
    "    compressed_file = io.BytesIO(response.content)\n",
    "    # Extract the tar.gz file\n",
    "    with gzip.open(compressed_file, 'rb') as f_in:\n",
    "        with open('aclImdb_v1.tar', 'wb') as f_out:\n",
    "            f_out.write(f_in.read())\n",
    "    # Extract the tar file\n",
    "    import tarfile\n",
    "    with tarfile.open('aclImdb_v1.tar', 'r') as tar:\n",
    "        tar.extractall()\n",
    "    # Clean up\n",
    "    os.remove('aclImdb_v1.tar')\n",
    "    # Load the dataset\n",
    "    def load_reviews(directory, label):\n",
    "        reviews = []\n",
    "        for filename in os.listdir(directory):\n",
    "            if filename.endswith('.txt'):\n",
    "                with open(os.path.join(directory, filename), 'r', encoding='utf-8') as f:\n",
    "                    reviews.append((f.read(), label))\n",
    "        return reviews\n",
    "    # Load positive and negative reviews from both train and test sets\n",
    "    positive_train = load_reviews('aclImdb/train/pos', 'positive')\n",
    "    negative_train = load_reviews('aclImdb/train/neg', 'negative')\n",
    "    positive_test = load_reviews('aclImdb/test/pos', 'positive')\n",
    "    negative_test = load_reviews('aclImdb/test/neg', 'negative')\n",
    "    # Combine all data\n",
    "    all_data = positive_train + negative_train + positive_test + negative_test\n",
    "    # Convert to DataFrame\n",
    "    df = pd.DataFrame(all_data, columns=['text', 'sentiment'])\n",
    "    # Shuffle the data\n",
    "    df = df.sample(frac=1, random_state=42).reset_index(drop=True)\n",
    "    print(f\"Dataset loaded! Total samples: {len(df)}\")\n",
    "    return df\n",
    "\n",
    "df = download_movie_reviews_dataset()"
   ]
  },
  {
   "cell_type": "markdown",
   "id": "2093bf4d-6909-4cea-a2db-249402c06360",
   "metadata": {
    "id": "2093bf4d-6909-4cea-a2db-249402c06360"
   },
   "source": [
    "## Data preprocessing"
   ]
  },
  {
   "cell_type": "code",
   "execution_count": 61,
   "id": "ca227af8-e8cd-43fb-85a9-fdf0209656f9",
   "metadata": {
    "colab": {
     "base_uri": "https://localhost:8080/"
    },
    "id": "ca227af8-e8cd-43fb-85a9-fdf0209656f9",
    "outputId": "1c6eed09-aaa5-4b3f-b081-9f12ddbd159c"
   },
   "outputs": [
    {
     "name": "stdout",
     "output_type": "stream",
     "text": [
      "Training set size: 35000\n",
      "Test set size: 15000\n"
     ]
    }
   ],
   "source": [
    "# First, split into training and test\n",
    "train_data, test_data = train_test_split(df, test_size=0.3, random_state=42, stratify=df['sentiment'])\n",
    "# Print the sizes to verify the split\n",
    "print(f\"Training set size: {len(train_data)}\")\n",
    "print(f\"Test set size: {len(test_data)}\")"
   ]
  },
  {
   "cell_type": "code",
   "execution_count": 62,
   "id": "d2ae9a1c-f9f9-4f8f-a206-53c7ee40d80b",
   "metadata": {
    "id": "d2ae9a1c-f9f9-4f8f-a206-53c7ee40d80b"
   },
   "outputs": [],
   "source": [
    "# Custom tokenizer method that will be used in data preprocessing\n",
    "def tokenize(data):\n",
    "    stop_words = stopwords.words('english')\n",
    "    stop_words.extend(string.punctuation)\n",
    "    stop_words.extend([\"the\", \"of\", \"and\", \"as\", \"a\", \"to\", \"in\", \"on\", \"for\"])\n",
    "    tokenized_samples = []\n",
    "    for sample in data:\n",
    "        tokens = []\n",
    "        # Split text into sentences\n",
    "        sentences = sent_tokenize(sample)\n",
    "        for sent in sentences:\n",
    "            # Tokenize each sentence into words\n",
    "            words = word_tokenize(sent)\n",
    "            for word in words:\n",
    "                # Filter out stopwords and unwanted tokens\n",
    "                if '\\n' in word or \"\\t\" in word or \"--\" in word or \"*\" in word or \"@\" in word or \"#\" in word or word.lower() in stop_words:\n",
    "                    continue\n",
    "                if word.strip():\n",
    "                    # Process the token and add to list\n",
    "                    tokens.append(word.replace('\"', \"'\").strip().lower())\n",
    "        tokenized_samples.append(tokens)\n",
    "    return tokenized_samples"
   ]
  },
  {
   "cell_type": "code",
   "execution_count": 63,
   "id": "06008397-93f0-47cb-a57c-3bc5bc3c0464",
   "metadata": {
    "id": "06008397-93f0-47cb-a57c-3bc5bc3c0464"
   },
   "outputs": [],
   "source": [
    "# Simple preprocessing for baseline (TF-IDF)\n",
    "def preprocess_for_baseline(train_data, test_data):\n",
    "    X_train, X_val, y_train, y_val = train_test_split(\n",
    "        train_data['text'], train_data['sentiment'], test_size=0.3, random_state=42)\n",
    "    X_test, y_test = test_data['text'], test_data['sentiment']\n",
    "\n",
    "    unique_labels = pd.concat([y_train, y_val, y_test]).unique()\n",
    "    label_to_idx = {label: idx for idx, label in enumerate(unique_labels)}\n",
    "\n",
    "    y_train = np.array([label_to_idx[label] for label in y_train], dtype=np.int64)\n",
    "    y_val = np.array([label_to_idx[label] for label in y_val], dtype=np.int64)\n",
    "    y_test = np.array([label_to_idx[label] for label in y_test], dtype=np.int64)\n",
    "\n",
    "    X_train_tokenized = tokenize(X_train)\n",
    "    X_val_tokenized = tokenize(X_val)\n",
    "    X_test_tokenized = tokenize(X_test)\n",
    "\n",
    "    X_train_joined = [\" \".join(x) for x in X_train_tokenized]\n",
    "    X_val_joined = [\" \".join(x) for x in X_val_tokenized]\n",
    "    X_test_joined = [\" \".join(x) for x in X_test_tokenized]\n",
    "\n",
    "    vectorizer = TfidfVectorizer(max_features=2000, sublinear_tf=True)\n",
    "    X_train = vectorizer.fit_transform(X_train_joined).toarray()\n",
    "    X_val = vectorizer.transform(X_val_joined).toarray()\n",
    "    X_test = vectorizer.transform(X_test_joined).toarray()\n",
    "    feature_names = vectorizer.get_feature_names_out()\n",
    "\n",
    "    return (X_train, y_train), (X_val, y_val), (X_test, y_test), feature_names, label_to_idx"
   ]
  },
  {
   "cell_type": "code",
   "execution_count": 64,
   "id": "65634e0d-f3b0-4099-bbab-ed636c1702b6",
   "metadata": {
    "id": "65634e0d-f3b0-4099-bbab-ed636c1702b6"
   },
   "outputs": [],
   "source": [
    "def preprocess_data_rnn(train_data, test_data, max_vocab_size=10000, max_seq_len=512):\n",
    "    X_train, X_val, y_train, y_val = train_test_split(\n",
    "        train_data['text'], train_data['sentiment'], test_size=0.3, random_state=42)\n",
    "    X_test, y_test = test_data['text'], test_data['sentiment']\n",
    "\n",
    "    unique_labels = pd.concat([y_train, y_val, y_test]).unique()\n",
    "    label_to_idx = {label: idx for idx, label in enumerate(unique_labels)}\n",
    "\n",
    "    y_train = np.array([label_to_idx[label] for label in y_train], dtype=np.int64)\n",
    "    y_val = np.array([label_to_idx[label] for label in y_val], dtype=np.int64)\n",
    "    y_test = np.array([label_to_idx[label] for label in y_test], dtype=np.int64)\n",
    "\n",
    "    # Tokenize texts\n",
    "    X_train_tokenized = tokenize(X_train)\n",
    "    X_val_tokenized = tokenize(X_val)\n",
    "    X_test_tokenized = tokenize(X_test)\n",
    "\n",
    "    # Build vocabulary from training data\n",
    "    word_counts = Counter()\n",
    "    for tokens in X_train_tokenized:\n",
    "        word_counts.update(tokens)\n",
    "\n",
    "    most_common_words = word_counts.most_common(max_vocab_size - 2)  # -2 for PAD and UNK\n",
    "    word_to_idx = {'<PAD>': 0, '<UNK>': 1}\n",
    "    for word, _ in most_common_words:\n",
    "        word_to_idx[word] = len(word_to_idx)\n",
    "\n",
    "    def texts_to_sequences(tokenized_texts):\n",
    "        sequences = []\n",
    "        lengths = []\n",
    "        for tokens in tokenized_texts:\n",
    "            sequence = [word_to_idx.get(token, word_to_idx['<UNK>']) for token in tokens]\n",
    "            if len(sequence) > max_seq_len:\n",
    "                sequence = sequence[:max_seq_len]\n",
    "            sequences.append(sequence)\n",
    "            lengths.append(len(sequence))\n",
    "        return sequences, lengths\n",
    "\n",
    "    X_train_seq, train_lengths = texts_to_sequences(X_train_tokenized)\n",
    "    X_val_seq, val_lengths = texts_to_sequences(X_val_tokenized)\n",
    "    X_test_seq, test_lengths = texts_to_sequences(X_test_tokenized)\n",
    "\n",
    "    # Pad sequences\n",
    "    def pad_sequences(sequences, max_len):\n",
    "        padded = []\n",
    "        for seq in sequences:\n",
    "            if len(seq) < max_len:\n",
    "                seq = seq + [0] * (max_len - len(seq))\n",
    "            padded.append(seq)\n",
    "        return np.array(padded)\n",
    "\n",
    "    actual_max_len = min(max(max(train_lengths), max(val_lengths), max(test_lengths)), max_seq_len)\n",
    "\n",
    "    X_train_padded = pad_sequences(X_train_seq, actual_max_len)\n",
    "    X_val_padded = pad_sequences(X_val_seq, actual_max_len)\n",
    "    X_test_padded = pad_sequences(X_test_seq, actual_max_len)\n",
    "\n",
    "    return ((X_train_padded, y_train, train_lengths),\n",
    "            (X_val_padded, y_val, val_lengths),\n",
    "            (X_test_padded, y_test, test_lengths),\n",
    "            word_to_idx, label_to_idx)"
   ]
  },
  {
   "cell_type": "code",
   "execution_count": 65,
   "id": "3e158b3a-441c-407b-9c44-fd95fbdd8469",
   "metadata": {
    "id": "3e158b3a-441c-407b-9c44-fd95fbdd8469"
   },
   "outputs": [],
   "source": [
    "class BaselineSentimentClassifier:\n",
    "    def __init__(self):\n",
    "        self.word_to_sentiment = {}\n",
    "        self.most_common_sentiment = None\n",
    "        self.feature_names = None\n",
    "\n",
    "    def train(self, X_train, y_train, feature_names=None):\n",
    "        self.feature_names = feature_names\n",
    "        sentiment_counts = Counter(y_train)\n",
    "        self.most_common_sentiment = sentiment_counts.most_common(1)[0][0]\n",
    "\n",
    "        if self.feature_names is not None:\n",
    "            for i, feature in enumerate(self.feature_names):\n",
    "                feature_col = X_train[:, i].toarray().flatten() if hasattr(X_train, 'toarray') else X_train[:, i]\n",
    "                sentiment_counts = defaultdict(int)\n",
    "                for sample_idx, value in enumerate(feature_col):\n",
    "                    if value > 0:\n",
    "                        sentiment_counts[y_train[sample_idx]] += 1\n",
    "                if sentiment_counts:\n",
    "                    self.word_to_sentiment[feature] = max(sentiment_counts.items(), key=lambda x: x[1])[0]\n",
    "\n",
    "    def predict(self, X_test):\n",
    "        predictions = []\n",
    "        if self.feature_names is None:\n",
    "            return np.full(X_test.shape[0], self.most_common_sentiment)\n",
    "\n",
    "        for i in range(X_test.shape[0]):\n",
    "            sample = X_test[i].toarray().flatten() if hasattr(X_test, 'toarray') else X_test[i]\n",
    "            sample_sentiments = []\n",
    "            for feature_idx, value in enumerate(sample):\n",
    "                if value > 0 and self.feature_names[feature_idx] in self.word_to_sentiment:\n",
    "                    sample_sentiments.append(self.word_to_sentiment[self.feature_names[feature_idx]])\n",
    "\n",
    "            if sample_sentiments:\n",
    "                predictions.append(Counter(sample_sentiments).most_common(1)[0][0])\n",
    "            else:\n",
    "                predictions.append(self.most_common_sentiment)\n",
    "        return np.array(predictions)\n",
    "\n",
    "    def predict_proba(self, X_test):\n",
    "        predictions = self.predict(X_test)\n",
    "        n_classes = len(np.unique(predictions))\n",
    "        probs = np.zeros((X_test.shape[0], n_classes))\n",
    "        for i, pred in enumerate(predictions):\n",
    "            probs[i, pred] = 1.0\n",
    "        return probs"
   ]
  },
  {
   "cell_type": "markdown",
   "id": "ae2c54b0-a2fd-4615-9e93-b13e689f439a",
   "metadata": {
    "id": "ae2c54b0-a2fd-4615-9e93-b13e689f439a"
   },
   "source": [
    "## RNN WITH SELF-ATTENTION MODEL"
   ]
  },
  {
   "cell_type": "code",
   "execution_count": 66,
   "id": "dcf341d2-9ad0-4c7e-930b-cecad68be095",
   "metadata": {
    "id": "dcf341d2-9ad0-4c7e-930b-cecad68be095"
   },
   "outputs": [],
   "source": [
    "class SelfAttentionMLP(nn.Module):\n",
    "    def __init__(self, input_dim, hidden_dims, dropout=0.1):\n",
    "        super(SelfAttentionMLP, self).__init__()\n",
    "        layers = []\n",
    "        prev_dim = input_dim\n",
    "\n",
    "        for hidden_dim in hidden_dims:\n",
    "            layers.append(nn.Linear(prev_dim, hidden_dim))\n",
    "            layers.append(nn.ReLU())\n",
    "            if dropout > 0:\n",
    "                layers.append(nn.Dropout(dropout))\n",
    "            prev_dim = hidden_dim\n",
    "\n",
    "        layers.append(nn.Linear(prev_dim, 1))  # Output layer for attention scores\n",
    "        self.mlp = nn.Sequential(*layers)\n",
    "\n",
    "    def forward(self, x):\n",
    "        # x shape: (batch_size, seq_len, rnn_hidden_dim)\n",
    "        batch_size, seq_len, hidden_dim = x.shape\n",
    "        x_reshaped = x.view(-1, hidden_dim)\n",
    "        scores = self.mlp(x_reshaped)\n",
    "        scores = scores.view(batch_size, seq_len)\n",
    "        return scores"
   ]
  },
  {
   "cell_type": "code",
   "execution_count": 67,
   "id": "45a39018-0638-43a5-a8dd-52139034be95",
   "metadata": {
    "id": "45a39018-0638-43a5-a8dd-52139034be95"
   },
   "outputs": [],
   "source": [
    "class BiRNNWithSelfAttention(nn.Module):\n",
    "    def __init__(self, vocab_size, embedding_dim, rnn_hidden_dim, num_rnn_layers,\n",
    "                 attention_hidden_dims, num_classes, dropout=0.5,\n",
    "                 rnn_type='GRU', pretrained_embeddings=None):\n",
    "        super(BiRNNWithSelfAttention, self).__init__()\n",
    "\n",
    "        self.rnn_hidden_dim = rnn_hidden_dim\n",
    "        self.num_rnn_layers = num_rnn_layers\n",
    "        self.rnn_type = rnn_type\n",
    "\n",
    "        # Embedding layer\n",
    "        self.embedding = nn.Embedding(vocab_size, embedding_dim)\n",
    "        if pretrained_embeddings is not None:\n",
    "            self.embedding.weight.data.copy_(torch.from_numpy(pretrained_embeddings))\n",
    "\n",
    "        # Bidirectional Stacked RNN\n",
    "        if rnn_type == 'GRU':\n",
    "            self.rnn = nn.GRU(embedding_dim, rnn_hidden_dim, num_layers=num_rnn_layers,\n",
    "                             batch_first=True, bidirectional=True,\n",
    "                             dropout=dropout if num_rnn_layers > 1 else 0)\n",
    "        elif rnn_type == 'LSTM':\n",
    "            self.rnn = nn.LSTM(embedding_dim, rnn_hidden_dim, num_layers=num_rnn_layers,\n",
    "                              batch_first=True, bidirectional=True,\n",
    "                              dropout=dropout if num_rnn_layers > 1 else 0)\n",
    "        else:\n",
    "            raise ValueError(\"rnn_type must be 'GRU' or 'LSTM'\")\n",
    "\n",
    "        # Self-attention MLP (operates on 2 * rnn_hidden_dim due to bidirectional)\n",
    "        self.attention_mlp = SelfAttentionMLP(2 * rnn_hidden_dim, attention_hidden_dims, dropout)\n",
    "\n",
    "        # Classification head\n",
    "        self.classifier = nn.Linear(2 * rnn_hidden_dim, num_classes)\n",
    "        self.dropout = nn.Dropout(dropout)\n",
    "\n",
    "    def forward(self, x, lengths=None):\n",
    "        batch_size, seq_len = x.shape\n",
    "\n",
    "        # Embedding\n",
    "        embedded = self.embedding(x)\n",
    "\n",
    "        # Pack sequences if lengths provided\n",
    "        if lengths is not None:\n",
    "            # lengths must be on CPU for pack_padded_sequence\n",
    "            lengths_cpu = lengths.cpu()\n",
    "            embedded = nn.utils.rnn.pack_padded_sequence(embedded, lengths_cpu,\n",
    "                                                        batch_first=True, enforce_sorted=False)\n",
    "\n",
    "        # RNN forward pass\n",
    "        rnn_output, _ = self.rnn(embedded)\n",
    "\n",
    "        # Unpack if we packed\n",
    "        if lengths is not None:\n",
    "            rnn_output, _ = nn.utils.rnn.pad_packed_sequence(rnn_output, batch_first=True)\n",
    "\n",
    "        # Self-attention mechanism\n",
    "        attention_scores = self.attention_mlp(rnn_output)  # (batch_size, seq_len)\n",
    "\n",
    "        # Create mask for padding if lengths provided\n",
    "        if lengths is not None:\n",
    "            # Get the actual sequence length from rnn_output\n",
    "            actual_seq_len = rnn_output.size(1)\n",
    "            mask = torch.zeros(batch_size, actual_seq_len, device=x.device)\n",
    "            for i, length in enumerate(lengths):\n",
    "                # Make sure length doesn't exceed actual sequence length\n",
    "                actual_length = min(length.item(), actual_seq_len)\n",
    "                mask[i, :actual_length] = 1\n",
    "            attention_scores = attention_scores.masked_fill(mask == 0, float('-inf'))\n",
    "\n",
    "        # Apply softmax to get attention weights\n",
    "        attention_weights = torch.softmax(attention_scores, dim=1)\n",
    "\n",
    "        # Weighted sum of RNN outputs\n",
    "        attention_weights = attention_weights.unsqueeze(2)\n",
    "        weighted_output = torch.sum(attention_weights * rnn_output, dim=1)\n",
    "\n",
    "        # Apply dropout and classify\n",
    "        weighted_output = self.dropout(weighted_output)\n",
    "        logits = self.classifier(weighted_output)\n",
    "\n",
    "        return logits"
   ]
  },
  {
   "cell_type": "code",
   "execution_count": 68,
   "id": "108e383e-bd92-4a0e-9812-ee3bd1da427e",
   "metadata": {
    "id": "108e383e-bd92-4a0e-9812-ee3bd1da427e"
   },
   "outputs": [],
   "source": [
    "def calculate_metrics(y_true, y_pred, y_prob):\n",
    "    n_classes = y_prob.shape[1]\n",
    "    accuracy = accuracy_score(y_true, y_pred)\n",
    "\n",
    "    class_metrics = {}\n",
    "    pr_auc_scores = []\n",
    "    for i in range(n_classes):\n",
    "        y_true_binary = (y_true == i).astype(int)\n",
    "        y_pred_binary = (y_pred == i).astype(int)\n",
    "        y_prob_class = y_prob[:, i]\n",
    "\n",
    "        precision = precision_score(y_true_binary, y_pred_binary, zero_division=0)\n",
    "        recall = recall_score(y_true_binary, y_pred_binary, zero_division=0)\n",
    "        f1 = f1_score(y_true_binary, y_pred_binary, zero_division=0)\n",
    "\n",
    "        precision_curve, recall_curve, _ = precision_recall_curve(y_true_binary, y_prob_class)\n",
    "        pr_auc = auc(recall_curve, precision_curve)\n",
    "        pr_auc_scores.append(pr_auc)\n",
    "\n",
    "        class_metrics[i] = {\n",
    "            'precision': precision, 'recall': recall, 'f1': f1, 'pr_auc': pr_auc\n",
    "        }\n",
    "\n",
    "    macro_precision = precision_score(y_true, y_pred, average='macro', zero_division=0)\n",
    "    macro_recall = recall_score(y_true, y_pred, average='macro', zero_division=0)\n",
    "    macro_f1 = f1_score(y_true, y_pred, average='macro', zero_division=0)\n",
    "    macro_pr_auc = np.mean(pr_auc_scores)\n",
    "\n",
    "    return {\n",
    "        'accuracy': accuracy, 'class_metrics': class_metrics,\n",
    "        'macro_precision': macro_precision, 'macro_recall': macro_recall,\n",
    "        'macro_f1': macro_f1, 'macro_pr_auc': macro_pr_auc\n",
    "    }"
   ]
  },
  {
   "cell_type": "code",
   "execution_count": 69,
   "id": "2846e4e2-9cc6-4928-9459-c6342611c6c2",
   "metadata": {
    "id": "2846e4e2-9cc6-4928-9459-c6342611c6c2"
   },
   "outputs": [],
   "source": [
    "def evaluate_baseline(baseline_model, X_train, y_train, X_val, y_val, X_test, y_test):\n",
    "    train_preds = baseline_model.predict(X_train)\n",
    "    val_preds = baseline_model.predict(X_val)\n",
    "    test_preds = baseline_model.predict(X_test)\n",
    "\n",
    "    train_probs = baseline_model.predict_proba(X_train)\n",
    "    val_probs = baseline_model.predict_proba(X_val)\n",
    "    test_probs = baseline_model.predict_proba(X_test)\n",
    "\n",
    "    train_metrics = calculate_metrics(y_train, train_preds, train_probs)\n",
    "    val_metrics = calculate_metrics(y_val, val_preds, val_probs)\n",
    "    test_metrics = calculate_metrics(y_test, test_preds, test_probs)\n",
    "\n",
    "    return {'train': train_metrics, 'val': val_metrics, 'test': test_metrics}"
   ]
  },
  {
   "cell_type": "markdown",
   "id": "f717987e-61a0-4f0a-8413-fa551f546b43",
   "metadata": {
    "id": "f717987e-61a0-4f0a-8413-fa551f546b43"
   },
   "source": [
    "## TRAINING FUNCTIONS"
   ]
  },
  {
   "cell_type": "code",
   "execution_count": 70,
   "id": "6dfe3a27-033e-4c22-97e7-39b3ba856fe9",
   "metadata": {
    "id": "6dfe3a27-033e-4c22-97e7-39b3ba856fe9"
   },
   "outputs": [],
   "source": [
    "def hyperparameter_tuning_rnn(X_train, y_train, train_lengths, X_val, y_val, val_lengths,\n",
    "                              vocab_size, device='cuda', verbose=True):\n",
    "    param_grid = {\n",
    "        'embedding_dim': [100, 150],\n",
    "        'rnn_hidden_dim': [64, 128],\n",
    "        'num_rnn_layers': [1, 2],\n",
    "        'attention_hidden_dims': [[64], [64, 32]],\n",
    "        'learning_rate': [1e-3, 5e-4],\n",
    "        'batch_size': [32, 64],\n",
    "        'dropout': [0.3, 0.5],\n",
    "        'rnn_type': ['GRU', 'LSTM']\n",
    "    }\n",
    "\n",
    "    params_list = list(ParameterGrid(param_grid))\n",
    "    if verbose:\n",
    "        print(f\"Testing {len(params_list)} hyperparameter combinations\")\n",
    "\n",
    "    results = []\n",
    "    best_val_loss = float('inf')\n",
    "    best_model = None\n",
    "    best_params = None\n",
    "\n",
    "    # Test subset of combinations for speed\n",
    "    for params in tqdm(params_list[:12], desc=\"Hyperparameter Tuning\"):\n",
    "        if verbose:\n",
    "            print(f\"\\nTesting parameters: {params}\")\n",
    "\n",
    "        batch_size = params['batch_size']\n",
    "\n",
    "        # Create datasets\n",
    "        train_dataset = list(zip(torch.LongTensor(X_train).to(device),\n",
    "                                torch.LongTensor(y_train).to(device),\n",
    "                                torch.LongTensor(train_lengths).to(device)))\n",
    "        val_dataset = list(zip(torch.LongTensor(X_val).to(device),\n",
    "                              torch.LongTensor(y_val).to(device),\n",
    "                              torch.LongTensor(val_lengths).to(device)))\n",
    "\n",
    "        train_loader = DataLoader(train_dataset, batch_size=batch_size, shuffle=True)\n",
    "        val_loader = DataLoader(val_dataset, batch_size=batch_size)\n",
    "\n",
    "        # Create model\n",
    "        model = BiRNNWithSelfAttention(\n",
    "            vocab_size=vocab_size,\n",
    "            embedding_dim=params['embedding_dim'],\n",
    "            rnn_hidden_dim=params['rnn_hidden_dim'],\n",
    "            num_rnn_layers=params['num_rnn_layers'],\n",
    "            attention_hidden_dims=params['attention_hidden_dims'],\n",
    "            num_classes=len(np.unique(y_train)),\n",
    "            dropout=params['dropout'],\n",
    "            rnn_type=params['rnn_type']\n",
    "        ).to(device)\n",
    "\n",
    "        criterion = nn.CrossEntropyLoss()\n",
    "        optimizer = optim.Adam(model.parameters(), lr=params['learning_rate'])\n",
    "\n",
    "        # Quick training (5 epochs)\n",
    "        val_losses = []\n",
    "        for epoch in range(5):\n",
    "            # Training\n",
    "            model.train()\n",
    "            for batch in train_loader:\n",
    "                X_batch, y_batch, lengths_batch = batch\n",
    "                y_pred = model(X_batch, lengths_batch)\n",
    "                loss = criterion(y_pred, y_batch)\n",
    "\n",
    "                optimizer.zero_grad()\n",
    "                loss.backward()\n",
    "                torch.nn.utils.clip_grad_norm_(model.parameters(), max_norm=1.0)\n",
    "                optimizer.step()\n",
    "\n",
    "            # Validation\n",
    "            model.eval()\n",
    "            val_loss = 0.0\n",
    "            with torch.no_grad():\n",
    "                for batch in val_loader:\n",
    "                    X_batch, y_batch, lengths_batch = batch\n",
    "                    y_pred = model(X_batch, lengths_batch)\n",
    "                    loss = criterion(y_pred, y_batch)\n",
    "                    val_loss += loss.item() * X_batch.size(0)\n",
    "\n",
    "            val_loss /= len(val_loader.dataset)\n",
    "            val_losses.append(val_loss)\n",
    "\n",
    "        final_val_loss = val_losses[-1]\n",
    "        results.append((params, final_val_loss))\n",
    "\n",
    "        if final_val_loss < best_val_loss:\n",
    "            best_val_loss = final_val_loss\n",
    "            best_model = copy.deepcopy(model)\n",
    "            best_params = params\n",
    "            if verbose:\n",
    "                print(f\"New best model found! Validation loss: {best_val_loss:.5f}\")\n",
    "\n",
    "    results.sort(key=lambda x: x[1])\n",
    "\n",
    "    if verbose:\n",
    "        print(\"\\nTop 3 hyperparameter configurations:\")\n",
    "        for i, (params, val_loss) in enumerate(results[:3]):\n",
    "            print(f\"{i+1}. Val Loss: {val_loss:.5f}, Params: {params}\")\n",
    "\n",
    "    return best_model, best_params, results"
   ]
  },
  {
   "cell_type": "code",
   "execution_count": 71,
   "id": "77f633eb-241f-4512-b9a9-61ef85e1e40f",
   "metadata": {
    "id": "77f633eb-241f-4512-b9a9-61ef85e1e40f"
   },
   "outputs": [],
   "source": [
    "def train_rnn_model(model, train_loader, val_loader, test_loader, criterion, optimizer,\n",
    "                    epochs=20, device='cuda', patience=5):\n",
    "    best_val_loss = float('inf')\n",
    "    patience_counter = 0\n",
    "    best_model_path = \"best_rnn_sentiment_model.pt\"\n",
    "\n",
    "    train_losses = []\n",
    "    val_losses = []\n",
    "\n",
    "    for epoch in range(epochs):\n",
    "        # Training phase\n",
    "        model.train()\n",
    "        train_loss = 0.0\n",
    "        for batch in tqdm(train_loader, desc=f\"Epoch {epoch+1}/{epochs} (Training)\"):\n",
    "            X_batch, y_batch, lengths_batch = batch\n",
    "\n",
    "            y_pred = model(X_batch, lengths_batch)\n",
    "            loss = criterion(y_pred, y_batch)\n",
    "\n",
    "            optimizer.zero_grad()\n",
    "            loss.backward()\n",
    "            torch.nn.utils.clip_grad_norm_(model.parameters(), max_norm=1.0)\n",
    "            optimizer.step()\n",
    "\n",
    "            train_loss += loss.item() * X_batch.size(0)\n",
    "\n",
    "        train_loss /= len(train_loader.dataset)\n",
    "        train_losses.append(train_loss)\n",
    "\n",
    "        # Validation phase\n",
    "        model.eval()\n",
    "        val_loss = 0.0\n",
    "        with torch.no_grad():\n",
    "            for batch in tqdm(val_loader, desc=f\"Epoch {epoch+1}/{epochs} (Validation)\"):\n",
    "                X_batch, y_batch, lengths_batch = batch\n",
    "                y_pred = model(X_batch, lengths_batch)\n",
    "                loss = criterion(y_pred, y_batch)\n",
    "                val_loss += loss.item() * X_batch.size(0)\n",
    "\n",
    "        val_loss /= len(val_loader.dataset)\n",
    "        val_losses.append(val_loss)\n",
    "\n",
    "        print(f\"Epoch {epoch+1}/{epochs} - Train Loss: {train_loss:.5f}, Val Loss: {val_loss:.5f}\")\n",
    "\n",
    "        # Early stopping\n",
    "        if val_loss < best_val_loss:\n",
    "            best_val_loss = val_loss\n",
    "            patience_counter = 0\n",
    "            torch.save(model.state_dict(), best_model_path)\n",
    "            print(f\"Model improved - saving to {best_model_path}\")\n",
    "        else:\n",
    "            patience_counter += 1\n",
    "            print(f\"Patience: {patience_counter}/{patience}\")\n",
    "\n",
    "            if patience_counter >= patience:\n",
    "                print(f\"Early stopping after {epoch+1} epochs\")\n",
    "                break\n",
    "\n",
    "    # Load the best model\n",
    "    model.load_state_dict(torch.load(best_model_path))\n",
    "    return model, train_losses, val_losses"
   ]
  },
  {
   "cell_type": "code",
   "execution_count": 72,
   "id": "6083c6c2-b0a4-477f-b833-7ee05522d1a2",
   "metadata": {
    "id": "6083c6c2-b0a4-477f-b833-7ee05522d1a2"
   },
   "outputs": [],
   "source": [
    "def get_predictions_and_labels_rnn(model, data_loader):\n",
    "    model.eval()\n",
    "    all_preds, all_probs, all_labels = [], [], []\n",
    "\n",
    "    with torch.no_grad():\n",
    "        for batch in data_loader:\n",
    "            X_batch, y_batch, lengths_batch = batch\n",
    "            outputs = model(X_batch, lengths_batch)\n",
    "            probs = torch.softmax(outputs, dim=1)\n",
    "            preds = torch.argmax(outputs, dim=1)\n",
    "\n",
    "            all_preds.extend(preds.cpu().numpy())\n",
    "            all_probs.extend(probs.cpu().numpy())\n",
    "            all_labels.extend(y_batch.cpu().numpy())\n",
    "\n",
    "    return np.array(all_preds), np.array(all_probs), np.array(all_labels)"
   ]
  },
  {
   "cell_type": "code",
   "execution_count": 73,
   "id": "9733735d-c59c-4a7d-a865-295c22132899",
   "metadata": {
    "id": "9733735d-c59c-4a7d-a865-295c22132899"
   },
   "outputs": [],
   "source": [
    "def plot_loss_curves(train_losses, val_losses, title=\"Model\"):\n",
    "    plt.figure(figsize=(10, 6))\n",
    "    plt.plot(train_losses, label='Training Loss', linestyle='--')\n",
    "    plt.plot(val_losses, label='Validation Loss')\n",
    "    plt.xlabel('Epochs')\n",
    "    plt.ylabel('Loss')\n",
    "    plt.title(f'{title} - Training and Validation Loss Curves')\n",
    "    plt.legend()\n",
    "    plt.grid(True, linestyle='--', alpha=0.6)\n",
    "    plt.show()"
   ]
  },
  {
   "cell_type": "code",
   "execution_count": 74,
   "id": "edb97e06-3bb1-4b2d-a34c-42c004d71b37",
   "metadata": {
    "id": "edb97e06-3bb1-4b2d-a34c-42c004d71b37"
   },
   "outputs": [],
   "source": [
    "def plot_precision_recall_curves(train_labels, train_probs, val_labels, val_probs,\n",
    "                                test_labels, test_probs, n_classes, model_name=\"Model\"):\n",
    "    fig, axes = plt.subplots(n_classes, 3, figsize=(18, 5 * n_classes))\n",
    "    if n_classes == 1:\n",
    "        axes = axes.reshape(1, 3)\n",
    "\n",
    "    splits = ['Train', 'Validation', 'Test']\n",
    "    colors = ['blue', 'green', 'red']\n",
    "\n",
    "    for class_idx in range(n_classes):\n",
    "        for split_idx, (split, labels, probs) in enumerate(zip(\n",
    "            splits, [train_labels, val_labels, test_labels],\n",
    "            [train_probs, val_probs, test_probs]\n",
    "        )):\n",
    "            y_true_binary = (labels == class_idx).astype(int)\n",
    "            y_prob_class = probs[:, class_idx]\n",
    "\n",
    "            precision, recall, _ = precision_recall_curve(y_true_binary, y_prob_class)\n",
    "            pr_auc = auc(recall, precision)\n",
    "\n",
    "            ax = axes[class_idx, split_idx]\n",
    "            ax.plot(recall, precision, color=colors[split_idx], lw=2, label=f'PR-AUC: {pr_auc:.4f}')\n",
    "            ax.set_xlabel('Recall')\n",
    "            ax.set_ylabel('Precision')\n",
    "            ax.set_title(f'Class {class_idx} - {split} PR Curve ({model_name})')\n",
    "            ax.legend(loc='best')\n",
    "            ax.grid(True, linestyle='--', alpha=0.7)\n",
    "\n",
    "    plt.tight_layout()\n",
    "    plt.show()\n"
   ]
  },
  {
   "cell_type": "code",
   "execution_count": 75,
   "id": "9c4fa92b-c590-4bdc-8799-d98c5fbfe736",
   "metadata": {
    "colab": {
     "base_uri": "https://localhost:8080/"
    },
    "id": "9c4fa92b-c590-4bdc-8799-d98c5fbfe736",
    "outputId": "cfc5b619-4e4d-4ad0-fe56-3bc25e451909"
   },
   "outputs": [
    {
     "name": "stdout",
     "output_type": "stream",
     "text": [
      "\n",
      "--- Training Baseline Classifier ---\n",
      "=== BASELINE MODEL RESULTS ===\n",
      "Test Accuracy: 0.7871\n",
      "Test Macro F1: 0.7870\n",
      "Test Macro PR-AUC: 0.8404\n"
     ]
    }
   ],
   "source": [
    "print(\"\\n--- Training Baseline Classifier ---\")\n",
    "(X_train_base, y_train_base), (X_val_base, y_val_base), (X_test_base, y_test_base), feature_names, label_to_idx_base = preprocess_for_baseline(train_data, test_data)\n",
    "\n",
    "baseline_model = BaselineSentimentClassifier()\n",
    "baseline_model.train(X_train_base, y_train_base, feature_names)\n",
    "baseline_metrics = evaluate_baseline(baseline_model, X_train_base, y_train_base, X_val_base, y_val_base, X_test_base, y_test_base)\n",
    "\n",
    "print(\"=== BASELINE MODEL RESULTS ===\")\n",
    "print(f\"Test Accuracy: {baseline_metrics['test']['accuracy']:.4f}\")\n",
    "print(f\"Test Macro F1: {baseline_metrics['test']['macro_f1']:.4f}\")\n",
    "print(f\"Test Macro PR-AUC: {baseline_metrics['test']['macro_pr_auc']:.4f}\")"
   ]
  },
  {
   "cell_type": "code",
   "execution_count": 76,
   "id": "eaac95d6-654c-4717-ac0d-ccd2b1da4389",
   "metadata": {
    "colab": {
     "base_uri": "https://localhost:8080/"
    },
    "id": "eaac95d6-654c-4717-ac0d-ccd2b1da4389",
    "outputId": "a12d897b-ef43-4499-a120-086731e1ea77"
   },
   "outputs": [
    {
     "name": "stdout",
     "output_type": "stream",
     "text": [
      "\n",
      "--- Training BiRNN with Self-Attention ---\n",
      "Vocabulary size: 10000\n",
      "Max sequence length: 512\n",
      "Training samples: 24500\n",
      "Validation samples: 10500\n",
      "Test samples: 15000\n"
     ]
    }
   ],
   "source": [
    "print(\"\\n--- Training BiRNN with Self-Attention ---\")\n",
    "\n",
    "# Preprocess data for RNN\n",
    "((X_train_seq, y_train_rnn, train_lengths),\n",
    " (X_val_seq, y_val_rnn, val_lengths),\n",
    " (X_test_seq, y_test_rnn, test_lengths),\n",
    " word_to_idx, label_to_idx_rnn) = preprocess_data_rnn(train_data, test_data)\n",
    "\n",
    "print(f\"Vocabulary size: {len(word_to_idx)}\")\n",
    "print(f\"Max sequence length: {X_train_seq.shape[1]}\")\n",
    "print(f\"Training samples: {len(X_train_seq)}\")\n",
    "print(f\"Validation samples: {len(X_val_seq)}\")\n",
    "print(f\"Test samples: {len(X_test_seq)}\")"
   ]
  },
  {
   "cell_type": "code",
   "execution_count": 77,
   "id": "aa1f6c6c-a8af-49e9-a58a-2602b29533ae",
   "metadata": {
    "colab": {
     "base_uri": "https://localhost:8080/"
    },
    "id": "aa1f6c6c-a8af-49e9-a58a-2602b29533ae",
    "outputId": "28829f23-7152-4e20-fb42-9167cd71c955"
   },
   "outputs": [
    {
     "name": "stdout",
     "output_type": "stream",
     "text": [
      "Average document length (training sample): 127.8 words\n",
      "Average document length (test sample): 128.4 words\n"
     ]
    }
   ],
   "source": [
    "# Calculate dataset statistics\n",
    "avg_train_length = np.mean([len(tokenize([text])[0]) for text in train_data['text'][:1000]])  # Sample for speed\n",
    "avg_test_length = np.mean([len(tokenize([text])[0]) for text in test_data['text'][:1000]])\n",
    "\n",
    "print(f\"Average document length (training sample): {avg_train_length:.1f} words\")\n",
    "print(f\"Average document length (test sample): {avg_test_length:.1f} words\")"
   ]
  },
  {
   "cell_type": "code",
   "execution_count": 78,
   "id": "74e6b5da-8096-410f-813a-be6aacf44530",
   "metadata": {
    "colab": {
     "base_uri": "https://localhost:8080/"
    },
    "id": "74e6b5da-8096-410f-813a-be6aacf44530",
    "outputId": "632ff660-57fd-44b6-857c-4da27fd5f121"
   },
   "outputs": [
    {
     "name": "stdout",
     "output_type": "stream",
     "text": [
      "\n",
      "--- Hyperparameter Tuning for RNN ---\n",
      "Testing 256 hyperparameter combinations\n"
     ]
    },
    {
     "name": "stderr",
     "output_type": "stream",
     "text": [
      "\r",
      "Hyperparameter Tuning:   0%|          | 0/12 [00:00<?, ?it/s]"
     ]
    },
    {
     "name": "stdout",
     "output_type": "stream",
     "text": [
      "\n",
      "Testing parameters: {'attention_hidden_dims': [64], 'batch_size': 32, 'dropout': 0.3, 'embedding_dim': 100, 'learning_rate': 0.001, 'num_rnn_layers': 1, 'rnn_hidden_dim': 64, 'rnn_type': 'GRU'}\n"
     ]
    },
    {
     "name": "stderr",
     "output_type": "stream",
     "text": [
      "\r",
      "Hyperparameter Tuning:   8%|▊         | 1/12 [02:21<25:52, 141.13s/it]"
     ]
    },
    {
     "name": "stdout",
     "output_type": "stream",
     "text": [
      "New best model found! Validation loss: 0.44427\n",
      "\n",
      "Testing parameters: {'attention_hidden_dims': [64], 'batch_size': 32, 'dropout': 0.3, 'embedding_dim': 100, 'learning_rate': 0.001, 'num_rnn_layers': 1, 'rnn_hidden_dim': 64, 'rnn_type': 'LSTM'}\n"
     ]
    },
    {
     "name": "stderr",
     "output_type": "stream",
     "text": [
      "\r",
      "Hyperparameter Tuning:  17%|█▋        | 2/12 [04:46<23:55, 143.52s/it]"
     ]
    },
    {
     "name": "stdout",
     "output_type": "stream",
     "text": [
      "New best model found! Validation loss: 0.43022\n",
      "\n",
      "Testing parameters: {'attention_hidden_dims': [64], 'batch_size': 32, 'dropout': 0.3, 'embedding_dim': 100, 'learning_rate': 0.001, 'num_rnn_layers': 1, 'rnn_hidden_dim': 128, 'rnn_type': 'GRU'}\n"
     ]
    },
    {
     "name": "stderr",
     "output_type": "stream",
     "text": [
      "\r",
      "Hyperparameter Tuning:  25%|██▌       | 3/12 [07:14<21:49, 145.53s/it]"
     ]
    },
    {
     "name": "stdout",
     "output_type": "stream",
     "text": [
      "\n",
      "Testing parameters: {'attention_hidden_dims': [64], 'batch_size': 32, 'dropout': 0.3, 'embedding_dim': 100, 'learning_rate': 0.001, 'num_rnn_layers': 1, 'rnn_hidden_dim': 128, 'rnn_type': 'LSTM'}\n"
     ]
    },
    {
     "name": "stderr",
     "output_type": "stream",
     "text": [
      "\r",
      "Hyperparameter Tuning:  33%|███▎      | 4/12 [09:45<19:42, 147.82s/it]"
     ]
    },
    {
     "name": "stdout",
     "output_type": "stream",
     "text": [
      "New best model found! Validation loss: 0.40267\n",
      "\n",
      "Testing parameters: {'attention_hidden_dims': [64], 'batch_size': 32, 'dropout': 0.3, 'embedding_dim': 100, 'learning_rate': 0.001, 'num_rnn_layers': 2, 'rnn_hidden_dim': 64, 'rnn_type': 'GRU'}\n"
     ]
    },
    {
     "name": "stderr",
     "output_type": "stream",
     "text": [
      "\r",
      "Hyperparameter Tuning:  42%|████▏     | 5/12 [13:28<20:24, 174.88s/it]"
     ]
    },
    {
     "name": "stdout",
     "output_type": "stream",
     "text": [
      "\n",
      "Testing parameters: {'attention_hidden_dims': [64], 'batch_size': 32, 'dropout': 0.3, 'embedding_dim': 100, 'learning_rate': 0.001, 'num_rnn_layers': 2, 'rnn_hidden_dim': 64, 'rnn_type': 'LSTM'}\n"
     ]
    },
    {
     "name": "stderr",
     "output_type": "stream",
     "text": [
      "\r",
      "Hyperparameter Tuning:  50%|█████     | 6/12 [17:18<19:21, 193.62s/it]"
     ]
    },
    {
     "name": "stdout",
     "output_type": "stream",
     "text": [
      "\n",
      "Testing parameters: {'attention_hidden_dims': [64], 'batch_size': 32, 'dropout': 0.3, 'embedding_dim': 100, 'learning_rate': 0.001, 'num_rnn_layers': 2, 'rnn_hidden_dim': 128, 'rnn_type': 'GRU'}\n"
     ]
    },
    {
     "name": "stderr",
     "output_type": "stream",
     "text": [
      "\r",
      "Hyperparameter Tuning:  58%|█████▊    | 7/12 [21:14<17:17, 207.52s/it]"
     ]
    },
    {
     "name": "stdout",
     "output_type": "stream",
     "text": [
      "\n",
      "Testing parameters: {'attention_hidden_dims': [64], 'batch_size': 32, 'dropout': 0.3, 'embedding_dim': 100, 'learning_rate': 0.001, 'num_rnn_layers': 2, 'rnn_hidden_dim': 128, 'rnn_type': 'LSTM'}\n"
     ]
    },
    {
     "name": "stderr",
     "output_type": "stream",
     "text": [
      "\r",
      "Hyperparameter Tuning:  67%|██████▋   | 8/12 [25:17<14:35, 218.76s/it]"
     ]
    },
    {
     "name": "stdout",
     "output_type": "stream",
     "text": [
      "\n",
      "Testing parameters: {'attention_hidden_dims': [64], 'batch_size': 32, 'dropout': 0.3, 'embedding_dim': 100, 'learning_rate': 0.0005, 'num_rnn_layers': 1, 'rnn_hidden_dim': 64, 'rnn_type': 'GRU'}\n"
     ]
    },
    {
     "name": "stderr",
     "output_type": "stream",
     "text": [
      "\r",
      "Hyperparameter Tuning:  75%|███████▌  | 9/12 [27:39<09:44, 194.69s/it]"
     ]
    },
    {
     "name": "stdout",
     "output_type": "stream",
     "text": [
      "New best model found! Validation loss: 0.35487\n",
      "\n",
      "Testing parameters: {'attention_hidden_dims': [64], 'batch_size': 32, 'dropout': 0.3, 'embedding_dim': 100, 'learning_rate': 0.0005, 'num_rnn_layers': 1, 'rnn_hidden_dim': 64, 'rnn_type': 'LSTM'}\n"
     ]
    },
    {
     "name": "stderr",
     "output_type": "stream",
     "text": [
      "\r",
      "Hyperparameter Tuning:  83%|████████▎ | 10/12 [30:03<05:58, 179.05s/it]"
     ]
    },
    {
     "name": "stdout",
     "output_type": "stream",
     "text": [
      "New best model found! Validation loss: 0.35465\n",
      "\n",
      "Testing parameters: {'attention_hidden_dims': [64], 'batch_size': 32, 'dropout': 0.3, 'embedding_dim': 100, 'learning_rate': 0.0005, 'num_rnn_layers': 1, 'rnn_hidden_dim': 128, 'rnn_type': 'GRU'}\n"
     ]
    },
    {
     "name": "stderr",
     "output_type": "stream",
     "text": [
      "\r",
      "Hyperparameter Tuning:  92%|█████████▏| 11/12 [32:30<02:49, 169.29s/it]"
     ]
    },
    {
     "name": "stdout",
     "output_type": "stream",
     "text": [
      "\n",
      "Testing parameters: {'attention_hidden_dims': [64], 'batch_size': 32, 'dropout': 0.3, 'embedding_dim': 100, 'learning_rate': 0.0005, 'num_rnn_layers': 1, 'rnn_hidden_dim': 128, 'rnn_type': 'LSTM'}\n"
     ]
    },
    {
     "name": "stderr",
     "output_type": "stream",
     "text": [
      "Hyperparameter Tuning: 100%|██████████| 12/12 [35:00<00:00, 175.06s/it]"
     ]
    },
    {
     "name": "stdout",
     "output_type": "stream",
     "text": [
      "New best model found! Validation loss: 0.33888\n",
      "\n",
      "Top 3 hyperparameter configurations:\n",
      "1. Val Loss: 0.33888, Params: {'attention_hidden_dims': [64], 'batch_size': 32, 'dropout': 0.3, 'embedding_dim': 100, 'learning_rate': 0.0005, 'num_rnn_layers': 1, 'rnn_hidden_dim': 128, 'rnn_type': 'LSTM'}\n",
      "2. Val Loss: 0.35465, Params: {'attention_hidden_dims': [64], 'batch_size': 32, 'dropout': 0.3, 'embedding_dim': 100, 'learning_rate': 0.0005, 'num_rnn_layers': 1, 'rnn_hidden_dim': 64, 'rnn_type': 'LSTM'}\n",
      "3. Val Loss: 0.35487, Params: {'attention_hidden_dims': [64], 'batch_size': 32, 'dropout': 0.3, 'embedding_dim': 100, 'learning_rate': 0.0005, 'num_rnn_layers': 1, 'rnn_hidden_dim': 64, 'rnn_type': 'GRU'}\n",
      "\n",
      "Best RNN parameters: {'attention_hidden_dims': [64], 'batch_size': 32, 'dropout': 0.3, 'embedding_dim': 100, 'learning_rate': 0.0005, 'num_rnn_layers': 1, 'rnn_hidden_dim': 128, 'rnn_type': 'LSTM'}\n"
     ]
    },
    {
     "name": "stderr",
     "output_type": "stream",
     "text": [
      "\n"
     ]
    }
   ],
   "source": [
    "# Hyperparameter tuning\n",
    "print(\"\\n--- Hyperparameter Tuning for RNN ---\")\n",
    "best_rnn_model, best_rnn_params, rnn_tuning_results = hyperparameter_tuning_rnn(\n",
    "    X_train_seq, y_train_rnn, train_lengths,\n",
    "    X_val_seq, y_val_rnn, val_lengths,\n",
    "    vocab_size=len(word_to_idx),\n",
    "    device=device,\n",
    "    verbose=True\n",
    ")\n",
    "\n",
    "print(f\"\\nBest RNN parameters: {best_rnn_params}\")"
   ]
  },
  {
   "cell_type": "code",
   "execution_count": 79,
   "id": "7d76fded-fb95-4896-8512-1b869b3392cb",
   "metadata": {
    "id": "7d76fded-fb95-4896-8512-1b869b3392cb"
   },
   "outputs": [],
   "source": [
    "# Prepare data loaders with best parameters\n",
    "batch_size_rnn = best_rnn_params['batch_size']\n",
    "\n",
    "train_dataset_rnn = list(zip(torch.LongTensor(X_train_seq).to(device),\n",
    "                            torch.LongTensor(y_train_rnn).to(device),\n",
    "                            torch.LongTensor(train_lengths).to(device)))\n",
    "val_dataset_rnn = list(zip(torch.LongTensor(X_val_seq).to(device),\n",
    "                          torch.LongTensor(y_val_rnn).to(device),\n",
    "                          torch.LongTensor(val_lengths).to(device)))\n",
    "test_dataset_rnn = list(zip(torch.LongTensor(X_test_seq).to(device),\n",
    "                           torch.LongTensor(y_test_rnn).to(device),\n",
    "                           torch.LongTensor(test_lengths).to(device)))\n",
    "\n",
    "train_loader_rnn = DataLoader(train_dataset_rnn, batch_size=batch_size_rnn, shuffle=True)\n",
    "val_loader_rnn = DataLoader(val_dataset_rnn, batch_size=batch_size_rnn)\n",
    "test_loader_rnn = DataLoader(test_dataset_rnn, batch_size=batch_size_rnn)"
   ]
  },
  {
   "cell_type": "code",
   "execution_count": 80,
   "id": "a6c9a6da-b6f2-4dca-a151-5ad54ce92df8",
   "metadata": {
    "colab": {
     "base_uri": "https://localhost:8080/"
    },
    "id": "a6c9a6da-b6f2-4dca-a151-5ad54ce92df8",
    "outputId": "15cbd13d-7891-4fe5-955b-e3ff913fd789"
   },
   "outputs": [
    {
     "name": "stdout",
     "output_type": "stream",
     "text": [
      "\n",
      "--- Final RNN Training ---\n"
     ]
    },
    {
     "name": "stderr",
     "output_type": "stream",
     "text": [
      "Epoch 1/25 (Training):   0%|          | 0/766 [00:00<?, ?it/s]/usr/local/lib/python3.11/dist-packages/torch/nn/modules/rnn.py:1136: UserWarning: RNN module weights are not part of single contiguous chunk of memory. This means they need to be compacted at every call, possibly greatly increasing memory usage. To compact weights again call flatten_parameters(). (Triggered internally at /pytorch/aten/src/ATen/native/cudnn/RNN.cpp:1412.)\n",
      "  result = _VF.lstm(\n",
      "Epoch 1/25 (Training): 100%|██████████| 766/766 [00:27<00:00, 27.40it/s]\n",
      "Epoch 1/25 (Validation): 100%|██████████| 329/329 [00:03<00:00, 87.98it/s]\n"
     ]
    },
    {
     "name": "stdout",
     "output_type": "stream",
     "text": [
      "Epoch 1/25 - Train Loss: 0.11185, Val Loss: 0.39012\n",
      "Model improved - saving to best_rnn_sentiment_model.pt\n"
     ]
    },
    {
     "name": "stderr",
     "output_type": "stream",
     "text": [
      "Epoch 2/25 (Training): 100%|██████████| 766/766 [00:27<00:00, 28.00it/s]\n",
      "Epoch 2/25 (Validation): 100%|██████████| 329/329 [00:04<00:00, 80.54it/s]\n"
     ]
    },
    {
     "name": "stdout",
     "output_type": "stream",
     "text": [
      "Epoch 2/25 - Train Loss: 0.07397, Val Loss: 0.48515\n",
      "Patience: 1/7\n"
     ]
    },
    {
     "name": "stderr",
     "output_type": "stream",
     "text": [
      "Epoch 3/25 (Training): 100%|██████████| 766/766 [00:26<00:00, 28.48it/s]\n",
      "Epoch 3/25 (Validation): 100%|██████████| 329/329 [00:03<00:00, 86.89it/s]\n"
     ]
    },
    {
     "name": "stdout",
     "output_type": "stream",
     "text": [
      "Epoch 3/25 - Train Loss: 0.04645, Val Loss: 0.55111\n",
      "Patience: 2/7\n"
     ]
    },
    {
     "name": "stderr",
     "output_type": "stream",
     "text": [
      "Epoch 4/25 (Training): 100%|██████████| 766/766 [00:27<00:00, 27.66it/s]\n",
      "Epoch 4/25 (Validation): 100%|██████████| 329/329 [00:03<00:00, 88.38it/s]\n"
     ]
    },
    {
     "name": "stdout",
     "output_type": "stream",
     "text": [
      "Epoch 4/25 - Train Loss: 0.03321, Val Loss: 0.63388\n",
      "Patience: 3/7\n"
     ]
    },
    {
     "name": "stderr",
     "output_type": "stream",
     "text": [
      "Epoch 5/25 (Training): 100%|██████████| 766/766 [00:26<00:00, 28.43it/s]\n",
      "Epoch 5/25 (Validation): 100%|██████████| 329/329 [00:04<00:00, 78.16it/s]\n"
     ]
    },
    {
     "name": "stdout",
     "output_type": "stream",
     "text": [
      "Epoch 5/25 - Train Loss: 0.02579, Val Loss: 0.81263\n",
      "Patience: 4/7\n"
     ]
    },
    {
     "name": "stderr",
     "output_type": "stream",
     "text": [
      "Epoch 6/25 (Training): 100%|██████████| 766/766 [00:27<00:00, 28.18it/s]\n",
      "Epoch 6/25 (Validation): 100%|██████████| 329/329 [00:03<00:00, 87.65it/s]\n"
     ]
    },
    {
     "name": "stdout",
     "output_type": "stream",
     "text": [
      "Epoch 6/25 - Train Loss: 0.02365, Val Loss: 0.72155\n",
      "Patience: 5/7\n"
     ]
    },
    {
     "name": "stderr",
     "output_type": "stream",
     "text": [
      "Epoch 7/25 (Training): 100%|██████████| 766/766 [00:26<00:00, 28.38it/s]\n",
      "Epoch 7/25 (Validation): 100%|██████████| 329/329 [00:04<00:00, 75.58it/s]\n"
     ]
    },
    {
     "name": "stdout",
     "output_type": "stream",
     "text": [
      "Epoch 7/25 - Train Loss: 0.01579, Val Loss: 0.86043\n",
      "Patience: 6/7\n"
     ]
    },
    {
     "name": "stderr",
     "output_type": "stream",
     "text": [
      "Epoch 8/25 (Training): 100%|██████████| 766/766 [00:27<00:00, 28.36it/s]\n",
      "Epoch 8/25 (Validation): 100%|██████████| 329/329 [00:03<00:00, 86.66it/s]"
     ]
    },
    {
     "name": "stdout",
     "output_type": "stream",
     "text": [
      "Epoch 8/25 - Train Loss: 0.01655, Val Loss: 0.92138\n",
      "Patience: 7/7\n",
      "Early stopping after 8 epochs\n"
     ]
    },
    {
     "name": "stderr",
     "output_type": "stream",
     "text": [
      "\n"
     ]
    }
   ],
   "source": [
    "# Final training\n",
    "criterion_rnn = nn.CrossEntropyLoss()\n",
    "optimizer_rnn = optim.Adam(best_rnn_model.parameters(), lr=best_rnn_params['learning_rate'])\n",
    "\n",
    "print(\"\\n--- Final RNN Training ---\")\n",
    "rnn_model, rnn_train_losses, rnn_val_losses = train_rnn_model(\n",
    "    model=best_rnn_model,\n",
    "    train_loader=train_loader_rnn,\n",
    "    val_loader=val_loader_rnn,\n",
    "    test_loader=test_loader_rnn,\n",
    "    criterion=criterion_rnn,\n",
    "    optimizer=optimizer_rnn,\n",
    "    epochs=25,\n",
    "    device=device,\n",
    "    patience=7\n",
    ")"
   ]
  },
  {
   "cell_type": "code",
   "execution_count": 81,
   "id": "f9600aa7-93f4-4df6-8ae0-e0fc7d026716",
   "metadata": {
    "colab": {
     "base_uri": "https://localhost:8080/",
     "height": 564
    },
    "id": "f9600aa7-93f4-4df6-8ae0-e0fc7d026716",
    "outputId": "e93f9069-01af-4805-eef3-d4193f63a362"
   },
   "outputs": [
    {
     "data": {
      "image/png": "[encoded data removed]",
      "text/plain": [
       "<Figure size 1000x600 with 1 Axes>"
      ]
     },
     "metadata": {},
     "output_type": "display_data"
    }
   ],
   "source": [
    "# Plot loss curves\n",
    "plot_loss_curves(rnn_train_losses, rnn_val_losses, title=\"BiRNN with Self-Attention\")"
   ]
  },
  {
   "cell_type": "code",
   "execution_count": 82,
   "id": "a7692fcf-a1b4-483b-ac76-e664f758d484",
   "metadata": {
    "id": "a7692fcf-a1b4-483b-ac76-e664f758d484"
   },
   "outputs": [],
   "source": [
    "# Get RNN predictions\n",
    "train_preds_rnn, train_probs_rnn, train_labels_rnn = get_predictions_and_labels_rnn(rnn_model, train_loader_rnn)\n",
    "val_preds_rnn, val_probs_rnn, val_labels_rnn = get_predictions_and_labels_rnn(rnn_model, val_loader_rnn)\n",
    "test_preds_rnn, test_probs_rnn, test_labels_rnn = get_predictions_and_labels_rnn(rnn_model, test_loader_rnn)\n",
    "\n",
    "# Calculate RNN metrics\n",
    "rnn_train_metrics = calculate_metrics(train_labels_rnn, train_preds_rnn, train_probs_rnn)\n",
    "rnn_val_metrics = calculate_metrics(val_labels_rnn, val_preds_rnn, val_probs_rnn)\n",
    "rnn_test_metrics = calculate_metrics(test_labels_rnn, test_preds_rnn, test_probs_rnn)\n",
    "\n",
    "rnn_all_metrics = {\n",
    "    'train': rnn_train_metrics,\n",
    "    'val': rnn_val_metrics,\n",
    "    'test': rnn_test_metrics\n",
    "}"
   ]
  },
  {
   "cell_type": "code",
   "execution_count": 83,
   "id": "a926ca2f-bb02-42ac-8f66-6a1f6764a127",
   "metadata": {
    "colab": {
     "base_uri": "https://localhost:8080/"
    },
    "id": "a926ca2f-bb02-42ac-8f66-6a1f6764a127",
    "outputId": "f7495abd-f46b-41b0-fca3-cb106085b0e7"
   },
   "outputs": [
    {
     "name": "stdout",
     "output_type": "stream",
     "text": [
      "\n",
      "=== RNN MODEL DETAILED METRICS ===\n",
      "Split     Accuracy    Precision   Recall      F1          PR-AUC      \n",
      "----------------------------------------------------------------------\n",
      "Train     0.9816        0.9816        0.9815        0.9816        0.9967\n",
      "Val       0.8748        0.8749        0.8748        0.8748        0.9465\n",
      "Test      0.8770        0.8771        0.8770        0.8770        0.9459\n",
      "\n",
      "=== RNN PER-CLASS METRICS ===\n",
      "Class     Split     Precision   Recall      F1          PR-AUC      \n",
      "----------------------------------------------------------------------\n",
      "negative  Train     0.9859        0.9770        0.9814        0.9970\n",
      "negative  Val       0.8844        0.8635        0.8738        0.9487\n",
      "negative  Test      0.8835        0.8685        0.8759        0.9487\n",
      "----------------------------------------------------------------------\n",
      "positive  Train     0.9773        0.9861        0.9817        0.9965\n",
      "positive  Val       0.8655        0.8862        0.8757        0.9442\n",
      "positive  Test      0.8707        0.8855        0.8780        0.9430\n",
      "----------------------------------------------------------------------\n"
     ]
    }
   ],
   "source": [
    "# Print detailed RNN metrics\n",
    "print(\"\\n=== RNN MODEL DETAILED METRICS ===\")\n",
    "print(f\"{'Split':<10}{'Accuracy':<12}{'Precision':<12}{'Recall':<12}{'F1':<12}{'PR-AUC':<12}\")\n",
    "print(\"-\" * 70)\n",
    "for split_name, metrics in rnn_all_metrics.items():\n",
    "    print(f\"{split_name.title():<10}{metrics['accuracy']:.4f}{' '*8}{metrics['macro_precision']:.4f}{' '*8}{metrics['macro_recall']:.4f}{' '*8}{metrics['macro_f1']:.4f}{' '*8}{metrics['macro_pr_auc']:.4f}\")\n",
    "\n",
    "# Print per-class metrics\n",
    "print(\"\\n=== RNN PER-CLASS METRICS ===\")\n",
    "n_classes = len(label_to_idx_rnn)\n",
    "print(f\"{'Class':<10}{'Split':<10}{'Precision':<12}{'Recall':<12}{'F1':<12}{'PR-AUC':<12}\")\n",
    "print(\"-\" * 70)\n",
    "\n",
    "for class_idx in range(n_classes):\n",
    "    class_name = [k for k, v in label_to_idx_rnn.items() if v == class_idx][0]\n",
    "    for split_name, metrics in rnn_all_metrics.items():\n",
    "        class_metrics = metrics['class_metrics'][class_idx]\n",
    "        print(f\"{class_name:<10}{split_name.title():<10}{class_metrics['precision']:.4f}{' '*8}{class_metrics['recall']:.4f}{' '*8}{class_metrics['f1']:.4f}{' '*8}{class_metrics['pr_auc']:.4f}\")\n",
    "    print(\"-\" * 70)"
   ]
  },
  {
   "cell_type": "code",
   "execution_count": 84,
   "id": "5987abc5-1346-4c3b-8127-6cc768669fe9",
   "metadata": {
    "colab": {
     "base_uri": "https://localhost:8080/",
     "height": 1000
    },
    "id": "5987abc5-1346-4c3b-8127-6cc768669fe9",
    "outputId": "f9ed4164-c3a2-4c1a-f9a1-5ef27dcf8dd0"
   },
   "outputs": [
    {
     "name": "stdout",
     "output_type": "stream",
     "text": [
      "\n",
      "================================================================================\n",
      "FINAL MODEL COMPARISON\n",
      "================================================================================\n",
      "\n",
      "=== TEST SET PERFORMANCE COMPARISON ===\n",
      "Model                    Accuracy    Macro F1    Macro PR-AUCImprovement    \n",
      "---------------------------------------------------------------------------\n",
      "Baseline                 0.7871        0.7870        0.8404        ---            \n",
      "BiRNN + Self-Attention   0.8770        0.8770        0.9459        +11.4% accuracy\n"
     ]
    },
    {
     "data": {
      "image/png": "[encoded data removed]",
      "text/plain": [
       "<Figure size 1800x1000 with 6 Axes>"
      ]
     },
     "metadata": {},
     "output_type": "display_data"
    }
   ],
   "source": [
    "print(\"\\n\" + \"=\"*80)\n",
    "print(\"FINAL MODEL COMPARISON\")\n",
    "print(\"=\"*80)\n",
    "\n",
    "# Extract test metrics for comparison\n",
    "baseline_acc = baseline_metrics['test']['accuracy']\n",
    "baseline_f1 = baseline_metrics['test']['macro_f1']\n",
    "baseline_pr_auc = baseline_metrics['test']['macro_pr_auc']\n",
    "\n",
    "rnn_acc = rnn_all_metrics['test']['accuracy']\n",
    "rnn_f1 = rnn_all_metrics['test']['macro_f1']\n",
    "rnn_pr_auc = rnn_all_metrics['test']['macro_pr_auc']\n",
    "\n",
    "print(f\"\\n=== TEST SET PERFORMANCE COMPARISON ===\")\n",
    "print(f\"{'Model':<25}{'Accuracy':<12}{'Macro F1':<12}{'Macro PR-AUC':<12}{'Improvement':<15}\")\n",
    "print(\"-\" * 75)\n",
    "print(f\"{'Baseline':<25}{baseline_acc:.4f}{' '*8}{baseline_f1:.4f}{' '*8}{baseline_pr_auc:.4f}{' '*8}{'---':<15}\")\n",
    "print(f\"{'BiRNN + Self-Attention':<25}{rnn_acc:.4f}{' '*8}{rnn_f1:.4f}{' '*8}{rnn_pr_auc:.4f}{' '*8}{((rnn_acc - baseline_acc) / baseline_acc * 100):+.1f}% accuracy\")\n",
    "\n",
    "# Plot precision-recall curves\n",
    "plot_precision_recall_curves(\n",
    "    train_labels_rnn, train_probs_rnn,\n",
    "    val_labels_rnn, val_probs_rnn,\n",
    "    test_labels_rnn, test_probs_rnn,\n",
    "    n_classes=len(label_to_idx_rnn),\n",
    "    model_name=\"BiRNN_SelfAttention\"\n",
    ")"
   ]
  },
  {
   "cell_type": "code",
   "execution_count": 85,
   "id": "9cac1fac-80da-4c66-b0c1-e24fad29dec3",
   "metadata": {
    "colab": {
     "base_uri": "https://localhost:8080/"
    },
    "id": "9cac1fac-80da-4c66-b0c1-e24fad29dec3",
    "outputId": "3700fd3d-e1d6-4815-ce6f-1dba3e7570d4"
   },
   "outputs": [
    {
     "name": "stdout",
     "output_type": "stream",
     "text": [
      "\n",
      "================================================================================\n",
      "EXERCISE 1 RESULTS SUMMARY\n",
      "================================================================================\n",
      "\n",
      "=== DATASET STATISTICS ===\n",
      "Total samples: 50000\n",
      "Training samples: 35000\n",
      "Test samples: 15000\n",
      "Validation samples: 10500\n",
      "Vocabulary size: 10000\n",
      "Maximum sequence length: 512\n",
      "Average document length (training): 127.8 words\n",
      "Average document length (test): 128.4 words\n",
      "\n",
      "=== PREPROCESSING STEPS ===\n",
      "1. Text tokenization using NLTK\n",
      "2. Stopword and punctuation removal\n",
      "3. Lowercasing and normalization\n",
      "4. Vocabulary building from training data\n",
      "5. Sequence conversion and padding\n",
      "6. Train/validation/test split: 70%/21%/30%\n",
      "\n",
      "=== MODEL ARCHITECTURE ===\n",
      "BiRNN + Self-Attention Architecture:\n",
      "  - RNN Type: LSTM\n",
      "  - Embedding Dimension: 100\n",
      "  - RNN Hidden Dimension: 128\n",
      "  - Number of RNN Layers: 1\n",
      "  - Attention MLP Hidden Layers: [64]\n",
      "  - Dropout: 0.3\n",
      "  - Bidirectional: Yes\n",
      "  - Self-Attention: Yes (MLP-based)\n",
      "\n",
      "=== TRAINING DETAILS ===\n",
      "  - Early stopping patience: 7 epochs\n",
      "  - Gradient clipping: max norm 1.0\n",
      "  - Loss function: Cross-entropy\n",
      "  - Optimizer: Adam\n",
      "  - Learning rate: 0.0005\n",
      "  - Batch size: 32\n",
      "  - Total epochs trained: 8\n"
     ]
    }
   ],
   "source": [
    "print(\"\\n\" + \"=\"*80)\n",
    "print(\"EXERCISE 1 RESULTS SUMMARY\")\n",
    "print(\"=\"*80)\n",
    "\n",
    "print(f\"\\n=== DATASET STATISTICS ===\")\n",
    "print(f\"Total samples: {len(df)}\")\n",
    "print(f\"Training samples: {len(train_data)}\")\n",
    "print(f\"Test samples: {len(test_data)}\")\n",
    "print(f\"Validation samples: {len(X_val_seq)}\")\n",
    "print(f\"Vocabulary size: {len(word_to_idx)}\")\n",
    "print(f\"Maximum sequence length: {X_train_seq.shape[1]}\")\n",
    "print(f\"Average document length (training): {avg_train_length:.1f} words\")\n",
    "print(f\"Average document length (test): {avg_test_length:.1f} words\")\n",
    "\n",
    "print(f\"\\n=== PREPROCESSING STEPS ===\")\n",
    "print(\"1. Text tokenization using NLTK\")\n",
    "print(\"2. Stopword and punctuation removal\")\n",
    "print(\"3. Lowercasing and normalization\")\n",
    "print(\"4. Vocabulary building from training data\")\n",
    "print(\"5. Sequence conversion and padding\")\n",
    "print(\"6. Train/validation/test split: 70%/21%/30%\")\n",
    "\n",
    "print(f\"\\n=== MODEL ARCHITECTURE ===\")\n",
    "print(f\"BiRNN + Self-Attention Architecture:\")\n",
    "print(f\"  - RNN Type: {best_rnn_params['rnn_type']}\")\n",
    "print(f\"  - Embedding Dimension: {best_rnn_params['embedding_dim']}\")\n",
    "print(f\"  - RNN Hidden Dimension: {best_rnn_params['rnn_hidden_dim']}\")\n",
    "print(f\"  - Number of RNN Layers: {best_rnn_params['num_rnn_layers']}\")\n",
    "print(f\"  - Attention MLP Hidden Layers: {best_rnn_params['attention_hidden_dims']}\")\n",
    "print(f\"  - Dropout: {best_rnn_params['dropout']}\")\n",
    "print(f\"  - Bidirectional: Yes\")\n",
    "print(f\"  - Self-Attention: Yes (MLP-based)\")\n",
    "\n",
    "print(f\"\\n=== TRAINING DETAILS ===\")\n",
    "print(f\"  - Early stopping patience: 7 epochs\")\n",
    "print(f\"  - Gradient clipping: max norm 1.0\")\n",
    "print(f\"  - Loss function: Cross-entropy\")\n",
    "print(f\"  - Optimizer: Adam\")\n",
    "print(f\"  - Learning rate: {best_rnn_params['learning_rate']}\")\n",
    "print(f\"  - Batch size: {best_rnn_params['batch_size']}\")\n",
    "print(f\"  - Total epochs trained: {len(rnn_train_losses)}\")"
   ]
  }
 ],
 "metadata": {
  "accelerator": "GPU",
  "colab": {
   "gpuType": "T4",
   "provenance": []
  },
  "kernelspec": {
   "display_name": "Python 3 (ipykernel)",
   "language": "python",
   "name": "python3"
  },
  "language_info": {
   "codemirror_mode": {
    "name": "ipython",
    "version": 3
   },
   "file_extension": ".py",
   "mimetype": "text/x-python",
   "name": "python",
   "nbconvert_exporter": "python",
   "pygments_lexer": "ipython3",
   "version": "3.12.7"
  }
 },
 "nbformat": 4,
 "nbformat_minor": 5
}
